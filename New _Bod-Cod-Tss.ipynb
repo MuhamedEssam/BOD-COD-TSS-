{
 "cells": [
  {
   "cell_type": "markdown",
   "metadata": {
    "slideshow": {
     "slide_type": "slide"
    }
   },
   "source": [
    "## 1. The Goal of This Project is to predict The Efficeny of BOD , COD , TSS"
   ]
  },
  {
   "cell_type": "markdown",
   "metadata": {
    "slideshow": {
     "slide_type": "slide"
    }
   },
   "source": [
    "## All Packages you need for this "
   ]
  },
  {
   "cell_type": "code",
   "execution_count": 81,
   "metadata": {
    "slideshow": {
     "slide_type": "subslide"
    }
   },
   "outputs": [],
   "source": [
    "# Core\n",
    "import numpy as np\n",
    "import pandas as pd \n",
    "import matplotlib.pyplot as plt \n",
    "import seaborn as sns; sns.set()\n",
    "import sklearn\n",
    "import xlrd\n",
    "\n",
    "# Pre Processing\n",
    "from sklearn.model_selection import train_test_split\n",
    "\n",
    "from sklearn.preprocessing import StandardScaler\n",
    "from sklearn.preprocessing import MinMaxScaler\n",
    "from sklearn.decomposition import PCA\n",
    "\n",
    "# Error Metrics \n",
    "from sklearn.metrics import mean_absolute_error\n",
    "from sklearn.metrics import mean_squared_error\n",
    "from sklearn.metrics import r2_score\n",
    "\n",
    "# Regressors\n",
    "from sklearn.ensemble import GradientBoostingRegressor\n",
    "from sklearn.ensemble import RandomForestRegressor\n",
    "from sklearn.linear_model import LinearRegression\n",
    "from sklearn.ensemble import VotingRegressor\n",
    "\n",
    "#Cross Validation \n",
    "from sklearn.model_selection import GridSearchCV"
   ]
  },
  {
   "cell_type": "markdown",
   "metadata": {
    "slideshow": {
     "slide_type": "slide"
    }
   },
   "source": [
    "## 2. Load The Data into a Pandas Frame"
   ]
  },
  {
   "cell_type": "code",
   "execution_count": 82,
   "metadata": {
    "slideshow": {
     "slide_type": "subslide"
    }
   },
   "outputs": [],
   "source": [
    "#For Excel file \n",
    "df= pd.read_excel('finaldata.xlsx')\n",
    "df=df.iloc[:,:-1]\n"
   ]
  },
  {
   "cell_type": "markdown",
   "metadata": {
    "slideshow": {
     "slide_type": "slide"
    }
   },
   "source": [
    "# 3. Perform Data Exploratory Analysis\n",
    "##   Pandas Routine \n"
   ]
  },
  {
   "cell_type": "code",
   "execution_count": 83,
   "metadata": {},
   "outputs": [
    {
     "data": {
      "text/html": [
       "<div>\n",
       "<style scoped>\n",
       "    .dataframe tbody tr th:only-of-type {\n",
       "        vertical-align: middle;\n",
       "    }\n",
       "\n",
       "    .dataframe tbody tr th {\n",
       "        vertical-align: top;\n",
       "    }\n",
       "\n",
       "    .dataframe thead th {\n",
       "        text-align: right;\n",
       "    }\n",
       "</style>\n",
       "<table border=\"1\" class=\"dataframe\">\n",
       "  <thead>\n",
       "    <tr style=\"text-align: right;\">\n",
       "      <th></th>\n",
       "      <th>date</th>\n",
       "      <th>stage</th>\n",
       "      <th>temp</th>\n",
       "      <th>PH</th>\n",
       "      <th>COD</th>\n",
       "      <th>BOD</th>\n",
       "      <th>TDS</th>\n",
       "      <th>TSS</th>\n",
       "      <th>BOD_</th>\n",
       "      <th>COD_</th>\n",
       "      <th>TSS_</th>\n",
       "    </tr>\n",
       "  </thead>\n",
       "  <tbody>\n",
       "    <tr>\n",
       "      <th>0</th>\n",
       "      <td>2018-03-01 00:00:00</td>\n",
       "      <td>influent</td>\n",
       "      <td>17.0</td>\n",
       "      <td>7.5</td>\n",
       "      <td>610.0</td>\n",
       "      <td>355.0</td>\n",
       "      <td>1460.0</td>\n",
       "      <td>310.0</td>\n",
       "      <td>98.0</td>\n",
       "      <td>150.0</td>\n",
       "      <td>75.0</td>\n",
       "    </tr>\n",
       "    <tr>\n",
       "      <th>1</th>\n",
       "      <td>17/1/2018</td>\n",
       "      <td>influent</td>\n",
       "      <td>14.5</td>\n",
       "      <td>7.8</td>\n",
       "      <td>530.0</td>\n",
       "      <td>275.0</td>\n",
       "      <td>1453.0</td>\n",
       "      <td>255.0</td>\n",
       "      <td>68.0</td>\n",
       "      <td>95.0</td>\n",
       "      <td>60.0</td>\n",
       "    </tr>\n",
       "    <tr>\n",
       "      <th>2</th>\n",
       "      <td>27/1/2018</td>\n",
       "      <td>influent</td>\n",
       "      <td>13.7</td>\n",
       "      <td>7.4</td>\n",
       "      <td>730.0</td>\n",
       "      <td>380.0</td>\n",
       "      <td>1813.0</td>\n",
       "      <td>320.0</td>\n",
       "      <td>70.0</td>\n",
       "      <td>110.0</td>\n",
       "      <td>65.0</td>\n",
       "    </tr>\n",
       "    <tr>\n",
       "      <th>3</th>\n",
       "      <td>2018-01-02 00:00:00</td>\n",
       "      <td>influent</td>\n",
       "      <td>14.0</td>\n",
       "      <td>6.9</td>\n",
       "      <td>675.0</td>\n",
       "      <td>385.0</td>\n",
       "      <td>1520.0</td>\n",
       "      <td>340.0</td>\n",
       "      <td>8.7</td>\n",
       "      <td>20.0</td>\n",
       "      <td>73.0</td>\n",
       "    </tr>\n",
       "    <tr>\n",
       "      <th>4</th>\n",
       "      <td>2018-08-02 00:00:00</td>\n",
       "      <td>influent</td>\n",
       "      <td>17.6</td>\n",
       "      <td>6.8</td>\n",
       "      <td>710.0</td>\n",
       "      <td>395.0</td>\n",
       "      <td>1593.0</td>\n",
       "      <td>350.0</td>\n",
       "      <td>78.0</td>\n",
       "      <td>100.0</td>\n",
       "      <td>60.0</td>\n",
       "    </tr>\n",
       "    <tr>\n",
       "      <th>...</th>\n",
       "      <td>...</td>\n",
       "      <td>...</td>\n",
       "      <td>...</td>\n",
       "      <td>...</td>\n",
       "      <td>...</td>\n",
       "      <td>...</td>\n",
       "      <td>...</td>\n",
       "      <td>...</td>\n",
       "      <td>...</td>\n",
       "      <td>...</td>\n",
       "      <td>...</td>\n",
       "    </tr>\n",
       "    <tr>\n",
       "      <th>263</th>\n",
       "      <td>NaN</td>\n",
       "      <td>influent</td>\n",
       "      <td>NaN</td>\n",
       "      <td>NaN</td>\n",
       "      <td>NaN</td>\n",
       "      <td>NaN</td>\n",
       "      <td>NaN</td>\n",
       "      <td>NaN</td>\n",
       "      <td>NaN</td>\n",
       "      <td>NaN</td>\n",
       "      <td>NaN</td>\n",
       "    </tr>\n",
       "    <tr>\n",
       "      <th>264</th>\n",
       "      <td>NaN</td>\n",
       "      <td>influent</td>\n",
       "      <td>NaN</td>\n",
       "      <td>NaN</td>\n",
       "      <td>NaN</td>\n",
       "      <td>NaN</td>\n",
       "      <td>NaN</td>\n",
       "      <td>NaN</td>\n",
       "      <td>NaN</td>\n",
       "      <td>NaN</td>\n",
       "      <td>NaN</td>\n",
       "    </tr>\n",
       "    <tr>\n",
       "      <th>265</th>\n",
       "      <td>NaN</td>\n",
       "      <td>influent</td>\n",
       "      <td>NaN</td>\n",
       "      <td>NaN</td>\n",
       "      <td>NaN</td>\n",
       "      <td>NaN</td>\n",
       "      <td>NaN</td>\n",
       "      <td>NaN</td>\n",
       "      <td>NaN</td>\n",
       "      <td>NaN</td>\n",
       "      <td>NaN</td>\n",
       "    </tr>\n",
       "    <tr>\n",
       "      <th>266</th>\n",
       "      <td>NaN</td>\n",
       "      <td>influent</td>\n",
       "      <td>NaN</td>\n",
       "      <td>NaN</td>\n",
       "      <td>NaN</td>\n",
       "      <td>NaN</td>\n",
       "      <td>NaN</td>\n",
       "      <td>NaN</td>\n",
       "      <td>NaN</td>\n",
       "      <td>NaN</td>\n",
       "      <td>NaN</td>\n",
       "    </tr>\n",
       "    <tr>\n",
       "      <th>267</th>\n",
       "      <td>NaN</td>\n",
       "      <td>influent</td>\n",
       "      <td>NaN</td>\n",
       "      <td>NaN</td>\n",
       "      <td>NaN</td>\n",
       "      <td>NaN</td>\n",
       "      <td>NaN</td>\n",
       "      <td>NaN</td>\n",
       "      <td>NaN</td>\n",
       "      <td>NaN</td>\n",
       "      <td>NaN</td>\n",
       "    </tr>\n",
       "  </tbody>\n",
       "</table>\n",
       "<p>268 rows × 11 columns</p>\n",
       "</div>"
      ],
      "text/plain": [
       "                    date     stage  temp   PH    COD    BOD     TDS    TSS  \\\n",
       "0    2018-03-01 00:00:00  influent  17.0  7.5  610.0  355.0  1460.0  310.0   \n",
       "1              17/1/2018  influent  14.5  7.8  530.0  275.0  1453.0  255.0   \n",
       "2              27/1/2018  influent  13.7  7.4  730.0  380.0  1813.0  320.0   \n",
       "3    2018-01-02 00:00:00  influent  14.0  6.9  675.0  385.0  1520.0  340.0   \n",
       "4    2018-08-02 00:00:00  influent  17.6  6.8  710.0  395.0  1593.0  350.0   \n",
       "..                   ...       ...   ...  ...    ...    ...     ...    ...   \n",
       "263                  NaN  influent   NaN  NaN    NaN    NaN     NaN    NaN   \n",
       "264                  NaN  influent   NaN  NaN    NaN    NaN     NaN    NaN   \n",
       "265                  NaN  influent   NaN  NaN    NaN    NaN     NaN    NaN   \n",
       "266                  NaN  influent   NaN  NaN    NaN    NaN     NaN    NaN   \n",
       "267                  NaN  influent   NaN  NaN    NaN    NaN     NaN    NaN   \n",
       "\n",
       "     BOD_   COD_  TSS_  \n",
       "0    98.0  150.0  75.0  \n",
       "1    68.0   95.0  60.0  \n",
       "2    70.0  110.0  65.0  \n",
       "3     8.7   20.0  73.0  \n",
       "4    78.0  100.0  60.0  \n",
       "..    ...    ...   ...  \n",
       "263   NaN    NaN   NaN  \n",
       "264   NaN    NaN   NaN  \n",
       "265   NaN    NaN   NaN  \n",
       "266   NaN    NaN   NaN  \n",
       "267   NaN    NaN   NaN  \n",
       "\n",
       "[268 rows x 11 columns]"
      ]
     },
     "execution_count": 83,
     "metadata": {},
     "output_type": "execute_result"
    }
   ],
   "source": [
    "df"
   ]
  },
  {
   "cell_type": "markdown",
   "metadata": {},
   "source": [
    "### Check For Missing Data "
   ]
  },
  {
   "cell_type": "code",
   "execution_count": 84,
   "metadata": {},
   "outputs": [
    {
     "name": "stdout",
     "output_type": "stream",
     "text": [
      "TSS      155\n",
      "date     154\n",
      "temp     154\n",
      "PH       154\n",
      "COD      154\n",
      "BOD      154\n",
      "TDS      154\n",
      "BOD_     154\n",
      "COD_     154\n",
      "TSS_     154\n",
      "stage      0\n",
      "dtype: int64\n"
     ]
    }
   ],
   "source": [
    "print(df.isnull().sum().sort_values(ascending=False))"
   ]
  },
  {
   "cell_type": "markdown",
   "metadata": {},
   "source": [
    "### Drop Rows with None Values "
   ]
  },
  {
   "cell_type": "code",
   "execution_count": 85,
   "metadata": {},
   "outputs": [
    {
     "data": {
      "text/html": [
       "<div>\n",
       "<style scoped>\n",
       "    .dataframe tbody tr th:only-of-type {\n",
       "        vertical-align: middle;\n",
       "    }\n",
       "\n",
       "    .dataframe tbody tr th {\n",
       "        vertical-align: top;\n",
       "    }\n",
       "\n",
       "    .dataframe thead th {\n",
       "        text-align: right;\n",
       "    }\n",
       "</style>\n",
       "<table border=\"1\" class=\"dataframe\">\n",
       "  <thead>\n",
       "    <tr style=\"text-align: right;\">\n",
       "      <th></th>\n",
       "      <th>date</th>\n",
       "      <th>stage</th>\n",
       "      <th>temp</th>\n",
       "      <th>PH</th>\n",
       "      <th>COD</th>\n",
       "      <th>BOD</th>\n",
       "      <th>TDS</th>\n",
       "      <th>TSS</th>\n",
       "      <th>BOD_</th>\n",
       "      <th>COD_</th>\n",
       "      <th>TSS_</th>\n",
       "    </tr>\n",
       "  </thead>\n",
       "  <tbody>\n",
       "    <tr>\n",
       "      <th>0</th>\n",
       "      <td>2018-03-01 00:00:00</td>\n",
       "      <td>influent</td>\n",
       "      <td>17.0</td>\n",
       "      <td>7.50</td>\n",
       "      <td>610.0</td>\n",
       "      <td>355.0</td>\n",
       "      <td>1460.0</td>\n",
       "      <td>310.0</td>\n",
       "      <td>98.0</td>\n",
       "      <td>150.0</td>\n",
       "      <td>75.0</td>\n",
       "    </tr>\n",
       "    <tr>\n",
       "      <th>1</th>\n",
       "      <td>17/1/2018</td>\n",
       "      <td>influent</td>\n",
       "      <td>14.5</td>\n",
       "      <td>7.80</td>\n",
       "      <td>530.0</td>\n",
       "      <td>275.0</td>\n",
       "      <td>1453.0</td>\n",
       "      <td>255.0</td>\n",
       "      <td>68.0</td>\n",
       "      <td>95.0</td>\n",
       "      <td>60.0</td>\n",
       "    </tr>\n",
       "    <tr>\n",
       "      <th>2</th>\n",
       "      <td>27/1/2018</td>\n",
       "      <td>influent</td>\n",
       "      <td>13.7</td>\n",
       "      <td>7.40</td>\n",
       "      <td>730.0</td>\n",
       "      <td>380.0</td>\n",
       "      <td>1813.0</td>\n",
       "      <td>320.0</td>\n",
       "      <td>70.0</td>\n",
       "      <td>110.0</td>\n",
       "      <td>65.0</td>\n",
       "    </tr>\n",
       "    <tr>\n",
       "      <th>3</th>\n",
       "      <td>2018-01-02 00:00:00</td>\n",
       "      <td>influent</td>\n",
       "      <td>14.0</td>\n",
       "      <td>6.90</td>\n",
       "      <td>675.0</td>\n",
       "      <td>385.0</td>\n",
       "      <td>1520.0</td>\n",
       "      <td>340.0</td>\n",
       "      <td>8.7</td>\n",
       "      <td>20.0</td>\n",
       "      <td>73.0</td>\n",
       "    </tr>\n",
       "    <tr>\n",
       "      <th>4</th>\n",
       "      <td>2018-08-02 00:00:00</td>\n",
       "      <td>influent</td>\n",
       "      <td>17.6</td>\n",
       "      <td>6.80</td>\n",
       "      <td>710.0</td>\n",
       "      <td>395.0</td>\n",
       "      <td>1593.0</td>\n",
       "      <td>350.0</td>\n",
       "      <td>78.0</td>\n",
       "      <td>100.0</td>\n",
       "      <td>60.0</td>\n",
       "    </tr>\n",
       "    <tr>\n",
       "      <th>...</th>\n",
       "      <td>...</td>\n",
       "      <td>...</td>\n",
       "      <td>...</td>\n",
       "      <td>...</td>\n",
       "      <td>...</td>\n",
       "      <td>...</td>\n",
       "      <td>...</td>\n",
       "      <td>...</td>\n",
       "      <td>...</td>\n",
       "      <td>...</td>\n",
       "      <td>...</td>\n",
       "    </tr>\n",
       "    <tr>\n",
       "      <th>109</th>\n",
       "      <td>2020-05-07 00:00:00</td>\n",
       "      <td>influent</td>\n",
       "      <td>28.4</td>\n",
       "      <td>6.82</td>\n",
       "      <td>704.0</td>\n",
       "      <td>410.0</td>\n",
       "      <td>1315.0</td>\n",
       "      <td>372.0</td>\n",
       "      <td>32.0</td>\n",
       "      <td>62.0</td>\n",
       "      <td>70.0</td>\n",
       "    </tr>\n",
       "    <tr>\n",
       "      <th>110</th>\n",
       "      <td>2020-12-07 00:00:00</td>\n",
       "      <td>influent</td>\n",
       "      <td>25.5</td>\n",
       "      <td>6.93</td>\n",
       "      <td>737.0</td>\n",
       "      <td>310.0</td>\n",
       "      <td>1260.0</td>\n",
       "      <td>345.0</td>\n",
       "      <td>52.0</td>\n",
       "      <td>74.0</td>\n",
       "      <td>86.0</td>\n",
       "    </tr>\n",
       "    <tr>\n",
       "      <th>111</th>\n",
       "      <td>19/7/2020</td>\n",
       "      <td>influent</td>\n",
       "      <td>26.1</td>\n",
       "      <td>7.36</td>\n",
       "      <td>610.0</td>\n",
       "      <td>340.0</td>\n",
       "      <td>2330.0</td>\n",
       "      <td>278.0</td>\n",
       "      <td>42.0</td>\n",
       "      <td>72.0</td>\n",
       "      <td>58.0</td>\n",
       "    </tr>\n",
       "    <tr>\n",
       "      <th>112</th>\n",
       "      <td>19/8/2020</td>\n",
       "      <td>influent</td>\n",
       "      <td>28.9</td>\n",
       "      <td>7.27</td>\n",
       "      <td>650.0</td>\n",
       "      <td>321.0</td>\n",
       "      <td>1130.0</td>\n",
       "      <td>790.0</td>\n",
       "      <td>72.0</td>\n",
       "      <td>135.0</td>\n",
       "      <td>100.0</td>\n",
       "    </tr>\n",
       "    <tr>\n",
       "      <th>113</th>\n",
       "      <td>27/8/2020</td>\n",
       "      <td>influent</td>\n",
       "      <td>29.0</td>\n",
       "      <td>7.58</td>\n",
       "      <td>670.0</td>\n",
       "      <td>318.0</td>\n",
       "      <td>972.0</td>\n",
       "      <td>250.0</td>\n",
       "      <td>70.0</td>\n",
       "      <td>125.0</td>\n",
       "      <td>95.0</td>\n",
       "    </tr>\n",
       "  </tbody>\n",
       "</table>\n",
       "<p>113 rows × 11 columns</p>\n",
       "</div>"
      ],
      "text/plain": [
       "                    date     stage  temp    PH    COD    BOD     TDS    TSS  \\\n",
       "0    2018-03-01 00:00:00  influent  17.0  7.50  610.0  355.0  1460.0  310.0   \n",
       "1              17/1/2018  influent  14.5  7.80  530.0  275.0  1453.0  255.0   \n",
       "2              27/1/2018  influent  13.7  7.40  730.0  380.0  1813.0  320.0   \n",
       "3    2018-01-02 00:00:00  influent  14.0  6.90  675.0  385.0  1520.0  340.0   \n",
       "4    2018-08-02 00:00:00  influent  17.6  6.80  710.0  395.0  1593.0  350.0   \n",
       "..                   ...       ...   ...   ...    ...    ...     ...    ...   \n",
       "109  2020-05-07 00:00:00  influent  28.4  6.82  704.0  410.0  1315.0  372.0   \n",
       "110  2020-12-07 00:00:00  influent  25.5  6.93  737.0  310.0  1260.0  345.0   \n",
       "111            19/7/2020  influent  26.1  7.36  610.0  340.0  2330.0  278.0   \n",
       "112            19/8/2020  influent  28.9  7.27  650.0  321.0  1130.0  790.0   \n",
       "113            27/8/2020  influent  29.0  7.58  670.0  318.0   972.0  250.0   \n",
       "\n",
       "     BOD_   COD_   TSS_  \n",
       "0    98.0  150.0   75.0  \n",
       "1    68.0   95.0   60.0  \n",
       "2    70.0  110.0   65.0  \n",
       "3     8.7   20.0   73.0  \n",
       "4    78.0  100.0   60.0  \n",
       "..    ...    ...    ...  \n",
       "109  32.0   62.0   70.0  \n",
       "110  52.0   74.0   86.0  \n",
       "111  42.0   72.0   58.0  \n",
       "112  72.0  135.0  100.0  \n",
       "113  70.0  125.0   95.0  \n",
       "\n",
       "[113 rows x 11 columns]"
      ]
     },
     "execution_count": 85,
     "metadata": {},
     "output_type": "execute_result"
    }
   ],
   "source": [
    "df=df.dropna()\n",
    "df"
   ]
  },
  {
   "cell_type": "markdown",
   "metadata": {},
   "source": [
    "### Correct Index"
   ]
  },
  {
   "cell_type": "code",
   "execution_count": 86,
   "metadata": {},
   "outputs": [
    {
     "data": {
      "text/html": [
       "<div>\n",
       "<style scoped>\n",
       "    .dataframe tbody tr th:only-of-type {\n",
       "        vertical-align: middle;\n",
       "    }\n",
       "\n",
       "    .dataframe tbody tr th {\n",
       "        vertical-align: top;\n",
       "    }\n",
       "\n",
       "    .dataframe thead th {\n",
       "        text-align: right;\n",
       "    }\n",
       "</style>\n",
       "<table border=\"1\" class=\"dataframe\">\n",
       "  <thead>\n",
       "    <tr style=\"text-align: right;\">\n",
       "      <th></th>\n",
       "      <th>date</th>\n",
       "      <th>stage</th>\n",
       "      <th>temp</th>\n",
       "      <th>PH</th>\n",
       "      <th>COD</th>\n",
       "      <th>BOD</th>\n",
       "      <th>TDS</th>\n",
       "      <th>TSS</th>\n",
       "      <th>BOD_</th>\n",
       "      <th>COD_</th>\n",
       "      <th>TSS_</th>\n",
       "    </tr>\n",
       "  </thead>\n",
       "  <tbody>\n",
       "    <tr>\n",
       "      <th>1</th>\n",
       "      <td>17/1/2018</td>\n",
       "      <td>influent</td>\n",
       "      <td>14.5</td>\n",
       "      <td>7.80</td>\n",
       "      <td>530.0</td>\n",
       "      <td>275.0</td>\n",
       "      <td>1453.0</td>\n",
       "      <td>255.0</td>\n",
       "      <td>68.0</td>\n",
       "      <td>95.0</td>\n",
       "      <td>60.0</td>\n",
       "    </tr>\n",
       "    <tr>\n",
       "      <th>2</th>\n",
       "      <td>27/1/2018</td>\n",
       "      <td>influent</td>\n",
       "      <td>13.7</td>\n",
       "      <td>7.40</td>\n",
       "      <td>730.0</td>\n",
       "      <td>380.0</td>\n",
       "      <td>1813.0</td>\n",
       "      <td>320.0</td>\n",
       "      <td>70.0</td>\n",
       "      <td>110.0</td>\n",
       "      <td>65.0</td>\n",
       "    </tr>\n",
       "    <tr>\n",
       "      <th>3</th>\n",
       "      <td>2018-01-02 00:00:00</td>\n",
       "      <td>influent</td>\n",
       "      <td>14.0</td>\n",
       "      <td>6.90</td>\n",
       "      <td>675.0</td>\n",
       "      <td>385.0</td>\n",
       "      <td>1520.0</td>\n",
       "      <td>340.0</td>\n",
       "      <td>8.7</td>\n",
       "      <td>20.0</td>\n",
       "      <td>73.0</td>\n",
       "    </tr>\n",
       "    <tr>\n",
       "      <th>4</th>\n",
       "      <td>2018-08-02 00:00:00</td>\n",
       "      <td>influent</td>\n",
       "      <td>17.6</td>\n",
       "      <td>6.80</td>\n",
       "      <td>710.0</td>\n",
       "      <td>395.0</td>\n",
       "      <td>1593.0</td>\n",
       "      <td>350.0</td>\n",
       "      <td>78.0</td>\n",
       "      <td>100.0</td>\n",
       "      <td>60.0</td>\n",
       "    </tr>\n",
       "    <tr>\n",
       "      <th>5</th>\n",
       "      <td>14/2/2018</td>\n",
       "      <td>influent</td>\n",
       "      <td>13.8</td>\n",
       "      <td>6.90</td>\n",
       "      <td>610.0</td>\n",
       "      <td>390.0</td>\n",
       "      <td>1221.0</td>\n",
       "      <td>345.0</td>\n",
       "      <td>88.0</td>\n",
       "      <td>110.0</td>\n",
       "      <td>75.0</td>\n",
       "    </tr>\n",
       "    <tr>\n",
       "      <th>...</th>\n",
       "      <td>...</td>\n",
       "      <td>...</td>\n",
       "      <td>...</td>\n",
       "      <td>...</td>\n",
       "      <td>...</td>\n",
       "      <td>...</td>\n",
       "      <td>...</td>\n",
       "      <td>...</td>\n",
       "      <td>...</td>\n",
       "      <td>...</td>\n",
       "      <td>...</td>\n",
       "    </tr>\n",
       "    <tr>\n",
       "      <th>108</th>\n",
       "      <td>2020-05-07 00:00:00</td>\n",
       "      <td>influent</td>\n",
       "      <td>28.4</td>\n",
       "      <td>6.82</td>\n",
       "      <td>704.0</td>\n",
       "      <td>410.0</td>\n",
       "      <td>1315.0</td>\n",
       "      <td>372.0</td>\n",
       "      <td>32.0</td>\n",
       "      <td>62.0</td>\n",
       "      <td>70.0</td>\n",
       "    </tr>\n",
       "    <tr>\n",
       "      <th>109</th>\n",
       "      <td>2020-12-07 00:00:00</td>\n",
       "      <td>influent</td>\n",
       "      <td>25.5</td>\n",
       "      <td>6.93</td>\n",
       "      <td>737.0</td>\n",
       "      <td>310.0</td>\n",
       "      <td>1260.0</td>\n",
       "      <td>345.0</td>\n",
       "      <td>52.0</td>\n",
       "      <td>74.0</td>\n",
       "      <td>86.0</td>\n",
       "    </tr>\n",
       "    <tr>\n",
       "      <th>110</th>\n",
       "      <td>19/7/2020</td>\n",
       "      <td>influent</td>\n",
       "      <td>26.1</td>\n",
       "      <td>7.36</td>\n",
       "      <td>610.0</td>\n",
       "      <td>340.0</td>\n",
       "      <td>2330.0</td>\n",
       "      <td>278.0</td>\n",
       "      <td>42.0</td>\n",
       "      <td>72.0</td>\n",
       "      <td>58.0</td>\n",
       "    </tr>\n",
       "    <tr>\n",
       "      <th>111</th>\n",
       "      <td>19/8/2020</td>\n",
       "      <td>influent</td>\n",
       "      <td>28.9</td>\n",
       "      <td>7.27</td>\n",
       "      <td>650.0</td>\n",
       "      <td>321.0</td>\n",
       "      <td>1130.0</td>\n",
       "      <td>790.0</td>\n",
       "      <td>72.0</td>\n",
       "      <td>135.0</td>\n",
       "      <td>100.0</td>\n",
       "    </tr>\n",
       "    <tr>\n",
       "      <th>112</th>\n",
       "      <td>27/8/2020</td>\n",
       "      <td>influent</td>\n",
       "      <td>29.0</td>\n",
       "      <td>7.58</td>\n",
       "      <td>670.0</td>\n",
       "      <td>318.0</td>\n",
       "      <td>972.0</td>\n",
       "      <td>250.0</td>\n",
       "      <td>70.0</td>\n",
       "      <td>125.0</td>\n",
       "      <td>95.0</td>\n",
       "    </tr>\n",
       "  </tbody>\n",
       "</table>\n",
       "<p>112 rows × 11 columns</p>\n",
       "</div>"
      ],
      "text/plain": [
       "                    date     stage  temp    PH    COD    BOD     TDS    TSS  \\\n",
       "1              17/1/2018  influent  14.5  7.80  530.0  275.0  1453.0  255.0   \n",
       "2              27/1/2018  influent  13.7  7.40  730.0  380.0  1813.0  320.0   \n",
       "3    2018-01-02 00:00:00  influent  14.0  6.90  675.0  385.0  1520.0  340.0   \n",
       "4    2018-08-02 00:00:00  influent  17.6  6.80  710.0  395.0  1593.0  350.0   \n",
       "5              14/2/2018  influent  13.8  6.90  610.0  390.0  1221.0  345.0   \n",
       "..                   ...       ...   ...   ...    ...    ...     ...    ...   \n",
       "108  2020-05-07 00:00:00  influent  28.4  6.82  704.0  410.0  1315.0  372.0   \n",
       "109  2020-12-07 00:00:00  influent  25.5  6.93  737.0  310.0  1260.0  345.0   \n",
       "110            19/7/2020  influent  26.1  7.36  610.0  340.0  2330.0  278.0   \n",
       "111            19/8/2020  influent  28.9  7.27  650.0  321.0  1130.0  790.0   \n",
       "112            27/8/2020  influent  29.0  7.58  670.0  318.0   972.0  250.0   \n",
       "\n",
       "     BOD_   COD_   TSS_  \n",
       "1    68.0   95.0   60.0  \n",
       "2    70.0  110.0   65.0  \n",
       "3     8.7   20.0   73.0  \n",
       "4    78.0  100.0   60.0  \n",
       "5    88.0  110.0   75.0  \n",
       "..    ...    ...    ...  \n",
       "108  32.0   62.0   70.0  \n",
       "109  52.0   74.0   86.0  \n",
       "110  42.0   72.0   58.0  \n",
       "111  72.0  135.0  100.0  \n",
       "112  70.0  125.0   95.0  \n",
       "\n",
       "[112 rows x 11 columns]"
      ]
     },
     "execution_count": 86,
     "metadata": {},
     "output_type": "execute_result"
    }
   ],
   "source": [
    "df=df.reset_index(drop=True)\n",
    "df=df[1:]\n",
    "df"
   ]
  },
  {
   "cell_type": "markdown",
   "metadata": {},
   "source": [
    "### Describe Your Data\n"
   ]
  },
  {
   "cell_type": "code",
   "execution_count": 87,
   "metadata": {},
   "outputs": [
    {
     "data": {
      "text/html": [
       "<div>\n",
       "<style scoped>\n",
       "    .dataframe tbody tr th:only-of-type {\n",
       "        vertical-align: middle;\n",
       "    }\n",
       "\n",
       "    .dataframe tbody tr th {\n",
       "        vertical-align: top;\n",
       "    }\n",
       "\n",
       "    .dataframe thead th {\n",
       "        text-align: right;\n",
       "    }\n",
       "</style>\n",
       "<table border=\"1\" class=\"dataframe\">\n",
       "  <thead>\n",
       "    <tr style=\"text-align: right;\">\n",
       "      <th></th>\n",
       "      <th>temp</th>\n",
       "      <th>PH</th>\n",
       "      <th>COD</th>\n",
       "      <th>BOD</th>\n",
       "      <th>TDS</th>\n",
       "      <th>TSS</th>\n",
       "      <th>BOD_</th>\n",
       "      <th>COD_</th>\n",
       "      <th>TSS_</th>\n",
       "    </tr>\n",
       "  </thead>\n",
       "  <tbody>\n",
       "    <tr>\n",
       "      <th>count</th>\n",
       "      <td>112.000000</td>\n",
       "      <td>112.000000</td>\n",
       "      <td>112.000000</td>\n",
       "      <td>112.000000</td>\n",
       "      <td>112.000000</td>\n",
       "      <td>112.000000</td>\n",
       "      <td>112.000000</td>\n",
       "      <td>112.000000</td>\n",
       "      <td>112.000000</td>\n",
       "    </tr>\n",
       "    <tr>\n",
       "      <th>mean</th>\n",
       "      <td>22.740179</td>\n",
       "      <td>7.033214</td>\n",
       "      <td>671.285714</td>\n",
       "      <td>386.321429</td>\n",
       "      <td>1237.535714</td>\n",
       "      <td>341.428571</td>\n",
       "      <td>75.890179</td>\n",
       "      <td>126.035714</td>\n",
       "      <td>68.955357</td>\n",
       "    </tr>\n",
       "    <tr>\n",
       "      <th>std</th>\n",
       "      <td>4.820386</td>\n",
       "      <td>0.498770</td>\n",
       "      <td>149.533715</td>\n",
       "      <td>84.062527</td>\n",
       "      <td>326.834336</td>\n",
       "      <td>110.710621</td>\n",
       "      <td>26.334463</td>\n",
       "      <td>48.072379</td>\n",
       "      <td>22.186916</td>\n",
       "    </tr>\n",
       "    <tr>\n",
       "      <th>min</th>\n",
       "      <td>13.700000</td>\n",
       "      <td>3.670000</td>\n",
       "      <td>60.000000</td>\n",
       "      <td>130.000000</td>\n",
       "      <td>111.000000</td>\n",
       "      <td>93.000000</td>\n",
       "      <td>8.700000</td>\n",
       "      <td>20.000000</td>\n",
       "      <td>24.000000</td>\n",
       "    </tr>\n",
       "    <tr>\n",
       "      <th>25%</th>\n",
       "      <td>18.175000</td>\n",
       "      <td>6.800000</td>\n",
       "      <td>610.000000</td>\n",
       "      <td>337.000000</td>\n",
       "      <td>1032.500000</td>\n",
       "      <td>250.000000</td>\n",
       "      <td>63.000000</td>\n",
       "      <td>95.750000</td>\n",
       "      <td>54.750000</td>\n",
       "    </tr>\n",
       "    <tr>\n",
       "      <th>50%</th>\n",
       "      <td>23.550000</td>\n",
       "      <td>7.100000</td>\n",
       "      <td>690.000000</td>\n",
       "      <td>390.000000</td>\n",
       "      <td>1236.000000</td>\n",
       "      <td>345.000000</td>\n",
       "      <td>72.000000</td>\n",
       "      <td>120.000000</td>\n",
       "      <td>69.000000</td>\n",
       "    </tr>\n",
       "    <tr>\n",
       "      <th>75%</th>\n",
       "      <td>27.050000</td>\n",
       "      <td>7.280000</td>\n",
       "      <td>752.500000</td>\n",
       "      <td>430.000000</td>\n",
       "      <td>1432.000000</td>\n",
       "      <td>406.000000</td>\n",
       "      <td>88.250000</td>\n",
       "      <td>150.000000</td>\n",
       "      <td>83.500000</td>\n",
       "    </tr>\n",
       "    <tr>\n",
       "      <th>max</th>\n",
       "      <td>34.000000</td>\n",
       "      <td>8.630000</td>\n",
       "      <td>1040.000000</td>\n",
       "      <td>570.000000</td>\n",
       "      <td>2330.000000</td>\n",
       "      <td>790.000000</td>\n",
       "      <td>185.000000</td>\n",
       "      <td>360.000000</td>\n",
       "      <td>125.000000</td>\n",
       "    </tr>\n",
       "  </tbody>\n",
       "</table>\n",
       "</div>"
      ],
      "text/plain": [
       "             temp          PH          COD         BOD          TDS  \\\n",
       "count  112.000000  112.000000   112.000000  112.000000   112.000000   \n",
       "mean    22.740179    7.033214   671.285714  386.321429  1237.535714   \n",
       "std      4.820386    0.498770   149.533715   84.062527   326.834336   \n",
       "min     13.700000    3.670000    60.000000  130.000000   111.000000   \n",
       "25%     18.175000    6.800000   610.000000  337.000000  1032.500000   \n",
       "50%     23.550000    7.100000   690.000000  390.000000  1236.000000   \n",
       "75%     27.050000    7.280000   752.500000  430.000000  1432.000000   \n",
       "max     34.000000    8.630000  1040.000000  570.000000  2330.000000   \n",
       "\n",
       "              TSS        BOD_        COD_        TSS_  \n",
       "count  112.000000  112.000000  112.000000  112.000000  \n",
       "mean   341.428571   75.890179  126.035714   68.955357  \n",
       "std    110.710621   26.334463   48.072379   22.186916  \n",
       "min     93.000000    8.700000   20.000000   24.000000  \n",
       "25%    250.000000   63.000000   95.750000   54.750000  \n",
       "50%    345.000000   72.000000  120.000000   69.000000  \n",
       "75%    406.000000   88.250000  150.000000   83.500000  \n",
       "max    790.000000  185.000000  360.000000  125.000000  "
      ]
     },
     "execution_count": 87,
     "metadata": {},
     "output_type": "execute_result"
    }
   ],
   "source": [
    "df.describe()"
   ]
  },
  {
   "cell_type": "code",
   "execution_count": 88,
   "metadata": {},
   "outputs": [
    {
     "data": {
      "text/plain": [
       "array(['influent', 'influent', 'influent', 'influent', 'influent',\n",
       "       'influent', 'influent', 'influent', 'influent', 'influent',\n",
       "       'influent', 'influent', 'influent', 'influent', 'influent',\n",
       "       'influent', 'influent', 'influent', 'influent', 'influent',\n",
       "       'influent', 'influent', 'influent', 'influent', 'influent',\n",
       "       'influent', 'influent', 'influent', 'influent', 'influent',\n",
       "       'influent', 'influent', 'influent', 'influent', 'influent',\n",
       "       'influent', 'influent', 'influent', 'influent', 'influent',\n",
       "       'influent', 'influent', 'influent', 'influent', 'influent',\n",
       "       'influent', 'influent', 'influent', 'influent', 'influent',\n",
       "       'influent', 'influent', 'influent', 'influent', 'influent',\n",
       "       'influent', 'influent', 'influent', 'influent', 'influent',\n",
       "       'influent', 'influent', 'influent', 'influent', 'influent',\n",
       "       'influent', 'influent', 'influent', 'influent', 'influent',\n",
       "       'influent', 'influent', 'influent', 'influent', 'influent',\n",
       "       'influent', 'influent', 'influent', 'influent', 'influent',\n",
       "       'influent', 'influent', 'influent', 'influent', 'influent',\n",
       "       'influent', 'influent', 'influent', 'influent', 'influent',\n",
       "       'influent', 'influent', 'influent', 'influent', 'influent',\n",
       "       'influent', 'influent', 'influent', 'influent', 'influent',\n",
       "       'influent', 'influent', 'influent', 'influent', 'influent',\n",
       "       'influent', 'influent', 'influent', 'influent', 'influent',\n",
       "       'influent', 'influent'], dtype=object)"
      ]
     },
     "execution_count": 88,
     "metadata": {},
     "output_type": "execute_result"
    }
   ],
   "source": [
    "df['stage'].values"
   ]
  },
  {
   "cell_type": "markdown",
   "metadata": {},
   "source": [
    "> All the Column has the same Value  so we will drop it"
   ]
  },
  {
   "cell_type": "markdown",
   "metadata": {},
   "source": [
    "#### Drop Specific Columns"
   ]
  },
  {
   "cell_type": "code",
   "execution_count": 89,
   "metadata": {},
   "outputs": [
    {
     "data": {
      "text/html": [
       "<div>\n",
       "<style scoped>\n",
       "    .dataframe tbody tr th:only-of-type {\n",
       "        vertical-align: middle;\n",
       "    }\n",
       "\n",
       "    .dataframe tbody tr th {\n",
       "        vertical-align: top;\n",
       "    }\n",
       "\n",
       "    .dataframe thead th {\n",
       "        text-align: right;\n",
       "    }\n",
       "</style>\n",
       "<table border=\"1\" class=\"dataframe\">\n",
       "  <thead>\n",
       "    <tr style=\"text-align: right;\">\n",
       "      <th></th>\n",
       "      <th>date</th>\n",
       "      <th>temp</th>\n",
       "      <th>PH</th>\n",
       "      <th>COD</th>\n",
       "      <th>BOD</th>\n",
       "      <th>TDS</th>\n",
       "      <th>TSS</th>\n",
       "      <th>BOD_</th>\n",
       "      <th>COD_</th>\n",
       "      <th>TSS_</th>\n",
       "    </tr>\n",
       "  </thead>\n",
       "  <tbody>\n",
       "    <tr>\n",
       "      <th>1</th>\n",
       "      <td>17/1/2018</td>\n",
       "      <td>14.5</td>\n",
       "      <td>7.80</td>\n",
       "      <td>530.0</td>\n",
       "      <td>275.0</td>\n",
       "      <td>1453.0</td>\n",
       "      <td>255.0</td>\n",
       "      <td>68.0</td>\n",
       "      <td>95.0</td>\n",
       "      <td>60.0</td>\n",
       "    </tr>\n",
       "    <tr>\n",
       "      <th>2</th>\n",
       "      <td>27/1/2018</td>\n",
       "      <td>13.7</td>\n",
       "      <td>7.40</td>\n",
       "      <td>730.0</td>\n",
       "      <td>380.0</td>\n",
       "      <td>1813.0</td>\n",
       "      <td>320.0</td>\n",
       "      <td>70.0</td>\n",
       "      <td>110.0</td>\n",
       "      <td>65.0</td>\n",
       "    </tr>\n",
       "    <tr>\n",
       "      <th>3</th>\n",
       "      <td>2018-01-02 00:00:00</td>\n",
       "      <td>14.0</td>\n",
       "      <td>6.90</td>\n",
       "      <td>675.0</td>\n",
       "      <td>385.0</td>\n",
       "      <td>1520.0</td>\n",
       "      <td>340.0</td>\n",
       "      <td>8.7</td>\n",
       "      <td>20.0</td>\n",
       "      <td>73.0</td>\n",
       "    </tr>\n",
       "    <tr>\n",
       "      <th>4</th>\n",
       "      <td>2018-08-02 00:00:00</td>\n",
       "      <td>17.6</td>\n",
       "      <td>6.80</td>\n",
       "      <td>710.0</td>\n",
       "      <td>395.0</td>\n",
       "      <td>1593.0</td>\n",
       "      <td>350.0</td>\n",
       "      <td>78.0</td>\n",
       "      <td>100.0</td>\n",
       "      <td>60.0</td>\n",
       "    </tr>\n",
       "    <tr>\n",
       "      <th>5</th>\n",
       "      <td>14/2/2018</td>\n",
       "      <td>13.8</td>\n",
       "      <td>6.90</td>\n",
       "      <td>610.0</td>\n",
       "      <td>390.0</td>\n",
       "      <td>1221.0</td>\n",
       "      <td>345.0</td>\n",
       "      <td>88.0</td>\n",
       "      <td>110.0</td>\n",
       "      <td>75.0</td>\n",
       "    </tr>\n",
       "    <tr>\n",
       "      <th>...</th>\n",
       "      <td>...</td>\n",
       "      <td>...</td>\n",
       "      <td>...</td>\n",
       "      <td>...</td>\n",
       "      <td>...</td>\n",
       "      <td>...</td>\n",
       "      <td>...</td>\n",
       "      <td>...</td>\n",
       "      <td>...</td>\n",
       "      <td>...</td>\n",
       "    </tr>\n",
       "    <tr>\n",
       "      <th>108</th>\n",
       "      <td>2020-05-07 00:00:00</td>\n",
       "      <td>28.4</td>\n",
       "      <td>6.82</td>\n",
       "      <td>704.0</td>\n",
       "      <td>410.0</td>\n",
       "      <td>1315.0</td>\n",
       "      <td>372.0</td>\n",
       "      <td>32.0</td>\n",
       "      <td>62.0</td>\n",
       "      <td>70.0</td>\n",
       "    </tr>\n",
       "    <tr>\n",
       "      <th>109</th>\n",
       "      <td>2020-12-07 00:00:00</td>\n",
       "      <td>25.5</td>\n",
       "      <td>6.93</td>\n",
       "      <td>737.0</td>\n",
       "      <td>310.0</td>\n",
       "      <td>1260.0</td>\n",
       "      <td>345.0</td>\n",
       "      <td>52.0</td>\n",
       "      <td>74.0</td>\n",
       "      <td>86.0</td>\n",
       "    </tr>\n",
       "    <tr>\n",
       "      <th>110</th>\n",
       "      <td>19/7/2020</td>\n",
       "      <td>26.1</td>\n",
       "      <td>7.36</td>\n",
       "      <td>610.0</td>\n",
       "      <td>340.0</td>\n",
       "      <td>2330.0</td>\n",
       "      <td>278.0</td>\n",
       "      <td>42.0</td>\n",
       "      <td>72.0</td>\n",
       "      <td>58.0</td>\n",
       "    </tr>\n",
       "    <tr>\n",
       "      <th>111</th>\n",
       "      <td>19/8/2020</td>\n",
       "      <td>28.9</td>\n",
       "      <td>7.27</td>\n",
       "      <td>650.0</td>\n",
       "      <td>321.0</td>\n",
       "      <td>1130.0</td>\n",
       "      <td>790.0</td>\n",
       "      <td>72.0</td>\n",
       "      <td>135.0</td>\n",
       "      <td>100.0</td>\n",
       "    </tr>\n",
       "    <tr>\n",
       "      <th>112</th>\n",
       "      <td>27/8/2020</td>\n",
       "      <td>29.0</td>\n",
       "      <td>7.58</td>\n",
       "      <td>670.0</td>\n",
       "      <td>318.0</td>\n",
       "      <td>972.0</td>\n",
       "      <td>250.0</td>\n",
       "      <td>70.0</td>\n",
       "      <td>125.0</td>\n",
       "      <td>95.0</td>\n",
       "    </tr>\n",
       "  </tbody>\n",
       "</table>\n",
       "<p>112 rows × 10 columns</p>\n",
       "</div>"
      ],
      "text/plain": [
       "                    date  temp    PH    COD    BOD     TDS    TSS  BOD_  \\\n",
       "1              17/1/2018  14.5  7.80  530.0  275.0  1453.0  255.0  68.0   \n",
       "2              27/1/2018  13.7  7.40  730.0  380.0  1813.0  320.0  70.0   \n",
       "3    2018-01-02 00:00:00  14.0  6.90  675.0  385.0  1520.0  340.0   8.7   \n",
       "4    2018-08-02 00:00:00  17.6  6.80  710.0  395.0  1593.0  350.0  78.0   \n",
       "5              14/2/2018  13.8  6.90  610.0  390.0  1221.0  345.0  88.0   \n",
       "..                   ...   ...   ...    ...    ...     ...    ...   ...   \n",
       "108  2020-05-07 00:00:00  28.4  6.82  704.0  410.0  1315.0  372.0  32.0   \n",
       "109  2020-12-07 00:00:00  25.5  6.93  737.0  310.0  1260.0  345.0  52.0   \n",
       "110            19/7/2020  26.1  7.36  610.0  340.0  2330.0  278.0  42.0   \n",
       "111            19/8/2020  28.9  7.27  650.0  321.0  1130.0  790.0  72.0   \n",
       "112            27/8/2020  29.0  7.58  670.0  318.0   972.0  250.0  70.0   \n",
       "\n",
       "      COD_   TSS_  \n",
       "1     95.0   60.0  \n",
       "2    110.0   65.0  \n",
       "3     20.0   73.0  \n",
       "4    100.0   60.0  \n",
       "5    110.0   75.0  \n",
       "..     ...    ...  \n",
       "108   62.0   70.0  \n",
       "109   74.0   86.0  \n",
       "110   72.0   58.0  \n",
       "111  135.0  100.0  \n",
       "112  125.0   95.0  \n",
       "\n",
       "[112 rows x 10 columns]"
      ]
     },
     "execution_count": 89,
     "metadata": {},
     "output_type": "execute_result"
    }
   ],
   "source": [
    "df=df.drop(['stage'], 1)\n",
    "df"
   ]
  },
  {
   "cell_type": "markdown",
   "metadata": {},
   "source": [
    "## Seaborn Routine"
   ]
  },
  {
   "cell_type": "markdown",
   "metadata": {},
   "source": [
    "### Heat Map"
   ]
  },
  {
   "cell_type": "code",
   "execution_count": 90,
   "metadata": {},
   "outputs": [
    {
     "data": {
      "image/png": "[encoded data removed]",
      "text/plain": [
       "<Figure size 1152x720 with 2 Axes>"
      ]
     },
     "metadata": {},
     "output_type": "display_data"
    }
   ],
   "source": [
    "plt.figure(figsize = (16,10))\n",
    "sns_plot=sns.heatmap(df.corr(),annot= True)\n",
    "plt.show()"
   ]
  },
  {
   "cell_type": "code",
   "execution_count": 91,
   "metadata": {},
   "outputs": [
    {
     "data": {
      "image/png": "[encoded data removed]",
      "text/plain": [
       "<Figure size 576x396 with 1 Axes>"
      ]
     },
     "metadata": {},
     "output_type": "display_data"
    }
   ],
   "source": [
    "sns_plot = sns.lineplot(x='BOD', y='BOD_', data=df)\n"
   ]
  },
  {
   "cell_type": "code",
   "execution_count": 92,
   "metadata": {},
   "outputs": [
    {
     "data": {
      "image/png": "[encoded data removed]",
      "text/plain": [
       "<Figure size 576x396 with 1 Axes>"
      ]
     },
     "metadata": {},
     "output_type": "display_data"
    }
   ],
   "source": [
    "sns_plot = sns.lineplot(x='TSS', y='TSS_', data=df)\n"
   ]
  },
  {
   "cell_type": "code",
   "execution_count": 93,
   "metadata": {},
   "outputs": [
    {
     "data": {
      "image/png": "[encoded data removed]",
      "text/plain": [
       "<Figure size 576x396 with 1 Axes>"
      ]
     },
     "metadata": {},
     "output_type": "display_data"
    }
   ],
   "source": [
    "sns_plot = sns.lineplot(x='COD', y='COD_', data=df)"
   ]
  },
  {
   "cell_type": "markdown",
   "metadata": {},
   "source": [
    "# For The Efficiency of TSS "
   ]
  },
  {
   "cell_type": "markdown",
   "metadata": {
    "slideshow": {
     "slide_type": "slide"
    }
   },
   "source": [
    "## Data Preprocessing\n"
   ]
  },
  {
   "cell_type": "markdown",
   "metadata": {},
   "source": [
    "## Splitting Data "
   ]
  },
  {
   "cell_type": "code",
   "execution_count": 94,
   "metadata": {},
   "outputs": [],
   "source": [
    "TSSdf=df"
   ]
  },
  {
   "cell_type": "code",
   "execution_count": 95,
   "metadata": {},
   "outputs": [],
   "source": [
    "y=TSSdf['TSS_']\n",
    "X=TSSdf.drop(['TSS_','BOD_','COD_','date'],1)"
   ]
  },
  {
   "cell_type": "code",
   "execution_count": 96,
   "metadata": {},
   "outputs": [
    {
     "data": {
      "text/html": [
       "<div>\n",
       "<style scoped>\n",
       "    .dataframe tbody tr th:only-of-type {\n",
       "        vertical-align: middle;\n",
       "    }\n",
       "\n",
       "    .dataframe tbody tr th {\n",
       "        vertical-align: top;\n",
       "    }\n",
       "\n",
       "    .dataframe thead th {\n",
       "        text-align: right;\n",
       "    }\n",
       "</style>\n",
       "<table border=\"1\" class=\"dataframe\">\n",
       "  <thead>\n",
       "    <tr style=\"text-align: right;\">\n",
       "      <th></th>\n",
       "      <th>temp</th>\n",
       "      <th>PH</th>\n",
       "      <th>COD</th>\n",
       "      <th>BOD</th>\n",
       "      <th>TDS</th>\n",
       "      <th>TSS</th>\n",
       "    </tr>\n",
       "  </thead>\n",
       "  <tbody>\n",
       "    <tr>\n",
       "      <th>1</th>\n",
       "      <td>14.5</td>\n",
       "      <td>7.80</td>\n",
       "      <td>530.0</td>\n",
       "      <td>275.0</td>\n",
       "      <td>1453.0</td>\n",
       "      <td>255.0</td>\n",
       "    </tr>\n",
       "    <tr>\n",
       "      <th>2</th>\n",
       "      <td>13.7</td>\n",
       "      <td>7.40</td>\n",
       "      <td>730.0</td>\n",
       "      <td>380.0</td>\n",
       "      <td>1813.0</td>\n",
       "      <td>320.0</td>\n",
       "    </tr>\n",
       "    <tr>\n",
       "      <th>3</th>\n",
       "      <td>14.0</td>\n",
       "      <td>6.90</td>\n",
       "      <td>675.0</td>\n",
       "      <td>385.0</td>\n",
       "      <td>1520.0</td>\n",
       "      <td>340.0</td>\n",
       "    </tr>\n",
       "    <tr>\n",
       "      <th>4</th>\n",
       "      <td>17.6</td>\n",
       "      <td>6.80</td>\n",
       "      <td>710.0</td>\n",
       "      <td>395.0</td>\n",
       "      <td>1593.0</td>\n",
       "      <td>350.0</td>\n",
       "    </tr>\n",
       "    <tr>\n",
       "      <th>5</th>\n",
       "      <td>13.8</td>\n",
       "      <td>6.90</td>\n",
       "      <td>610.0</td>\n",
       "      <td>390.0</td>\n",
       "      <td>1221.0</td>\n",
       "      <td>345.0</td>\n",
       "    </tr>\n",
       "    <tr>\n",
       "      <th>...</th>\n",
       "      <td>...</td>\n",
       "      <td>...</td>\n",
       "      <td>...</td>\n",
       "      <td>...</td>\n",
       "      <td>...</td>\n",
       "      <td>...</td>\n",
       "    </tr>\n",
       "    <tr>\n",
       "      <th>108</th>\n",
       "      <td>28.4</td>\n",
       "      <td>6.82</td>\n",
       "      <td>704.0</td>\n",
       "      <td>410.0</td>\n",
       "      <td>1315.0</td>\n",
       "      <td>372.0</td>\n",
       "    </tr>\n",
       "    <tr>\n",
       "      <th>109</th>\n",
       "      <td>25.5</td>\n",
       "      <td>6.93</td>\n",
       "      <td>737.0</td>\n",
       "      <td>310.0</td>\n",
       "      <td>1260.0</td>\n",
       "      <td>345.0</td>\n",
       "    </tr>\n",
       "    <tr>\n",
       "      <th>110</th>\n",
       "      <td>26.1</td>\n",
       "      <td>7.36</td>\n",
       "      <td>610.0</td>\n",
       "      <td>340.0</td>\n",
       "      <td>2330.0</td>\n",
       "      <td>278.0</td>\n",
       "    </tr>\n",
       "    <tr>\n",
       "      <th>111</th>\n",
       "      <td>28.9</td>\n",
       "      <td>7.27</td>\n",
       "      <td>650.0</td>\n",
       "      <td>321.0</td>\n",
       "      <td>1130.0</td>\n",
       "      <td>790.0</td>\n",
       "    </tr>\n",
       "    <tr>\n",
       "      <th>112</th>\n",
       "      <td>29.0</td>\n",
       "      <td>7.58</td>\n",
       "      <td>670.0</td>\n",
       "      <td>318.0</td>\n",
       "      <td>972.0</td>\n",
       "      <td>250.0</td>\n",
       "    </tr>\n",
       "  </tbody>\n",
       "</table>\n",
       "<p>112 rows × 6 columns</p>\n",
       "</div>"
      ],
      "text/plain": [
       "     temp    PH    COD    BOD     TDS    TSS\n",
       "1    14.5  7.80  530.0  275.0  1453.0  255.0\n",
       "2    13.7  7.40  730.0  380.0  1813.0  320.0\n",
       "3    14.0  6.90  675.0  385.0  1520.0  340.0\n",
       "4    17.6  6.80  710.0  395.0  1593.0  350.0\n",
       "5    13.8  6.90  610.0  390.0  1221.0  345.0\n",
       "..    ...   ...    ...    ...     ...    ...\n",
       "108  28.4  6.82  704.0  410.0  1315.0  372.0\n",
       "109  25.5  6.93  737.0  310.0  1260.0  345.0\n",
       "110  26.1  7.36  610.0  340.0  2330.0  278.0\n",
       "111  28.9  7.27  650.0  321.0  1130.0  790.0\n",
       "112  29.0  7.58  670.0  318.0   972.0  250.0\n",
       "\n",
       "[112 rows x 6 columns]"
      ]
     },
     "execution_count": 96,
     "metadata": {},
     "output_type": "execute_result"
    }
   ],
   "source": [
    "X"
   ]
  },
  {
   "cell_type": "code",
   "execution_count": 97,
   "metadata": {},
   "outputs": [],
   "source": [
    "X_train,X_test,y_train,y_test =train_test_split(X,y , test_size=0.1)"
   ]
  },
  {
   "cell_type": "markdown",
   "metadata": {},
   "source": [
    "## Standardization"
   ]
  },
  {
   "cell_type": "code",
   "execution_count": 98,
   "metadata": {},
   "outputs": [
    {
     "data": {
      "text/plain": [
       "1.0"
      ]
     },
     "execution_count": 98,
     "metadata": {},
     "output_type": "execute_result"
    }
   ],
   "source": [
    "scaler = StandardScaler()\n",
    "scaler.fit(X_train)\n",
    "X_train=scaler.transform(X_train)\n",
    "X_test=scaler.transform(X_test)\n",
    "np.std(X_train)"
   ]
  },
  {
   "cell_type": "markdown",
   "metadata": {},
   "source": [
    "# 5. Training Process"
   ]
  },
  {
   "cell_type": "code",
   "execution_count": 99,
   "metadata": {},
   "outputs": [],
   "source": [
    "reg1 = GradientBoostingRegressor(random_state=1)\n",
    "reg2 = RandomForestRegressor(random_state=1)\n",
    "reg3 = LinearRegression()\n",
    "reg2.fit(X_train, y_train)\n",
    "pred2=reg2.predict(X_test)"
   ]
  },
  {
   "cell_type": "markdown",
   "metadata": {},
   "source": [
    "#### Error Evaluation"
   ]
  },
  {
   "cell_type": "code",
   "execution_count": 100,
   "metadata": {},
   "outputs": [
    {
     "name": "stdout",
     "output_type": "stream",
     "text": [
      " Mean Squared Error : 198.01705000000004\n",
      " Mean Absoulte Error : 11.433333333333332\n",
      " R2 Score : 0.3979211317567567\n"
     ]
    }
   ],
   "source": [
    "print(' Mean Squared Error :', mean_squared_error(y_test,pred2))\n",
    "print(' Mean Absoulte Error :', mean_absolute_error(y_test,pred2))\n",
    "print(' R2 Score :', r2_score(y_test,pred2))"
   ]
  },
  {
   "cell_type": "code",
   "execution_count": 101,
   "metadata": {},
   "outputs": [
    {
     "data": {
      "text/html": [
       "<div>\n",
       "<style scoped>\n",
       "    .dataframe tbody tr th:only-of-type {\n",
       "        vertical-align: middle;\n",
       "    }\n",
       "\n",
       "    .dataframe tbody tr th {\n",
       "        vertical-align: top;\n",
       "    }\n",
       "\n",
       "    .dataframe thead th {\n",
       "        text-align: right;\n",
       "    }\n",
       "</style>\n",
       "<table border=\"1\" class=\"dataframe\">\n",
       "  <thead>\n",
       "    <tr style=\"text-align: right;\">\n",
       "      <th></th>\n",
       "      <th>index</th>\n",
       "      <th>Actual TSS</th>\n",
       "      <th>Predicted TSS</th>\n",
       "      <th>Error</th>\n",
       "    </tr>\n",
       "  </thead>\n",
       "  <tbody>\n",
       "    <tr>\n",
       "      <th>0</th>\n",
       "      <td>7</td>\n",
       "      <td>30.0</td>\n",
       "      <td>58.95</td>\n",
       "      <td>28.95</td>\n",
       "    </tr>\n",
       "    <tr>\n",
       "      <th>1</th>\n",
       "      <td>1</td>\n",
       "      <td>45.0</td>\n",
       "      <td>45.37</td>\n",
       "      <td>0.37</td>\n",
       "    </tr>\n",
       "    <tr>\n",
       "      <th>2</th>\n",
       "      <td>9</td>\n",
       "      <td>45.0</td>\n",
       "      <td>61.10</td>\n",
       "      <td>16.10</td>\n",
       "    </tr>\n",
       "    <tr>\n",
       "      <th>3</th>\n",
       "      <td>0</td>\n",
       "      <td>52.0</td>\n",
       "      <td>69.14</td>\n",
       "      <td>17.14</td>\n",
       "    </tr>\n",
       "    <tr>\n",
       "      <th>4</th>\n",
       "      <td>5</td>\n",
       "      <td>54.0</td>\n",
       "      <td>67.95</td>\n",
       "      <td>13.95</td>\n",
       "    </tr>\n",
       "    <tr>\n",
       "      <th>5</th>\n",
       "      <td>3</td>\n",
       "      <td>60.0</td>\n",
       "      <td>39.39</td>\n",
       "      <td>20.61</td>\n",
       "    </tr>\n",
       "    <tr>\n",
       "      <th>6</th>\n",
       "      <td>11</td>\n",
       "      <td>68.0</td>\n",
       "      <td>71.02</td>\n",
       "      <td>3.02</td>\n",
       "    </tr>\n",
       "    <tr>\n",
       "      <th>7</th>\n",
       "      <td>4</td>\n",
       "      <td>70.0</td>\n",
       "      <td>67.08</td>\n",
       "      <td>2.92</td>\n",
       "    </tr>\n",
       "    <tr>\n",
       "      <th>8</th>\n",
       "      <td>8</td>\n",
       "      <td>80.0</td>\n",
       "      <td>70.17</td>\n",
       "      <td>9.83</td>\n",
       "    </tr>\n",
       "    <tr>\n",
       "      <th>9</th>\n",
       "      <td>10</td>\n",
       "      <td>80.0</td>\n",
       "      <td>70.74</td>\n",
       "      <td>9.26</td>\n",
       "    </tr>\n",
       "    <tr>\n",
       "      <th>10</th>\n",
       "      <td>6</td>\n",
       "      <td>81.0</td>\n",
       "      <td>83.41</td>\n",
       "      <td>2.41</td>\n",
       "    </tr>\n",
       "    <tr>\n",
       "      <th>11</th>\n",
       "      <td>2</td>\n",
       "      <td>95.0</td>\n",
       "      <td>82.36</td>\n",
       "      <td>12.64</td>\n",
       "    </tr>\n",
       "  </tbody>\n",
       "</table>\n",
       "</div>"
      ],
      "text/plain": [
       "    index  Actual TSS  Predicted TSS  Error\n",
       "0       7        30.0          58.95  28.95\n",
       "1       1        45.0          45.37   0.37\n",
       "2       9        45.0          61.10  16.10\n",
       "3       0        52.0          69.14  17.14\n",
       "4       5        54.0          67.95  13.95\n",
       "5       3        60.0          39.39  20.61\n",
       "6      11        68.0          71.02   3.02\n",
       "7       4        70.0          67.08   2.92\n",
       "8       8        80.0          70.17   9.83\n",
       "9      10        80.0          70.74   9.26\n",
       "10      6        81.0          83.41   2.41\n",
       "11      2        95.0          82.36  12.64"
      ]
     },
     "execution_count": 101,
     "metadata": {},
     "output_type": "execute_result"
    }
   ],
   "source": [
    "err=abs(y_test-pred2)\n",
    "Preds=pd.DataFrame(pred2)\n",
    "Actual=pd.DataFrame(y_test)\n",
    "\n",
    "Error =pd.DataFrame(err)\n",
    "Actual.reset_index(inplace=True)\n",
    "Preds.reset_index(inplace=True)\n",
    "Error.reset_index(inplace=True)\n",
    "Result = pd.concat([Actual, Preds,Error], axis=1)\n",
    "\n",
    "Result=Result.drop(['index'],1)\n",
    "Result.columns=['Actual TSS','Predicted TSS', \"Error\"]\n",
    "Result =Result.sort_values(by=['Actual TSS'])\n",
    "Result.reset_index(inplace=True)\n",
    "Result\n"
   ]
  },
  {
   "cell_type": "code",
   "execution_count": 102,
   "metadata": {},
   "outputs": [
    {
     "data": {
      "image/png": "[encoded data removed]",
      "text/plain": [
       "<Figure size 576x396 with 1 Axes>"
      ]
     },
     "metadata": {},
     "output_type": "display_data"
    }
   ],
   "source": [
    "import matplotlib.pyplot as plt\n",
    "_, ax = plt.subplots()\n",
    "y_pred=pred2\n",
    "ax.scatter(x = range(0, y_test.size), y=y_test, c = 'blue', label = 'Actual', alpha = 0.3)\n",
    "ax.scatter(x = range(0, y_pred.size), y=y_pred, c = 'red', label = 'Predicted', alpha = 0.3)\n",
    "\n",
    "plt.title('Actual and predicted values')\n",
    "plt.xlabel('Observations')\n",
    "plt.ylabel('TSS')\n",
    "plt.legend()\n",
    "plt.show()"
   ]
  },
  {
   "cell_type": "code",
   "execution_count": 103,
   "metadata": {},
   "outputs": [
    {
     "name": "stdout",
     "output_type": "stream",
     "text": [
      "--------------------------------\n",
      "TSS Results\n",
      "MSE : 198.01705000000004\n",
      "R2 : 0.3979211317567567\n",
      "RMSE : 14.071853111797324\n",
      "AAD% : 2.467892261495526\n"
     ]
    }
   ],
   "source": [
    "from sklearn.metrics import mean_squared_error ,r2_score\n",
    "MSE= mean_squared_error(y_test,y_pred)\n",
    "r2=r2_score(y_test,y_pred)\n",
    "RMSE=mean_squared_error(y_test,y_pred)**0.5\n",
    "AAD= np.sum(((y_pred-y_test)/y_pred)/len(y_test))*100\n",
    "print('--------------------------------')\n",
    "print('TSS Results')\n",
    "print('MSE :', MSE)\n",
    "print('R2 :',r2)\n",
    "print('RMSE :', RMSE)\n",
    "print('AAD% :',AAD)"
   ]
  },
  {
   "cell_type": "code",
   "execution_count": 104,
   "metadata": {},
   "outputs": [
    {
     "data": {
      "image/png": "[encoded data removed]",
      "text/plain": [
       "<Figure size 576x396 with 1 Axes>"
      ]
     },
     "metadata": {},
     "output_type": "display_data"
    },
    {
     "data": {
      "text/plain": [
       "<AxesSubplot:title={'center':'Feature Importances of 6 Features using RandomForestRegressor'}, xlabel='relative importance'>"
      ]
     },
     "execution_count": 104,
     "metadata": {},
     "output_type": "execute_result"
    }
   ],
   "source": [
    "from yellowbrick.model_selection import FeatureImportances\n",
    "model=reg2\n",
    "viz = FeatureImportances(model)\n",
    "viz.fit(X, y)\n",
    "viz.show()"
   ]
  },
  {
   "cell_type": "code",
   "execution_count": 105,
   "metadata": {},
   "outputs": [
    {
     "data": {
      "text/plain": [
       "<AxesSubplot:>"
      ]
     },
     "execution_count": 105,
     "metadata": {},
     "output_type": "execute_result"
    },
    {
     "data": {
      "image/png": "[encoded data removed]",
      "text/plain": [
       "<Figure size 720x360 with 1 Axes>"
      ]
     },
     "metadata": {},
     "output_type": "display_data"
    }
   ],
   "source": [
    "Result.plot(x=Result.index.name, y=['Actual TSS','Predicted TSS','Error'],figsize=(10,5), grid=True  )"
   ]
  },
  {
   "cell_type": "code",
   "execution_count": 106,
   "metadata": {},
   "outputs": [
    {
     "data": {
      "text/html": [
       "<div>\n",
       "<style scoped>\n",
       "    .dataframe tbody tr th:only-of-type {\n",
       "        vertical-align: middle;\n",
       "    }\n",
       "\n",
       "    .dataframe tbody tr th {\n",
       "        vertical-align: top;\n",
       "    }\n",
       "\n",
       "    .dataframe thead th {\n",
       "        text-align: right;\n",
       "    }\n",
       "</style>\n",
       "<table border=\"1\" class=\"dataframe\">\n",
       "  <thead>\n",
       "    <tr style=\"text-align: right;\">\n",
       "      <th></th>\n",
       "      <th>date</th>\n",
       "      <th>temp</th>\n",
       "      <th>PH</th>\n",
       "      <th>COD</th>\n",
       "      <th>BOD</th>\n",
       "      <th>TDS</th>\n",
       "      <th>TSS</th>\n",
       "      <th>BOD_</th>\n",
       "      <th>COD_</th>\n",
       "      <th>TSS_</th>\n",
       "    </tr>\n",
       "  </thead>\n",
       "  <tbody>\n",
       "    <tr>\n",
       "      <th>1</th>\n",
       "      <td>17/1/2018</td>\n",
       "      <td>14.5</td>\n",
       "      <td>7.80</td>\n",
       "      <td>530.0</td>\n",
       "      <td>275.0</td>\n",
       "      <td>1453.0</td>\n",
       "      <td>255.0</td>\n",
       "      <td>68.0</td>\n",
       "      <td>95.0</td>\n",
       "      <td>60.0</td>\n",
       "    </tr>\n",
       "    <tr>\n",
       "      <th>2</th>\n",
       "      <td>27/1/2018</td>\n",
       "      <td>13.7</td>\n",
       "      <td>7.40</td>\n",
       "      <td>730.0</td>\n",
       "      <td>380.0</td>\n",
       "      <td>1813.0</td>\n",
       "      <td>320.0</td>\n",
       "      <td>70.0</td>\n",
       "      <td>110.0</td>\n",
       "      <td>65.0</td>\n",
       "    </tr>\n",
       "    <tr>\n",
       "      <th>3</th>\n",
       "      <td>2018-01-02 00:00:00</td>\n",
       "      <td>14.0</td>\n",
       "      <td>6.90</td>\n",
       "      <td>675.0</td>\n",
       "      <td>385.0</td>\n",
       "      <td>1520.0</td>\n",
       "      <td>340.0</td>\n",
       "      <td>8.7</td>\n",
       "      <td>20.0</td>\n",
       "      <td>73.0</td>\n",
       "    </tr>\n",
       "    <tr>\n",
       "      <th>4</th>\n",
       "      <td>2018-08-02 00:00:00</td>\n",
       "      <td>17.6</td>\n",
       "      <td>6.80</td>\n",
       "      <td>710.0</td>\n",
       "      <td>395.0</td>\n",
       "      <td>1593.0</td>\n",
       "      <td>350.0</td>\n",
       "      <td>78.0</td>\n",
       "      <td>100.0</td>\n",
       "      <td>60.0</td>\n",
       "    </tr>\n",
       "    <tr>\n",
       "      <th>5</th>\n",
       "      <td>14/2/2018</td>\n",
       "      <td>13.8</td>\n",
       "      <td>6.90</td>\n",
       "      <td>610.0</td>\n",
       "      <td>390.0</td>\n",
       "      <td>1221.0</td>\n",
       "      <td>345.0</td>\n",
       "      <td>88.0</td>\n",
       "      <td>110.0</td>\n",
       "      <td>75.0</td>\n",
       "    </tr>\n",
       "    <tr>\n",
       "      <th>...</th>\n",
       "      <td>...</td>\n",
       "      <td>...</td>\n",
       "      <td>...</td>\n",
       "      <td>...</td>\n",
       "      <td>...</td>\n",
       "      <td>...</td>\n",
       "      <td>...</td>\n",
       "      <td>...</td>\n",
       "      <td>...</td>\n",
       "      <td>...</td>\n",
       "    </tr>\n",
       "    <tr>\n",
       "      <th>108</th>\n",
       "      <td>2020-05-07 00:00:00</td>\n",
       "      <td>28.4</td>\n",
       "      <td>6.82</td>\n",
       "      <td>704.0</td>\n",
       "      <td>410.0</td>\n",
       "      <td>1315.0</td>\n",
       "      <td>372.0</td>\n",
       "      <td>32.0</td>\n",
       "      <td>62.0</td>\n",
       "      <td>70.0</td>\n",
       "    </tr>\n",
       "    <tr>\n",
       "      <th>109</th>\n",
       "      <td>2020-12-07 00:00:00</td>\n",
       "      <td>25.5</td>\n",
       "      <td>6.93</td>\n",
       "      <td>737.0</td>\n",
       "      <td>310.0</td>\n",
       "      <td>1260.0</td>\n",
       "      <td>345.0</td>\n",
       "      <td>52.0</td>\n",
       "      <td>74.0</td>\n",
       "      <td>86.0</td>\n",
       "    </tr>\n",
       "    <tr>\n",
       "      <th>110</th>\n",
       "      <td>19/7/2020</td>\n",
       "      <td>26.1</td>\n",
       "      <td>7.36</td>\n",
       "      <td>610.0</td>\n",
       "      <td>340.0</td>\n",
       "      <td>2330.0</td>\n",
       "      <td>278.0</td>\n",
       "      <td>42.0</td>\n",
       "      <td>72.0</td>\n",
       "      <td>58.0</td>\n",
       "    </tr>\n",
       "    <tr>\n",
       "      <th>111</th>\n",
       "      <td>19/8/2020</td>\n",
       "      <td>28.9</td>\n",
       "      <td>7.27</td>\n",
       "      <td>650.0</td>\n",
       "      <td>321.0</td>\n",
       "      <td>1130.0</td>\n",
       "      <td>790.0</td>\n",
       "      <td>72.0</td>\n",
       "      <td>135.0</td>\n",
       "      <td>100.0</td>\n",
       "    </tr>\n",
       "    <tr>\n",
       "      <th>112</th>\n",
       "      <td>27/8/2020</td>\n",
       "      <td>29.0</td>\n",
       "      <td>7.58</td>\n",
       "      <td>670.0</td>\n",
       "      <td>318.0</td>\n",
       "      <td>972.0</td>\n",
       "      <td>250.0</td>\n",
       "      <td>70.0</td>\n",
       "      <td>125.0</td>\n",
       "      <td>95.0</td>\n",
       "    </tr>\n",
       "  </tbody>\n",
       "</table>\n",
       "<p>112 rows × 10 columns</p>\n",
       "</div>"
      ],
      "text/plain": [
       "                    date  temp    PH    COD    BOD     TDS    TSS  BOD_  \\\n",
       "1              17/1/2018  14.5  7.80  530.0  275.0  1453.0  255.0  68.0   \n",
       "2              27/1/2018  13.7  7.40  730.0  380.0  1813.0  320.0  70.0   \n",
       "3    2018-01-02 00:00:00  14.0  6.90  675.0  385.0  1520.0  340.0   8.7   \n",
       "4    2018-08-02 00:00:00  17.6  6.80  710.0  395.0  1593.0  350.0  78.0   \n",
       "5              14/2/2018  13.8  6.90  610.0  390.0  1221.0  345.0  88.0   \n",
       "..                   ...   ...   ...    ...    ...     ...    ...   ...   \n",
       "108  2020-05-07 00:00:00  28.4  6.82  704.0  410.0  1315.0  372.0  32.0   \n",
       "109  2020-12-07 00:00:00  25.5  6.93  737.0  310.0  1260.0  345.0  52.0   \n",
       "110            19/7/2020  26.1  7.36  610.0  340.0  2330.0  278.0  42.0   \n",
       "111            19/8/2020  28.9  7.27  650.0  321.0  1130.0  790.0  72.0   \n",
       "112            27/8/2020  29.0  7.58  670.0  318.0   972.0  250.0  70.0   \n",
       "\n",
       "      COD_   TSS_  \n",
       "1     95.0   60.0  \n",
       "2    110.0   65.0  \n",
       "3     20.0   73.0  \n",
       "4    100.0   60.0  \n",
       "5    110.0   75.0  \n",
       "..     ...    ...  \n",
       "108   62.0   70.0  \n",
       "109   74.0   86.0  \n",
       "110   72.0   58.0  \n",
       "111  135.0  100.0  \n",
       "112  125.0   95.0  \n",
       "\n",
       "[112 rows x 10 columns]"
      ]
     },
     "execution_count": 106,
     "metadata": {},
     "output_type": "execute_result"
    }
   ],
   "source": [
    "df"
   ]
  },
  {
   "cell_type": "markdown",
   "metadata": {
    "slideshow": {
     "slide_type": "slide"
    }
   },
   "source": [
    "# The Effiency of Bod \n",
    "## Data Preprocessing\n"
   ]
  },
  {
   "cell_type": "markdown",
   "metadata": {},
   "source": [
    "## Splitting Data "
   ]
  },
  {
   "cell_type": "code",
   "execution_count": 107,
   "metadata": {},
   "outputs": [],
   "source": [
    "dfBod=df"
   ]
  },
  {
   "cell_type": "code",
   "execution_count": 108,
   "metadata": {},
   "outputs": [],
   "source": [
    "y=dfBod['BOD_']\n",
    "X=dfBod.drop(['TSS_','BOD_','COD_','date'],1)"
   ]
  },
  {
   "cell_type": "code",
   "execution_count": 109,
   "metadata": {},
   "outputs": [
    {
     "data": {
      "text/plain": [
       "1      68.0\n",
       "2      70.0\n",
       "3       8.7\n",
       "4      78.0\n",
       "5      88.0\n",
       "       ... \n",
       "108    32.0\n",
       "109    52.0\n",
       "110    42.0\n",
       "111    72.0\n",
       "112    70.0\n",
       "Name: BOD_, Length: 112, dtype: float64"
      ]
     },
     "execution_count": 109,
     "metadata": {},
     "output_type": "execute_result"
    }
   ],
   "source": [
    "y"
   ]
  },
  {
   "cell_type": "code",
   "execution_count": 110,
   "metadata": {},
   "outputs": [
    {
     "data": {
      "text/html": [
       "<div>\n",
       "<style scoped>\n",
       "    .dataframe tbody tr th:only-of-type {\n",
       "        vertical-align: middle;\n",
       "    }\n",
       "\n",
       "    .dataframe tbody tr th {\n",
       "        vertical-align: top;\n",
       "    }\n",
       "\n",
       "    .dataframe thead th {\n",
       "        text-align: right;\n",
       "    }\n",
       "</style>\n",
       "<table border=\"1\" class=\"dataframe\">\n",
       "  <thead>\n",
       "    <tr style=\"text-align: right;\">\n",
       "      <th></th>\n",
       "      <th>temp</th>\n",
       "      <th>PH</th>\n",
       "      <th>COD</th>\n",
       "      <th>BOD</th>\n",
       "      <th>TDS</th>\n",
       "      <th>TSS</th>\n",
       "    </tr>\n",
       "  </thead>\n",
       "  <tbody>\n",
       "    <tr>\n",
       "      <th>1</th>\n",
       "      <td>14.5</td>\n",
       "      <td>7.80</td>\n",
       "      <td>530.0</td>\n",
       "      <td>275.0</td>\n",
       "      <td>1453.0</td>\n",
       "      <td>255.0</td>\n",
       "    </tr>\n",
       "    <tr>\n",
       "      <th>2</th>\n",
       "      <td>13.7</td>\n",
       "      <td>7.40</td>\n",
       "      <td>730.0</td>\n",
       "      <td>380.0</td>\n",
       "      <td>1813.0</td>\n",
       "      <td>320.0</td>\n",
       "    </tr>\n",
       "    <tr>\n",
       "      <th>3</th>\n",
       "      <td>14.0</td>\n",
       "      <td>6.90</td>\n",
       "      <td>675.0</td>\n",
       "      <td>385.0</td>\n",
       "      <td>1520.0</td>\n",
       "      <td>340.0</td>\n",
       "    </tr>\n",
       "    <tr>\n",
       "      <th>4</th>\n",
       "      <td>17.6</td>\n",
       "      <td>6.80</td>\n",
       "      <td>710.0</td>\n",
       "      <td>395.0</td>\n",
       "      <td>1593.0</td>\n",
       "      <td>350.0</td>\n",
       "    </tr>\n",
       "    <tr>\n",
       "      <th>5</th>\n",
       "      <td>13.8</td>\n",
       "      <td>6.90</td>\n",
       "      <td>610.0</td>\n",
       "      <td>390.0</td>\n",
       "      <td>1221.0</td>\n",
       "      <td>345.0</td>\n",
       "    </tr>\n",
       "    <tr>\n",
       "      <th>...</th>\n",
       "      <td>...</td>\n",
       "      <td>...</td>\n",
       "      <td>...</td>\n",
       "      <td>...</td>\n",
       "      <td>...</td>\n",
       "      <td>...</td>\n",
       "    </tr>\n",
       "    <tr>\n",
       "      <th>108</th>\n",
       "      <td>28.4</td>\n",
       "      <td>6.82</td>\n",
       "      <td>704.0</td>\n",
       "      <td>410.0</td>\n",
       "      <td>1315.0</td>\n",
       "      <td>372.0</td>\n",
       "    </tr>\n",
       "    <tr>\n",
       "      <th>109</th>\n",
       "      <td>25.5</td>\n",
       "      <td>6.93</td>\n",
       "      <td>737.0</td>\n",
       "      <td>310.0</td>\n",
       "      <td>1260.0</td>\n",
       "      <td>345.0</td>\n",
       "    </tr>\n",
       "    <tr>\n",
       "      <th>110</th>\n",
       "      <td>26.1</td>\n",
       "      <td>7.36</td>\n",
       "      <td>610.0</td>\n",
       "      <td>340.0</td>\n",
       "      <td>2330.0</td>\n",
       "      <td>278.0</td>\n",
       "    </tr>\n",
       "    <tr>\n",
       "      <th>111</th>\n",
       "      <td>28.9</td>\n",
       "      <td>7.27</td>\n",
       "      <td>650.0</td>\n",
       "      <td>321.0</td>\n",
       "      <td>1130.0</td>\n",
       "      <td>790.0</td>\n",
       "    </tr>\n",
       "    <tr>\n",
       "      <th>112</th>\n",
       "      <td>29.0</td>\n",
       "      <td>7.58</td>\n",
       "      <td>670.0</td>\n",
       "      <td>318.0</td>\n",
       "      <td>972.0</td>\n",
       "      <td>250.0</td>\n",
       "    </tr>\n",
       "  </tbody>\n",
       "</table>\n",
       "<p>112 rows × 6 columns</p>\n",
       "</div>"
      ],
      "text/plain": [
       "     temp    PH    COD    BOD     TDS    TSS\n",
       "1    14.5  7.80  530.0  275.0  1453.0  255.0\n",
       "2    13.7  7.40  730.0  380.0  1813.0  320.0\n",
       "3    14.0  6.90  675.0  385.0  1520.0  340.0\n",
       "4    17.6  6.80  710.0  395.0  1593.0  350.0\n",
       "5    13.8  6.90  610.0  390.0  1221.0  345.0\n",
       "..    ...   ...    ...    ...     ...    ...\n",
       "108  28.4  6.82  704.0  410.0  1315.0  372.0\n",
       "109  25.5  6.93  737.0  310.0  1260.0  345.0\n",
       "110  26.1  7.36  610.0  340.0  2330.0  278.0\n",
       "111  28.9  7.27  650.0  321.0  1130.0  790.0\n",
       "112  29.0  7.58  670.0  318.0   972.0  250.0\n",
       "\n",
       "[112 rows x 6 columns]"
      ]
     },
     "execution_count": 110,
     "metadata": {},
     "output_type": "execute_result"
    }
   ],
   "source": [
    "X"
   ]
  },
  {
   "cell_type": "code",
   "execution_count": 111,
   "metadata": {},
   "outputs": [],
   "source": [
    "X_train,X_test,y_train,y_test =train_test_split(X,y , test_size=0.1 ,random_state =890)"
   ]
  },
  {
   "cell_type": "markdown",
   "metadata": {},
   "source": [
    "## Standardization"
   ]
  },
  {
   "cell_type": "code",
   "execution_count": 112,
   "metadata": {},
   "outputs": [
    {
     "data": {
      "text/plain": [
       "1.0"
      ]
     },
     "execution_count": 112,
     "metadata": {},
     "output_type": "execute_result"
    }
   ],
   "source": [
    "scaler = StandardScaler()\n",
    "scaler.fit(X_train)\n",
    "X_train=scaler.transform(X_train)\n",
    "X_test=scaler.transform(X_test)\n",
    "np.std(X_train)"
   ]
  },
  {
   "cell_type": "markdown",
   "metadata": {},
   "source": [
    "# 5. Training Process"
   ]
  },
  {
   "cell_type": "code",
   "execution_count": 113,
   "metadata": {},
   "outputs": [],
   "source": [
    "reg1 = GradientBoostingRegressor(random_state=1)\n",
    "reg2 = RandomForestRegressor(random_state=1)\n",
    "reg3 = LinearRegression()\n",
    "reg2.fit(X_train, y_train)\n",
    "pred2=reg2.predict(X_test)"
   ]
  },
  {
   "cell_type": "markdown",
   "metadata": {},
   "source": [
    "#### Error Evaluation"
   ]
  },
  {
   "cell_type": "code",
   "execution_count": 114,
   "metadata": {},
   "outputs": [
    {
     "name": "stdout",
     "output_type": "stream",
     "text": [
      " Mean Squared Error : 248.5715587500001\n",
      " Mean Absoulte Error : 10.733916666666667\n",
      " R2 Score : 0.1802893613025851\n"
     ]
    }
   ],
   "source": [
    "print(' Mean Squared Error :', mean_squared_error(y_test,pred2))\n",
    "print(' Mean Absoulte Error :', mean_absolute_error(y_test,pred2))\n",
    "print(' R2 Score :', r2_score(y_test,pred2))"
   ]
  },
  {
   "cell_type": "code",
   "execution_count": 115,
   "metadata": {},
   "outputs": [
    {
     "data": {
      "text/html": [
       "<div>\n",
       "<style scoped>\n",
       "    .dataframe tbody tr th:only-of-type {\n",
       "        vertical-align: middle;\n",
       "    }\n",
       "\n",
       "    .dataframe tbody tr th {\n",
       "        vertical-align: top;\n",
       "    }\n",
       "\n",
       "    .dataframe thead th {\n",
       "        text-align: right;\n",
       "    }\n",
       "</style>\n",
       "<table border=\"1\" class=\"dataframe\">\n",
       "  <thead>\n",
       "    <tr style=\"text-align: right;\">\n",
       "      <th></th>\n",
       "      <th>index</th>\n",
       "      <th>Actual Efficency of Bod</th>\n",
       "      <th>Predicted Efficeny of Bod</th>\n",
       "      <th>Error</th>\n",
       "    </tr>\n",
       "  </thead>\n",
       "  <tbody>\n",
       "    <tr>\n",
       "      <th>0</th>\n",
       "      <td>5</td>\n",
       "      <td>47.0</td>\n",
       "      <td>70.554</td>\n",
       "      <td>23.554</td>\n",
       "    </tr>\n",
       "    <tr>\n",
       "      <th>1</th>\n",
       "      <td>2</td>\n",
       "      <td>63.0</td>\n",
       "      <td>66.310</td>\n",
       "      <td>3.310</td>\n",
       "    </tr>\n",
       "    <tr>\n",
       "      <th>2</th>\n",
       "      <td>11</td>\n",
       "      <td>63.0</td>\n",
       "      <td>65.640</td>\n",
       "      <td>2.640</td>\n",
       "    </tr>\n",
       "    <tr>\n",
       "      <th>3</th>\n",
       "      <td>8</td>\n",
       "      <td>64.0</td>\n",
       "      <td>65.450</td>\n",
       "      <td>1.450</td>\n",
       "    </tr>\n",
       "    <tr>\n",
       "      <th>4</th>\n",
       "      <td>0</td>\n",
       "      <td>65.0</td>\n",
       "      <td>62.150</td>\n",
       "      <td>2.850</td>\n",
       "    </tr>\n",
       "    <tr>\n",
       "      <th>5</th>\n",
       "      <td>7</td>\n",
       "      <td>67.0</td>\n",
       "      <td>69.640</td>\n",
       "      <td>2.640</td>\n",
       "    </tr>\n",
       "    <tr>\n",
       "      <th>6</th>\n",
       "      <td>10</td>\n",
       "      <td>68.0</td>\n",
       "      <td>58.290</td>\n",
       "      <td>9.710</td>\n",
       "    </tr>\n",
       "    <tr>\n",
       "      <th>7</th>\n",
       "      <td>3</td>\n",
       "      <td>72.0</td>\n",
       "      <td>72.630</td>\n",
       "      <td>0.630</td>\n",
       "    </tr>\n",
       "    <tr>\n",
       "      <th>8</th>\n",
       "      <td>6</td>\n",
       "      <td>76.0</td>\n",
       "      <td>113.180</td>\n",
       "      <td>37.180</td>\n",
       "    </tr>\n",
       "    <tr>\n",
       "      <th>9</th>\n",
       "      <td>9</td>\n",
       "      <td>80.0</td>\n",
       "      <td>83.750</td>\n",
       "      <td>3.750</td>\n",
       "    </tr>\n",
       "    <tr>\n",
       "      <th>10</th>\n",
       "      <td>1</td>\n",
       "      <td>90.0</td>\n",
       "      <td>74.817</td>\n",
       "      <td>15.183</td>\n",
       "    </tr>\n",
       "    <tr>\n",
       "      <th>11</th>\n",
       "      <td>4</td>\n",
       "      <td>120.0</td>\n",
       "      <td>94.090</td>\n",
       "      <td>25.910</td>\n",
       "    </tr>\n",
       "  </tbody>\n",
       "</table>\n",
       "</div>"
      ],
      "text/plain": [
       "    index  Actual Efficency of Bod  Predicted Efficeny of Bod   Error\n",
       "0       5                     47.0                     70.554  23.554\n",
       "1       2                     63.0                     66.310   3.310\n",
       "2      11                     63.0                     65.640   2.640\n",
       "3       8                     64.0                     65.450   1.450\n",
       "4       0                     65.0                     62.150   2.850\n",
       "5       7                     67.0                     69.640   2.640\n",
       "6      10                     68.0                     58.290   9.710\n",
       "7       3                     72.0                     72.630   0.630\n",
       "8       6                     76.0                    113.180  37.180\n",
       "9       9                     80.0                     83.750   3.750\n",
       "10      1                     90.0                     74.817  15.183\n",
       "11      4                    120.0                     94.090  25.910"
      ]
     },
     "execution_count": 115,
     "metadata": {},
     "output_type": "execute_result"
    }
   ],
   "source": [
    "preds=pred2\n",
    "err=abs(y_test-pred2)\n",
    "Preds=pd.DataFrame(preds)\n",
    "Actual=pd.DataFrame(y_test)\n",
    "\n",
    "Error =pd.DataFrame(err)\n",
    "Actual.reset_index(inplace=True)\n",
    "Preds.reset_index(inplace=True)\n",
    "Error.reset_index(inplace=True)\n",
    "Result = pd.concat([Actual, Preds,Error], axis=1)\n",
    "\n",
    "Result=Result.drop(['index'],1)\n",
    "Result.columns=['Actual Efficency of Bod','Predicted Efficeny of Bod', \"Error\"]\n",
    "Result =Result.sort_values(by=['Actual Efficency of Bod'])\n",
    "Result.reset_index(inplace=True)\n",
    "Result\n"
   ]
  },
  {
   "cell_type": "code",
   "execution_count": 116,
   "metadata": {},
   "outputs": [
    {
     "data": {
      "image/png": "[encoded data removed]",
      "text/plain": [
       "<Figure size 576x396 with 1 Axes>"
      ]
     },
     "metadata": {},
     "output_type": "display_data"
    }
   ],
   "source": [
    "import matplotlib.pyplot as plt\n",
    "_, ax = plt.subplots()\n",
    "y_pred=pred2\n",
    "ax.scatter(x = range(0, y_test.size), y=y_test, c = 'blue', label = 'Actual', alpha = 0.3)\n",
    "ax.scatter(x = range(0, y_pred.size), y=y_pred, c = 'red', label = 'Predicted', alpha = 0.3)\n",
    "\n",
    "plt.title('Actual and predicted values')\n",
    "plt.xlabel('Observations')\n",
    "plt.ylabel('BOD')\n",
    "plt.legend()\n",
    "plt.show()"
   ]
  },
  {
   "cell_type": "code",
   "execution_count": 117,
   "metadata": {},
   "outputs": [
    {
     "data": {
      "image/png": "[encoded data removed]",
      "text/plain": [
       "<Figure size 576x396 with 1 Axes>"
      ]
     },
     "metadata": {},
     "output_type": "display_data"
    },
    {
     "data": {
      "text/plain": [
       "<AxesSubplot:title={'center':'Feature Importances of 6 Features using RandomForestRegressor'}, xlabel='relative importance'>"
      ]
     },
     "execution_count": 117,
     "metadata": {},
     "output_type": "execute_result"
    }
   ],
   "source": [
    "from yellowbrick.model_selection import FeatureImportances\n",
    "model=reg2\n",
    "viz = FeatureImportances(model)\n",
    "viz.fit(X, y)\n",
    "viz.show()"
   ]
  },
  {
   "cell_type": "code",
   "execution_count": 118,
   "metadata": {},
   "outputs": [
    {
     "data": {
      "text/plain": [
       "<AxesSubplot:>"
      ]
     },
     "execution_count": 118,
     "metadata": {},
     "output_type": "execute_result"
    },
    {
     "data": {
      "image/png": "[encoded data removed]",
      "text/plain": [
       "<Figure size 720x360 with 1 Axes>"
      ]
     },
     "metadata": {},
     "output_type": "display_data"
    }
   ],
   "source": [
    "Result.plot(x=Result.index.name, y=['Actual Efficency of Bod','Predicted Efficeny of Bod','Error'],figsize=(10,5), grid=True  )"
   ]
  },
  {
   "cell_type": "code",
   "execution_count": 119,
   "metadata": {},
   "outputs": [
    {
     "name": "stdout",
     "output_type": "stream",
     "text": [
      "--------------------------------\n",
      "BOD Results\n",
      "MSE : 248.5715587500001\n",
      "R2 : 0.1802893613025851\n",
      "RMSE : 15.766152312787039\n",
      "AAD% : 1.4604131635886548\n"
     ]
    }
   ],
   "source": [
    "from sklearn.metrics import mean_squared_error ,r2_score\n",
    "MSE= mean_squared_error(y_test,y_pred)\n",
    "r2=r2_score(y_test,y_pred)\n",
    "RMSE=mean_squared_error(y_test,y_pred)**0.5\n",
    "AAD= np.sum(((y_pred-y_test)/y_pred)/len(y_test))*100\n",
    "print('--------------------------------')\n",
    "print('BOD Results')\n",
    "print('MSE :', MSE)\n",
    "print('R2 :',r2)\n",
    "print('RMSE :', RMSE)\n",
    "print('AAD% :',AAD)"
   ]
  },
  {
   "cell_type": "markdown",
   "metadata": {
    "slideshow": {
     "slide_type": "slide"
    }
   },
   "source": [
    "# The Effiency of Cod \n",
    "## Data Preprocessing\n"
   ]
  },
  {
   "cell_type": "markdown",
   "metadata": {},
   "source": [
    "## Splitting Data "
   ]
  },
  {
   "cell_type": "code",
   "execution_count": 120,
   "metadata": {},
   "outputs": [],
   "source": [
    "dfcod=df"
   ]
  },
  {
   "cell_type": "code",
   "execution_count": 121,
   "metadata": {},
   "outputs": [],
   "source": [
    "y=dfcod['COD_']\n",
    "X=dfcod.drop(['TSS_','BOD_','COD_','date'],1)"
   ]
  },
  {
   "cell_type": "code",
   "execution_count": 122,
   "metadata": {},
   "outputs": [
    {
     "data": {
      "text/plain": [
       "1       95.0\n",
       "2      110.0\n",
       "3       20.0\n",
       "4      100.0\n",
       "5      110.0\n",
       "       ...  \n",
       "108     62.0\n",
       "109     74.0\n",
       "110     72.0\n",
       "111    135.0\n",
       "112    125.0\n",
       "Name: COD_, Length: 112, dtype: float64"
      ]
     },
     "execution_count": 122,
     "metadata": {},
     "output_type": "execute_result"
    }
   ],
   "source": [
    "y"
   ]
  },
  {
   "cell_type": "code",
   "execution_count": 123,
   "metadata": {},
   "outputs": [
    {
     "data": {
      "text/html": [
       "<div>\n",
       "<style scoped>\n",
       "    .dataframe tbody tr th:only-of-type {\n",
       "        vertical-align: middle;\n",
       "    }\n",
       "\n",
       "    .dataframe tbody tr th {\n",
       "        vertical-align: top;\n",
       "    }\n",
       "\n",
       "    .dataframe thead th {\n",
       "        text-align: right;\n",
       "    }\n",
       "</style>\n",
       "<table border=\"1\" class=\"dataframe\">\n",
       "  <thead>\n",
       "    <tr style=\"text-align: right;\">\n",
       "      <th></th>\n",
       "      <th>temp</th>\n",
       "      <th>PH</th>\n",
       "      <th>COD</th>\n",
       "      <th>BOD</th>\n",
       "      <th>TDS</th>\n",
       "      <th>TSS</th>\n",
       "    </tr>\n",
       "  </thead>\n",
       "  <tbody>\n",
       "    <tr>\n",
       "      <th>1</th>\n",
       "      <td>14.5</td>\n",
       "      <td>7.80</td>\n",
       "      <td>530.0</td>\n",
       "      <td>275.0</td>\n",
       "      <td>1453.0</td>\n",
       "      <td>255.0</td>\n",
       "    </tr>\n",
       "    <tr>\n",
       "      <th>2</th>\n",
       "      <td>13.7</td>\n",
       "      <td>7.40</td>\n",
       "      <td>730.0</td>\n",
       "      <td>380.0</td>\n",
       "      <td>1813.0</td>\n",
       "      <td>320.0</td>\n",
       "    </tr>\n",
       "    <tr>\n",
       "      <th>3</th>\n",
       "      <td>14.0</td>\n",
       "      <td>6.90</td>\n",
       "      <td>675.0</td>\n",
       "      <td>385.0</td>\n",
       "      <td>1520.0</td>\n",
       "      <td>340.0</td>\n",
       "    </tr>\n",
       "    <tr>\n",
       "      <th>4</th>\n",
       "      <td>17.6</td>\n",
       "      <td>6.80</td>\n",
       "      <td>710.0</td>\n",
       "      <td>395.0</td>\n",
       "      <td>1593.0</td>\n",
       "      <td>350.0</td>\n",
       "    </tr>\n",
       "    <tr>\n",
       "      <th>5</th>\n",
       "      <td>13.8</td>\n",
       "      <td>6.90</td>\n",
       "      <td>610.0</td>\n",
       "      <td>390.0</td>\n",
       "      <td>1221.0</td>\n",
       "      <td>345.0</td>\n",
       "    </tr>\n",
       "    <tr>\n",
       "      <th>...</th>\n",
       "      <td>...</td>\n",
       "      <td>...</td>\n",
       "      <td>...</td>\n",
       "      <td>...</td>\n",
       "      <td>...</td>\n",
       "      <td>...</td>\n",
       "    </tr>\n",
       "    <tr>\n",
       "      <th>108</th>\n",
       "      <td>28.4</td>\n",
       "      <td>6.82</td>\n",
       "      <td>704.0</td>\n",
       "      <td>410.0</td>\n",
       "      <td>1315.0</td>\n",
       "      <td>372.0</td>\n",
       "    </tr>\n",
       "    <tr>\n",
       "      <th>109</th>\n",
       "      <td>25.5</td>\n",
       "      <td>6.93</td>\n",
       "      <td>737.0</td>\n",
       "      <td>310.0</td>\n",
       "      <td>1260.0</td>\n",
       "      <td>345.0</td>\n",
       "    </tr>\n",
       "    <tr>\n",
       "      <th>110</th>\n",
       "      <td>26.1</td>\n",
       "      <td>7.36</td>\n",
       "      <td>610.0</td>\n",
       "      <td>340.0</td>\n",
       "      <td>2330.0</td>\n",
       "      <td>278.0</td>\n",
       "    </tr>\n",
       "    <tr>\n",
       "      <th>111</th>\n",
       "      <td>28.9</td>\n",
       "      <td>7.27</td>\n",
       "      <td>650.0</td>\n",
       "      <td>321.0</td>\n",
       "      <td>1130.0</td>\n",
       "      <td>790.0</td>\n",
       "    </tr>\n",
       "    <tr>\n",
       "      <th>112</th>\n",
       "      <td>29.0</td>\n",
       "      <td>7.58</td>\n",
       "      <td>670.0</td>\n",
       "      <td>318.0</td>\n",
       "      <td>972.0</td>\n",
       "      <td>250.0</td>\n",
       "    </tr>\n",
       "  </tbody>\n",
       "</table>\n",
       "<p>112 rows × 6 columns</p>\n",
       "</div>"
      ],
      "text/plain": [
       "     temp    PH    COD    BOD     TDS    TSS\n",
       "1    14.5  7.80  530.0  275.0  1453.0  255.0\n",
       "2    13.7  7.40  730.0  380.0  1813.0  320.0\n",
       "3    14.0  6.90  675.0  385.0  1520.0  340.0\n",
       "4    17.6  6.80  710.0  395.0  1593.0  350.0\n",
       "5    13.8  6.90  610.0  390.0  1221.0  345.0\n",
       "..    ...   ...    ...    ...     ...    ...\n",
       "108  28.4  6.82  704.0  410.0  1315.0  372.0\n",
       "109  25.5  6.93  737.0  310.0  1260.0  345.0\n",
       "110  26.1  7.36  610.0  340.0  2330.0  278.0\n",
       "111  28.9  7.27  650.0  321.0  1130.0  790.0\n",
       "112  29.0  7.58  670.0  318.0   972.0  250.0\n",
       "\n",
       "[112 rows x 6 columns]"
      ]
     },
     "execution_count": 123,
     "metadata": {},
     "output_type": "execute_result"
    }
   ],
   "source": [
    "X"
   ]
  },
  {
   "cell_type": "code",
   "execution_count": 129,
   "metadata": {},
   "outputs": [],
   "source": [
    "X_train,X_test,y_train,y_test =train_test_split(X,y , test_size=0.1  )"
   ]
  },
  {
   "cell_type": "markdown",
   "metadata": {},
   "source": [
    "## Standardization"
   ]
  },
  {
   "cell_type": "code",
   "execution_count": 130,
   "metadata": {},
   "outputs": [
    {
     "data": {
      "text/plain": [
       "1.0"
      ]
     },
     "execution_count": 130,
     "metadata": {},
     "output_type": "execute_result"
    }
   ],
   "source": [
    "scaler = StandardScaler()\n",
    "scaler.fit(X_train)\n",
    "X_train=scaler.transform(X_train)\n",
    "X_test=scaler.transform(X_test)\n",
    "np.std(X_train)"
   ]
  },
  {
   "cell_type": "markdown",
   "metadata": {},
   "source": [
    "# 5. Training Process"
   ]
  },
  {
   "cell_type": "code",
   "execution_count": 131,
   "metadata": {},
   "outputs": [],
   "source": [
    "reg1 = GradientBoostingRegressor(random_state=1)\n",
    "reg2 = RandomForestRegressor(random_state=1)\n",
    "reg3 = LinearRegression()\n",
    "reg2.fit(X_train, y_train)\n",
    "pred2=reg2.predict(X_test)"
   ]
  },
  {
   "cell_type": "markdown",
   "metadata": {},
   "source": [
    "#### Error Evaluation"
   ]
  },
  {
   "cell_type": "code",
   "execution_count": 132,
   "metadata": {},
   "outputs": [
    {
     "name": "stdout",
     "output_type": "stream",
     "text": [
      " Mean Squared Error : 1873.1169333333335\n",
      " Mean Absoulte Error : 31.640000000000004\n",
      " R2 Score : 0.14518066419681874\n"
     ]
    }
   ],
   "source": [
    "print(' Mean Squared Error :', mean_squared_error(y_test,pred2))\n",
    "print(' Mean Absoulte Error :', mean_absolute_error(y_test,pred2))\n",
    "print(' R2 Score :', r2_score(y_test,pred2))"
   ]
  },
  {
   "cell_type": "code",
   "execution_count": 133,
   "metadata": {},
   "outputs": [
    {
     "data": {
      "text/html": [
       "<div>\n",
       "<style scoped>\n",
       "    .dataframe tbody tr th:only-of-type {\n",
       "        vertical-align: middle;\n",
       "    }\n",
       "\n",
       "    .dataframe tbody tr th {\n",
       "        vertical-align: top;\n",
       "    }\n",
       "\n",
       "    .dataframe thead th {\n",
       "        text-align: right;\n",
       "    }\n",
       "</style>\n",
       "<table border=\"1\" class=\"dataframe\">\n",
       "  <thead>\n",
       "    <tr style=\"text-align: right;\">\n",
       "      <th></th>\n",
       "      <th>index</th>\n",
       "      <th>Actual Efficency of Cod</th>\n",
       "      <th>Predicted Efficeny of Cod</th>\n",
       "      <th>Error</th>\n",
       "    </tr>\n",
       "  </thead>\n",
       "  <tbody>\n",
       "    <tr>\n",
       "      <th>0</th>\n",
       "      <td>5</td>\n",
       "      <td>45.0</td>\n",
       "      <td>107.61</td>\n",
       "      <td>62.61</td>\n",
       "    </tr>\n",
       "    <tr>\n",
       "      <th>1</th>\n",
       "      <td>11</td>\n",
       "      <td>70.0</td>\n",
       "      <td>131.71</td>\n",
       "      <td>61.71</td>\n",
       "    </tr>\n",
       "    <tr>\n",
       "      <th>2</th>\n",
       "      <td>6</td>\n",
       "      <td>100.0</td>\n",
       "      <td>103.05</td>\n",
       "      <td>3.05</td>\n",
       "    </tr>\n",
       "    <tr>\n",
       "      <th>3</th>\n",
       "      <td>7</td>\n",
       "      <td>100.0</td>\n",
       "      <td>109.57</td>\n",
       "      <td>9.57</td>\n",
       "    </tr>\n",
       "    <tr>\n",
       "      <th>4</th>\n",
       "      <td>0</td>\n",
       "      <td>120.0</td>\n",
       "      <td>161.00</td>\n",
       "      <td>41.00</td>\n",
       "    </tr>\n",
       "    <tr>\n",
       "      <th>5</th>\n",
       "      <td>3</td>\n",
       "      <td>120.0</td>\n",
       "      <td>120.90</td>\n",
       "      <td>0.90</td>\n",
       "    </tr>\n",
       "    <tr>\n",
       "      <th>6</th>\n",
       "      <td>10</td>\n",
       "      <td>120.0</td>\n",
       "      <td>82.15</td>\n",
       "      <td>37.85</td>\n",
       "    </tr>\n",
       "    <tr>\n",
       "      <th>7</th>\n",
       "      <td>4</td>\n",
       "      <td>130.0</td>\n",
       "      <td>105.39</td>\n",
       "      <td>24.61</td>\n",
       "    </tr>\n",
       "    <tr>\n",
       "      <th>8</th>\n",
       "      <td>8</td>\n",
       "      <td>140.0</td>\n",
       "      <td>147.58</td>\n",
       "      <td>7.58</td>\n",
       "    </tr>\n",
       "    <tr>\n",
       "      <th>9</th>\n",
       "      <td>9</td>\n",
       "      <td>160.0</td>\n",
       "      <td>157.36</td>\n",
       "      <td>2.64</td>\n",
       "    </tr>\n",
       "    <tr>\n",
       "      <th>10</th>\n",
       "      <td>1</td>\n",
       "      <td>208.0</td>\n",
       "      <td>180.33</td>\n",
       "      <td>27.67</td>\n",
       "    </tr>\n",
       "    <tr>\n",
       "      <th>11</th>\n",
       "      <td>2</td>\n",
       "      <td>210.0</td>\n",
       "      <td>109.51</td>\n",
       "      <td>100.49</td>\n",
       "    </tr>\n",
       "  </tbody>\n",
       "</table>\n",
       "</div>"
      ],
      "text/plain": [
       "    index  Actual Efficency of Cod  Predicted Efficeny of Cod   Error\n",
       "0       5                     45.0                     107.61   62.61\n",
       "1      11                     70.0                     131.71   61.71\n",
       "2       6                    100.0                     103.05    3.05\n",
       "3       7                    100.0                     109.57    9.57\n",
       "4       0                    120.0                     161.00   41.00\n",
       "5       3                    120.0                     120.90    0.90\n",
       "6      10                    120.0                      82.15   37.85\n",
       "7       4                    130.0                     105.39   24.61\n",
       "8       8                    140.0                     147.58    7.58\n",
       "9       9                    160.0                     157.36    2.64\n",
       "10      1                    208.0                     180.33   27.67\n",
       "11      2                    210.0                     109.51  100.49"
      ]
     },
     "execution_count": 133,
     "metadata": {},
     "output_type": "execute_result"
    }
   ],
   "source": [
    "preds=pred2\n",
    "err=abs(y_test-pred2)\n",
    "Preds=pd.DataFrame(preds)\n",
    "Actual=pd.DataFrame(y_test)\n",
    "\n",
    "Error =pd.DataFrame(err)\n",
    "Actual.reset_index(inplace=True)\n",
    "Preds.reset_index(inplace=True)\n",
    "Error.reset_index(inplace=True)\n",
    "Result = pd.concat([Actual, Preds,Error], axis=1)\n",
    "\n",
    "Result=Result.drop(['index'],1)\n",
    "Result.columns=['Actual Efficency of Cod','Predicted Efficeny of Cod', \"Error\"]\n",
    "Result =Result.sort_values(by=['Actual Efficency of Cod'])\n",
    "Result.reset_index(inplace=True)\n",
    "Result\n"
   ]
  },
  {
   "cell_type": "code",
   "execution_count": 134,
   "metadata": {},
   "outputs": [
    {
     "data": {
      "image/png": "[encoded data removed]",
      "text/plain": [
       "<Figure size 576x396 with 1 Axes>"
      ]
     },
     "metadata": {},
     "output_type": "display_data"
    }
   ],
   "source": [
    "import matplotlib.pyplot as plt\n",
    "_, ax = plt.subplots()\n",
    "y_pred=pred2\n",
    "ax.scatter(x = range(0, y_test.size), y=y_test, c = 'blue', label = 'Actual', alpha = 0.3)\n",
    "ax.scatter(x = range(0, y_pred.size), y=y_pred, c = 'red', label = 'Predicted', alpha = 0.3)\n",
    "\n",
    "plt.title('Actual and predicted values')\n",
    "plt.xlabel('Observations')\n",
    "plt.ylabel('COD')\n",
    "plt.legend()\n",
    "plt.show()"
   ]
  },
  {
   "cell_type": "code",
   "execution_count": 135,
   "metadata": {},
   "outputs": [
    {
     "data": {
      "image/png": "[encoded data removed]",
      "text/plain": [
       "<Figure size 576x396 with 1 Axes>"
      ]
     },
     "metadata": {},
     "output_type": "display_data"
    },
    {
     "data": {
      "text/plain": [
       "<AxesSubplot:title={'center':'Feature Importances of 6 Features using RandomForestRegressor'}, xlabel='relative importance'>"
      ]
     },
     "execution_count": 135,
     "metadata": {},
     "output_type": "execute_result"
    }
   ],
   "source": [
    "from yellowbrick.model_selection import FeatureImportances\n",
    "model=reg2\n",
    "viz = FeatureImportances(model)\n",
    "viz.fit(X, y)\n",
    "viz.show()"
   ]
  },
  {
   "cell_type": "code",
   "execution_count": 136,
   "metadata": {},
   "outputs": [
    {
     "data": {
      "text/plain": [
       "<AxesSubplot:>"
      ]
     },
     "execution_count": 136,
     "metadata": {},
     "output_type": "execute_result"
    },
    {
     "data": {
      "image/png": "[encoded data removed]",
      "text/plain": [
       "<Figure size 720x360 with 1 Axes>"
      ]
     },
     "metadata": {},
     "output_type": "display_data"
    }
   ],
   "source": [
    "Result.plot(x=Result.index.name, y=['Actual Efficency of Cod','Predicted Efficeny of Cod','Error'],figsize=(10,5), grid=True  )"
   ]
  },
  {
   "cell_type": "code",
   "execution_count": 137,
   "metadata": {},
   "outputs": [
    {
     "data": {
      "text/plain": [
       "97    120.0\n",
       "52    208.0\n",
       "49    210.0\n",
       "90    120.0\n",
       "88    130.0\n",
       "62     45.0\n",
       "75    100.0\n",
       "67    100.0\n",
       "14    140.0\n",
       "26    160.0\n",
       "64    120.0\n",
       "36     70.0\n",
       "Name: COD_, dtype: float64"
      ]
     },
     "execution_count": 137,
     "metadata": {},
     "output_type": "execute_result"
    }
   ],
   "source": [
    "y_test"
   ]
  },
  {
   "cell_type": "code",
   "execution_count": 138,
   "metadata": {},
   "outputs": [
    {
     "name": "stdout",
     "output_type": "stream",
     "text": [
      "--------------------------------\n",
      "COD Results\n",
      "MSE : 1873.1169333333335\n",
      "R2 : 0.14518066419681874\n",
      "RMSE : 43.27952094620888\n",
      "AAD% : -2.511259613469959\n"
     ]
    }
   ],
   "source": [
    "from sklearn.metrics import mean_squared_error ,r2_score\n",
    "MSE= mean_squared_error(y_test,y_pred)\n",
    "r2=r2_score(y_test,y_pred)\n",
    "RMSE=mean_squared_error(y_test,y_pred)**0.5\n",
    "AAD= np.sum(((y_pred-y_test)/y_pred)/len(y_test))*100\n",
    "print('--------------------------------')\n",
    "print('COD Results')\n",
    "print('MSE :', MSE)\n",
    "print('R2 :',r2)\n",
    "print('RMSE :', RMSE)\n",
    "print('AAD% :',AAD)"
   ]
  },
  {
   "cell_type": "code",
   "execution_count": null,
   "metadata": {},
   "outputs": [],
   "source": []
  }
 ],
 "metadata": {
  "kernelspec": {
   "display_name": "Python 3",
   "language": "python",
   "name": "python3"
  },
  "language_info": {
   "codemirror_mode": {
    "name": "ipython",
    "version": 3
   },
   "file_extension": ".py",
   "mimetype": "text/x-python",
   "name": "python",
   "nbconvert_exporter": "python",
   "pygments_lexer": "ipython3",
   "version": "3.8.8"
  }
 },
 "nbformat": 4,
 "nbformat_minor": 4
}
