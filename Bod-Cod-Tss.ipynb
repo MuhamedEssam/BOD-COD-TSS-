{
 "cells": [
  {
   "cell_type": "markdown",
   "metadata": {
    "slideshow": {
     "slide_type": "slide"
    }
   },
   "source": [
    "## 1. The Goal of This Project is to predict The Efficeny of BOD , COD , TSS"
   ]
  },
  {
   "cell_type": "markdown",
   "metadata": {
    "slideshow": {
     "slide_type": "slide"
    }
   },
   "source": [
    "## All Packages you need for this "
   ]
  },
  {
   "cell_type": "code",
   "execution_count": 1,
   "metadata": {
    "slideshow": {
     "slide_type": "subslide"
    }
   },
   "outputs": [],
   "source": [
    "# Core\n",
    "import numpy as np\n",
    "import pandas as pd \n",
    "import matplotlib.pyplot as plt \n",
    "import seaborn as sns; sns.set()\n",
    "import sklearn\n",
    "import xlrd\n",
    "\n",
    "# Pre Processing\n",
    "from sklearn.model_selection import train_test_split\n",
    "\n",
    "from sklearn.preprocessing import StandardScaler\n",
    "from sklearn.preprocessing import MinMaxScaler\n",
    "from sklearn.decomposition import PCA\n",
    "\n",
    "# Error Metrics \n",
    "from sklearn.metrics import mean_absolute_error\n",
    "from sklearn.metrics import mean_squared_error\n",
    "from sklearn.metrics import r2_score\n",
    "\n",
    "# Regressors\n",
    "from sklearn.ensemble import GradientBoostingRegressor\n",
    "from sklearn.ensemble import RandomForestRegressor\n",
    "from sklearn.linear_model import LinearRegression\n",
    "from sklearn.ensemble import VotingRegressor\n",
    "\n",
    "#Cross Validation \n",
    "from sklearn.model_selection import GridSearchCV"
   ]
  },
  {
   "cell_type": "markdown",
   "metadata": {
    "slideshow": {
     "slide_type": "slide"
    }
   },
   "source": [
    "## 2. Load The Data into a Pandas Frame"
   ]
  },
  {
   "cell_type": "code",
   "execution_count": 2,
   "metadata": {
    "slideshow": {
     "slide_type": "subslide"
    }
   },
   "outputs": [],
   "source": [
    "#For Excel file \n",
    "df= pd.read_excel('finaldata.xlsx')"
   ]
  },
  {
   "cell_type": "markdown",
   "metadata": {
    "slideshow": {
     "slide_type": "slide"
    }
   },
   "source": [
    "# 3. Perform Data Exploratory Analysis\n",
    "##   Pandas Routine \n"
   ]
  },
  {
   "cell_type": "code",
   "execution_count": 3,
   "metadata": {},
   "outputs": [
    {
     "data": {
      "text/html": [
       "<div>\n",
       "<style scoped>\n",
       "    .dataframe tbody tr th:only-of-type {\n",
       "        vertical-align: middle;\n",
       "    }\n",
       "\n",
       "    .dataframe tbody tr th {\n",
       "        vertical-align: top;\n",
       "    }\n",
       "\n",
       "    .dataframe thead th {\n",
       "        text-align: right;\n",
       "    }\n",
       "</style>\n",
       "<table border=\"1\" class=\"dataframe\">\n",
       "  <thead>\n",
       "    <tr style=\"text-align: right;\">\n",
       "      <th></th>\n",
       "      <th>date</th>\n",
       "      <th>stage</th>\n",
       "      <th>temp</th>\n",
       "      <th>PH</th>\n",
       "      <th>COD</th>\n",
       "      <th>BOD</th>\n",
       "      <th>TDS</th>\n",
       "      <th>TSS</th>\n",
       "      <th>The efficiency of the bod</th>\n",
       "      <th>The efficiency of cod</th>\n",
       "      <th>The efficiency of TSS</th>\n",
       "    </tr>\n",
       "  </thead>\n",
       "  <tbody>\n",
       "    <tr>\n",
       "      <th>0</th>\n",
       "      <td>2018-03-01 00:00:00</td>\n",
       "      <td>influent</td>\n",
       "      <td>17.0</td>\n",
       "      <td>7.5</td>\n",
       "      <td>610.0</td>\n",
       "      <td>355.0</td>\n",
       "      <td>1460.0</td>\n",
       "      <td>310.0</td>\n",
       "      <td>0.72</td>\n",
       "      <td>0.75</td>\n",
       "      <td>0.76</td>\n",
       "    </tr>\n",
       "    <tr>\n",
       "      <th>1</th>\n",
       "      <td>17/1/2018</td>\n",
       "      <td>influent</td>\n",
       "      <td>14.5</td>\n",
       "      <td>7.8</td>\n",
       "      <td>530.0</td>\n",
       "      <td>275.0</td>\n",
       "      <td>1453.0</td>\n",
       "      <td>255.0</td>\n",
       "      <td>0.75</td>\n",
       "      <td>0.82</td>\n",
       "      <td>0.76</td>\n",
       "    </tr>\n",
       "    <tr>\n",
       "      <th>2</th>\n",
       "      <td>27/1/2018</td>\n",
       "      <td>influent</td>\n",
       "      <td>13.7</td>\n",
       "      <td>7.4</td>\n",
       "      <td>730.0</td>\n",
       "      <td>380.0</td>\n",
       "      <td>1813.0</td>\n",
       "      <td>320.0</td>\n",
       "      <td>0.82</td>\n",
       "      <td>0.85</td>\n",
       "      <td>0.80</td>\n",
       "    </tr>\n",
       "    <tr>\n",
       "      <th>3</th>\n",
       "      <td>2018-01-02 00:00:00</td>\n",
       "      <td>influent</td>\n",
       "      <td>14.0</td>\n",
       "      <td>6.9</td>\n",
       "      <td>675.0</td>\n",
       "      <td>385.0</td>\n",
       "      <td>1520.0</td>\n",
       "      <td>340.0</td>\n",
       "      <td>0.98</td>\n",
       "      <td>0.97</td>\n",
       "      <td>0.79</td>\n",
       "    </tr>\n",
       "    <tr>\n",
       "      <th>4</th>\n",
       "      <td>2018-08-02 00:00:00</td>\n",
       "      <td>influent</td>\n",
       "      <td>17.6</td>\n",
       "      <td>6.8</td>\n",
       "      <td>710.0</td>\n",
       "      <td>395.0</td>\n",
       "      <td>1593.0</td>\n",
       "      <td>350.0</td>\n",
       "      <td>0.80</td>\n",
       "      <td>0.86</td>\n",
       "      <td>0.83</td>\n",
       "    </tr>\n",
       "    <tr>\n",
       "      <th>...</th>\n",
       "      <td>...</td>\n",
       "      <td>...</td>\n",
       "      <td>...</td>\n",
       "      <td>...</td>\n",
       "      <td>...</td>\n",
       "      <td>...</td>\n",
       "      <td>...</td>\n",
       "      <td>...</td>\n",
       "      <td>...</td>\n",
       "      <td>...</td>\n",
       "      <td>...</td>\n",
       "    </tr>\n",
       "    <tr>\n",
       "      <th>263</th>\n",
       "      <td>NaN</td>\n",
       "      <td>influent</td>\n",
       "      <td>NaN</td>\n",
       "      <td>NaN</td>\n",
       "      <td>NaN</td>\n",
       "      <td>NaN</td>\n",
       "      <td>NaN</td>\n",
       "      <td>NaN</td>\n",
       "      <td>NaN</td>\n",
       "      <td>NaN</td>\n",
       "      <td>NaN</td>\n",
       "    </tr>\n",
       "    <tr>\n",
       "      <th>264</th>\n",
       "      <td>NaN</td>\n",
       "      <td>influent</td>\n",
       "      <td>NaN</td>\n",
       "      <td>NaN</td>\n",
       "      <td>NaN</td>\n",
       "      <td>NaN</td>\n",
       "      <td>NaN</td>\n",
       "      <td>NaN</td>\n",
       "      <td>NaN</td>\n",
       "      <td>NaN</td>\n",
       "      <td>NaN</td>\n",
       "    </tr>\n",
       "    <tr>\n",
       "      <th>265</th>\n",
       "      <td>NaN</td>\n",
       "      <td>influent</td>\n",
       "      <td>NaN</td>\n",
       "      <td>NaN</td>\n",
       "      <td>NaN</td>\n",
       "      <td>NaN</td>\n",
       "      <td>NaN</td>\n",
       "      <td>NaN</td>\n",
       "      <td>NaN</td>\n",
       "      <td>NaN</td>\n",
       "      <td>NaN</td>\n",
       "    </tr>\n",
       "    <tr>\n",
       "      <th>266</th>\n",
       "      <td>NaN</td>\n",
       "      <td>influent</td>\n",
       "      <td>NaN</td>\n",
       "      <td>NaN</td>\n",
       "      <td>NaN</td>\n",
       "      <td>NaN</td>\n",
       "      <td>NaN</td>\n",
       "      <td>NaN</td>\n",
       "      <td>NaN</td>\n",
       "      <td>NaN</td>\n",
       "      <td>NaN</td>\n",
       "    </tr>\n",
       "    <tr>\n",
       "      <th>267</th>\n",
       "      <td>NaN</td>\n",
       "      <td>influent</td>\n",
       "      <td>NaN</td>\n",
       "      <td>NaN</td>\n",
       "      <td>NaN</td>\n",
       "      <td>NaN</td>\n",
       "      <td>NaN</td>\n",
       "      <td>NaN</td>\n",
       "      <td>NaN</td>\n",
       "      <td>NaN</td>\n",
       "      <td>NaN</td>\n",
       "    </tr>\n",
       "  </tbody>\n",
       "</table>\n",
       "<p>268 rows × 11 columns</p>\n",
       "</div>"
      ],
      "text/plain": [
       "                    date     stage  temp   PH    COD    BOD     TDS    TSS  \\\n",
       "0    2018-03-01 00:00:00  influent  17.0  7.5  610.0  355.0  1460.0  310.0   \n",
       "1              17/1/2018  influent  14.5  7.8  530.0  275.0  1453.0  255.0   \n",
       "2              27/1/2018  influent  13.7  7.4  730.0  380.0  1813.0  320.0   \n",
       "3    2018-01-02 00:00:00  influent  14.0  6.9  675.0  385.0  1520.0  340.0   \n",
       "4    2018-08-02 00:00:00  influent  17.6  6.8  710.0  395.0  1593.0  350.0   \n",
       "..                   ...       ...   ...  ...    ...    ...     ...    ...   \n",
       "263                  NaN  influent   NaN  NaN    NaN    NaN     NaN    NaN   \n",
       "264                  NaN  influent   NaN  NaN    NaN    NaN     NaN    NaN   \n",
       "265                  NaN  influent   NaN  NaN    NaN    NaN     NaN    NaN   \n",
       "266                  NaN  influent   NaN  NaN    NaN    NaN     NaN    NaN   \n",
       "267                  NaN  influent   NaN  NaN    NaN    NaN     NaN    NaN   \n",
       "\n",
       "     The efficiency of the bod  The efficiency of cod  The efficiency of TSS  \n",
       "0                         0.72                   0.75                   0.76  \n",
       "1                         0.75                   0.82                   0.76  \n",
       "2                         0.82                   0.85                   0.80  \n",
       "3                         0.98                   0.97                   0.79  \n",
       "4                         0.80                   0.86                   0.83  \n",
       "..                         ...                    ...                    ...  \n",
       "263                        NaN                    NaN                    NaN  \n",
       "264                        NaN                    NaN                    NaN  \n",
       "265                        NaN                    NaN                    NaN  \n",
       "266                        NaN                    NaN                    NaN  \n",
       "267                        NaN                    NaN                    NaN  \n",
       "\n",
       "[268 rows x 11 columns]"
      ]
     },
     "execution_count": 3,
     "metadata": {},
     "output_type": "execute_result"
    }
   ],
   "source": [
    "df"
   ]
  },
  {
   "cell_type": "markdown",
   "metadata": {},
   "source": [
    "### Check For Missing Data "
   ]
  },
  {
   "cell_type": "code",
   "execution_count": 4,
   "metadata": {},
   "outputs": [
    {
     "name": "stdout",
     "output_type": "stream",
     "text": [
      "TSS                          155\n",
      "The efficiency of TSS        154\n",
      "The efficiency of cod        154\n",
      "The efficiency of the bod    154\n",
      "TDS                          154\n",
      "BOD                          154\n",
      "COD                          154\n",
      "PH                           154\n",
      "temp                         154\n",
      "date                         154\n",
      "stage                          0\n",
      "dtype: int64\n"
     ]
    }
   ],
   "source": [
    "print(df.isnull().sum().sort_values(ascending=False))"
   ]
  },
  {
   "cell_type": "markdown",
   "metadata": {},
   "source": [
    "### Drop Rows with None Values "
   ]
  },
  {
   "cell_type": "code",
   "execution_count": 5,
   "metadata": {},
   "outputs": [
    {
     "data": {
      "text/html": [
       "<div>\n",
       "<style scoped>\n",
       "    .dataframe tbody tr th:only-of-type {\n",
       "        vertical-align: middle;\n",
       "    }\n",
       "\n",
       "    .dataframe tbody tr th {\n",
       "        vertical-align: top;\n",
       "    }\n",
       "\n",
       "    .dataframe thead th {\n",
       "        text-align: right;\n",
       "    }\n",
       "</style>\n",
       "<table border=\"1\" class=\"dataframe\">\n",
       "  <thead>\n",
       "    <tr style=\"text-align: right;\">\n",
       "      <th></th>\n",
       "      <th>date</th>\n",
       "      <th>stage</th>\n",
       "      <th>temp</th>\n",
       "      <th>PH</th>\n",
       "      <th>COD</th>\n",
       "      <th>BOD</th>\n",
       "      <th>TDS</th>\n",
       "      <th>TSS</th>\n",
       "      <th>The efficiency of the bod</th>\n",
       "      <th>The efficiency of cod</th>\n",
       "      <th>The efficiency of TSS</th>\n",
       "    </tr>\n",
       "  </thead>\n",
       "  <tbody>\n",
       "    <tr>\n",
       "      <th>0</th>\n",
       "      <td>2018-03-01 00:00:00</td>\n",
       "      <td>influent</td>\n",
       "      <td>17.0</td>\n",
       "      <td>7.50</td>\n",
       "      <td>610.0</td>\n",
       "      <td>355.0</td>\n",
       "      <td>1460.0</td>\n",
       "      <td>310.0</td>\n",
       "      <td>0.72</td>\n",
       "      <td>0.75</td>\n",
       "      <td>0.76</td>\n",
       "    </tr>\n",
       "    <tr>\n",
       "      <th>1</th>\n",
       "      <td>17/1/2018</td>\n",
       "      <td>influent</td>\n",
       "      <td>14.5</td>\n",
       "      <td>7.80</td>\n",
       "      <td>530.0</td>\n",
       "      <td>275.0</td>\n",
       "      <td>1453.0</td>\n",
       "      <td>255.0</td>\n",
       "      <td>0.75</td>\n",
       "      <td>0.82</td>\n",
       "      <td>0.76</td>\n",
       "    </tr>\n",
       "    <tr>\n",
       "      <th>2</th>\n",
       "      <td>27/1/2018</td>\n",
       "      <td>influent</td>\n",
       "      <td>13.7</td>\n",
       "      <td>7.40</td>\n",
       "      <td>730.0</td>\n",
       "      <td>380.0</td>\n",
       "      <td>1813.0</td>\n",
       "      <td>320.0</td>\n",
       "      <td>0.82</td>\n",
       "      <td>0.85</td>\n",
       "      <td>0.80</td>\n",
       "    </tr>\n",
       "    <tr>\n",
       "      <th>3</th>\n",
       "      <td>2018-01-02 00:00:00</td>\n",
       "      <td>influent</td>\n",
       "      <td>14.0</td>\n",
       "      <td>6.90</td>\n",
       "      <td>675.0</td>\n",
       "      <td>385.0</td>\n",
       "      <td>1520.0</td>\n",
       "      <td>340.0</td>\n",
       "      <td>0.98</td>\n",
       "      <td>0.97</td>\n",
       "      <td>0.79</td>\n",
       "    </tr>\n",
       "    <tr>\n",
       "      <th>4</th>\n",
       "      <td>2018-08-02 00:00:00</td>\n",
       "      <td>influent</td>\n",
       "      <td>17.6</td>\n",
       "      <td>6.80</td>\n",
       "      <td>710.0</td>\n",
       "      <td>395.0</td>\n",
       "      <td>1593.0</td>\n",
       "      <td>350.0</td>\n",
       "      <td>0.80</td>\n",
       "      <td>0.86</td>\n",
       "      <td>0.83</td>\n",
       "    </tr>\n",
       "    <tr>\n",
       "      <th>...</th>\n",
       "      <td>...</td>\n",
       "      <td>...</td>\n",
       "      <td>...</td>\n",
       "      <td>...</td>\n",
       "      <td>...</td>\n",
       "      <td>...</td>\n",
       "      <td>...</td>\n",
       "      <td>...</td>\n",
       "      <td>...</td>\n",
       "      <td>...</td>\n",
       "      <td>...</td>\n",
       "    </tr>\n",
       "    <tr>\n",
       "      <th>109</th>\n",
       "      <td>2020-05-07 00:00:00</td>\n",
       "      <td>influent</td>\n",
       "      <td>28.4</td>\n",
       "      <td>6.82</td>\n",
       "      <td>704.0</td>\n",
       "      <td>410.0</td>\n",
       "      <td>1315.0</td>\n",
       "      <td>372.0</td>\n",
       "      <td>0.92</td>\n",
       "      <td>0.91</td>\n",
       "      <td>0.81</td>\n",
       "    </tr>\n",
       "    <tr>\n",
       "      <th>110</th>\n",
       "      <td>2020-12-07 00:00:00</td>\n",
       "      <td>influent</td>\n",
       "      <td>25.5</td>\n",
       "      <td>6.93</td>\n",
       "      <td>737.0</td>\n",
       "      <td>310.0</td>\n",
       "      <td>1260.0</td>\n",
       "      <td>345.0</td>\n",
       "      <td>0.83</td>\n",
       "      <td>0.90</td>\n",
       "      <td>0.75</td>\n",
       "    </tr>\n",
       "    <tr>\n",
       "      <th>111</th>\n",
       "      <td>19/7/2020</td>\n",
       "      <td>influent</td>\n",
       "      <td>26.1</td>\n",
       "      <td>7.36</td>\n",
       "      <td>610.0</td>\n",
       "      <td>340.0</td>\n",
       "      <td>2330.0</td>\n",
       "      <td>278.0</td>\n",
       "      <td>0.88</td>\n",
       "      <td>0.88</td>\n",
       "      <td>0.79</td>\n",
       "    </tr>\n",
       "    <tr>\n",
       "      <th>112</th>\n",
       "      <td>19/8/2020</td>\n",
       "      <td>influent</td>\n",
       "      <td>28.9</td>\n",
       "      <td>7.27</td>\n",
       "      <td>650.0</td>\n",
       "      <td>321.0</td>\n",
       "      <td>1130.0</td>\n",
       "      <td>790.0</td>\n",
       "      <td>0.78</td>\n",
       "      <td>0.79</td>\n",
       "      <td>0.87</td>\n",
       "    </tr>\n",
       "    <tr>\n",
       "      <th>113</th>\n",
       "      <td>27/8/2020</td>\n",
       "      <td>influent</td>\n",
       "      <td>29.0</td>\n",
       "      <td>7.58</td>\n",
       "      <td>670.0</td>\n",
       "      <td>318.0</td>\n",
       "      <td>972.0</td>\n",
       "      <td>250.0</td>\n",
       "      <td>0.78</td>\n",
       "      <td>0.81</td>\n",
       "      <td>0.62</td>\n",
       "    </tr>\n",
       "  </tbody>\n",
       "</table>\n",
       "<p>113 rows × 11 columns</p>\n",
       "</div>"
      ],
      "text/plain": [
       "                    date     stage  temp    PH    COD    BOD     TDS    TSS  \\\n",
       "0    2018-03-01 00:00:00  influent  17.0  7.50  610.0  355.0  1460.0  310.0   \n",
       "1              17/1/2018  influent  14.5  7.80  530.0  275.0  1453.0  255.0   \n",
       "2              27/1/2018  influent  13.7  7.40  730.0  380.0  1813.0  320.0   \n",
       "3    2018-01-02 00:00:00  influent  14.0  6.90  675.0  385.0  1520.0  340.0   \n",
       "4    2018-08-02 00:00:00  influent  17.6  6.80  710.0  395.0  1593.0  350.0   \n",
       "..                   ...       ...   ...   ...    ...    ...     ...    ...   \n",
       "109  2020-05-07 00:00:00  influent  28.4  6.82  704.0  410.0  1315.0  372.0   \n",
       "110  2020-12-07 00:00:00  influent  25.5  6.93  737.0  310.0  1260.0  345.0   \n",
       "111            19/7/2020  influent  26.1  7.36  610.0  340.0  2330.0  278.0   \n",
       "112            19/8/2020  influent  28.9  7.27  650.0  321.0  1130.0  790.0   \n",
       "113            27/8/2020  influent  29.0  7.58  670.0  318.0   972.0  250.0   \n",
       "\n",
       "     The efficiency of the bod  The efficiency of cod  The efficiency of TSS  \n",
       "0                         0.72                   0.75                   0.76  \n",
       "1                         0.75                   0.82                   0.76  \n",
       "2                         0.82                   0.85                   0.80  \n",
       "3                         0.98                   0.97                   0.79  \n",
       "4                         0.80                   0.86                   0.83  \n",
       "..                         ...                    ...                    ...  \n",
       "109                       0.92                   0.91                   0.81  \n",
       "110                       0.83                   0.90                   0.75  \n",
       "111                       0.88                   0.88                   0.79  \n",
       "112                       0.78                   0.79                   0.87  \n",
       "113                       0.78                   0.81                   0.62  \n",
       "\n",
       "[113 rows x 11 columns]"
      ]
     },
     "execution_count": 5,
     "metadata": {},
     "output_type": "execute_result"
    }
   ],
   "source": [
    "df=df.dropna()\n",
    "df"
   ]
  },
  {
   "cell_type": "markdown",
   "metadata": {},
   "source": [
    "### Correct Index"
   ]
  },
  {
   "cell_type": "code",
   "execution_count": 6,
   "metadata": {},
   "outputs": [
    {
     "data": {
      "text/html": [
       "<div>\n",
       "<style scoped>\n",
       "    .dataframe tbody tr th:only-of-type {\n",
       "        vertical-align: middle;\n",
       "    }\n",
       "\n",
       "    .dataframe tbody tr th {\n",
       "        vertical-align: top;\n",
       "    }\n",
       "\n",
       "    .dataframe thead th {\n",
       "        text-align: right;\n",
       "    }\n",
       "</style>\n",
       "<table border=\"1\" class=\"dataframe\">\n",
       "  <thead>\n",
       "    <tr style=\"text-align: right;\">\n",
       "      <th></th>\n",
       "      <th>date</th>\n",
       "      <th>stage</th>\n",
       "      <th>temp</th>\n",
       "      <th>PH</th>\n",
       "      <th>COD</th>\n",
       "      <th>BOD</th>\n",
       "      <th>TDS</th>\n",
       "      <th>TSS</th>\n",
       "      <th>The efficiency of the bod</th>\n",
       "      <th>The efficiency of cod</th>\n",
       "      <th>The efficiency of TSS</th>\n",
       "    </tr>\n",
       "  </thead>\n",
       "  <tbody>\n",
       "    <tr>\n",
       "      <th>1</th>\n",
       "      <td>17/1/2018</td>\n",
       "      <td>influent</td>\n",
       "      <td>14.5</td>\n",
       "      <td>7.80</td>\n",
       "      <td>530.0</td>\n",
       "      <td>275.0</td>\n",
       "      <td>1453.0</td>\n",
       "      <td>255.0</td>\n",
       "      <td>0.75</td>\n",
       "      <td>0.82</td>\n",
       "      <td>0.76</td>\n",
       "    </tr>\n",
       "    <tr>\n",
       "      <th>2</th>\n",
       "      <td>27/1/2018</td>\n",
       "      <td>influent</td>\n",
       "      <td>13.7</td>\n",
       "      <td>7.40</td>\n",
       "      <td>730.0</td>\n",
       "      <td>380.0</td>\n",
       "      <td>1813.0</td>\n",
       "      <td>320.0</td>\n",
       "      <td>0.82</td>\n",
       "      <td>0.85</td>\n",
       "      <td>0.80</td>\n",
       "    </tr>\n",
       "    <tr>\n",
       "      <th>3</th>\n",
       "      <td>2018-01-02 00:00:00</td>\n",
       "      <td>influent</td>\n",
       "      <td>14.0</td>\n",
       "      <td>6.90</td>\n",
       "      <td>675.0</td>\n",
       "      <td>385.0</td>\n",
       "      <td>1520.0</td>\n",
       "      <td>340.0</td>\n",
       "      <td>0.98</td>\n",
       "      <td>0.97</td>\n",
       "      <td>0.79</td>\n",
       "    </tr>\n",
       "    <tr>\n",
       "      <th>4</th>\n",
       "      <td>2018-08-02 00:00:00</td>\n",
       "      <td>influent</td>\n",
       "      <td>17.6</td>\n",
       "      <td>6.80</td>\n",
       "      <td>710.0</td>\n",
       "      <td>395.0</td>\n",
       "      <td>1593.0</td>\n",
       "      <td>350.0</td>\n",
       "      <td>0.80</td>\n",
       "      <td>0.86</td>\n",
       "      <td>0.83</td>\n",
       "    </tr>\n",
       "    <tr>\n",
       "      <th>5</th>\n",
       "      <td>14/2/2018</td>\n",
       "      <td>influent</td>\n",
       "      <td>13.8</td>\n",
       "      <td>6.90</td>\n",
       "      <td>610.0</td>\n",
       "      <td>390.0</td>\n",
       "      <td>1221.0</td>\n",
       "      <td>345.0</td>\n",
       "      <td>0.77</td>\n",
       "      <td>0.82</td>\n",
       "      <td>0.78</td>\n",
       "    </tr>\n",
       "    <tr>\n",
       "      <th>...</th>\n",
       "      <td>...</td>\n",
       "      <td>...</td>\n",
       "      <td>...</td>\n",
       "      <td>...</td>\n",
       "      <td>...</td>\n",
       "      <td>...</td>\n",
       "      <td>...</td>\n",
       "      <td>...</td>\n",
       "      <td>...</td>\n",
       "      <td>...</td>\n",
       "      <td>...</td>\n",
       "    </tr>\n",
       "    <tr>\n",
       "      <th>108</th>\n",
       "      <td>2020-05-07 00:00:00</td>\n",
       "      <td>influent</td>\n",
       "      <td>28.4</td>\n",
       "      <td>6.82</td>\n",
       "      <td>704.0</td>\n",
       "      <td>410.0</td>\n",
       "      <td>1315.0</td>\n",
       "      <td>372.0</td>\n",
       "      <td>0.92</td>\n",
       "      <td>0.91</td>\n",
       "      <td>0.81</td>\n",
       "    </tr>\n",
       "    <tr>\n",
       "      <th>109</th>\n",
       "      <td>2020-12-07 00:00:00</td>\n",
       "      <td>influent</td>\n",
       "      <td>25.5</td>\n",
       "      <td>6.93</td>\n",
       "      <td>737.0</td>\n",
       "      <td>310.0</td>\n",
       "      <td>1260.0</td>\n",
       "      <td>345.0</td>\n",
       "      <td>0.83</td>\n",
       "      <td>0.90</td>\n",
       "      <td>0.75</td>\n",
       "    </tr>\n",
       "    <tr>\n",
       "      <th>110</th>\n",
       "      <td>19/7/2020</td>\n",
       "      <td>influent</td>\n",
       "      <td>26.1</td>\n",
       "      <td>7.36</td>\n",
       "      <td>610.0</td>\n",
       "      <td>340.0</td>\n",
       "      <td>2330.0</td>\n",
       "      <td>278.0</td>\n",
       "      <td>0.88</td>\n",
       "      <td>0.88</td>\n",
       "      <td>0.79</td>\n",
       "    </tr>\n",
       "    <tr>\n",
       "      <th>111</th>\n",
       "      <td>19/8/2020</td>\n",
       "      <td>influent</td>\n",
       "      <td>28.9</td>\n",
       "      <td>7.27</td>\n",
       "      <td>650.0</td>\n",
       "      <td>321.0</td>\n",
       "      <td>1130.0</td>\n",
       "      <td>790.0</td>\n",
       "      <td>0.78</td>\n",
       "      <td>0.79</td>\n",
       "      <td>0.87</td>\n",
       "    </tr>\n",
       "    <tr>\n",
       "      <th>112</th>\n",
       "      <td>27/8/2020</td>\n",
       "      <td>influent</td>\n",
       "      <td>29.0</td>\n",
       "      <td>7.58</td>\n",
       "      <td>670.0</td>\n",
       "      <td>318.0</td>\n",
       "      <td>972.0</td>\n",
       "      <td>250.0</td>\n",
       "      <td>0.78</td>\n",
       "      <td>0.81</td>\n",
       "      <td>0.62</td>\n",
       "    </tr>\n",
       "  </tbody>\n",
       "</table>\n",
       "<p>112 rows × 11 columns</p>\n",
       "</div>"
      ],
      "text/plain": [
       "                    date     stage  temp    PH    COD    BOD     TDS    TSS  \\\n",
       "1              17/1/2018  influent  14.5  7.80  530.0  275.0  1453.0  255.0   \n",
       "2              27/1/2018  influent  13.7  7.40  730.0  380.0  1813.0  320.0   \n",
       "3    2018-01-02 00:00:00  influent  14.0  6.90  675.0  385.0  1520.0  340.0   \n",
       "4    2018-08-02 00:00:00  influent  17.6  6.80  710.0  395.0  1593.0  350.0   \n",
       "5              14/2/2018  influent  13.8  6.90  610.0  390.0  1221.0  345.0   \n",
       "..                   ...       ...   ...   ...    ...    ...     ...    ...   \n",
       "108  2020-05-07 00:00:00  influent  28.4  6.82  704.0  410.0  1315.0  372.0   \n",
       "109  2020-12-07 00:00:00  influent  25.5  6.93  737.0  310.0  1260.0  345.0   \n",
       "110            19/7/2020  influent  26.1  7.36  610.0  340.0  2330.0  278.0   \n",
       "111            19/8/2020  influent  28.9  7.27  650.0  321.0  1130.0  790.0   \n",
       "112            27/8/2020  influent  29.0  7.58  670.0  318.0   972.0  250.0   \n",
       "\n",
       "     The efficiency of the bod  The efficiency of cod  The efficiency of TSS  \n",
       "1                         0.75                   0.82                   0.76  \n",
       "2                         0.82                   0.85                   0.80  \n",
       "3                         0.98                   0.97                   0.79  \n",
       "4                         0.80                   0.86                   0.83  \n",
       "5                         0.77                   0.82                   0.78  \n",
       "..                         ...                    ...                    ...  \n",
       "108                       0.92                   0.91                   0.81  \n",
       "109                       0.83                   0.90                   0.75  \n",
       "110                       0.88                   0.88                   0.79  \n",
       "111                       0.78                   0.79                   0.87  \n",
       "112                       0.78                   0.81                   0.62  \n",
       "\n",
       "[112 rows x 11 columns]"
      ]
     },
     "execution_count": 6,
     "metadata": {},
     "output_type": "execute_result"
    }
   ],
   "source": [
    "df=df.reset_index(drop=True)\n",
    "df=df[1:]\n",
    "df"
   ]
  },
  {
   "cell_type": "markdown",
   "metadata": {},
   "source": [
    "### Describe Your Data\n"
   ]
  },
  {
   "cell_type": "code",
   "execution_count": 7,
   "metadata": {},
   "outputs": [
    {
     "data": {
      "text/html": [
       "<div>\n",
       "<style scoped>\n",
       "    .dataframe tbody tr th:only-of-type {\n",
       "        vertical-align: middle;\n",
       "    }\n",
       "\n",
       "    .dataframe tbody tr th {\n",
       "        vertical-align: top;\n",
       "    }\n",
       "\n",
       "    .dataframe thead th {\n",
       "        text-align: right;\n",
       "    }\n",
       "</style>\n",
       "<table border=\"1\" class=\"dataframe\">\n",
       "  <thead>\n",
       "    <tr style=\"text-align: right;\">\n",
       "      <th></th>\n",
       "      <th>temp</th>\n",
       "      <th>PH</th>\n",
       "      <th>COD</th>\n",
       "      <th>BOD</th>\n",
       "      <th>TDS</th>\n",
       "      <th>TSS</th>\n",
       "      <th>The efficiency of the bod</th>\n",
       "      <th>The efficiency of cod</th>\n",
       "      <th>The efficiency of TSS</th>\n",
       "    </tr>\n",
       "  </thead>\n",
       "  <tbody>\n",
       "    <tr>\n",
       "      <th>count</th>\n",
       "      <td>112.000000</td>\n",
       "      <td>112.000000</td>\n",
       "      <td>112.000000</td>\n",
       "      <td>112.000000</td>\n",
       "      <td>112.000000</td>\n",
       "      <td>112.000000</td>\n",
       "      <td>112.000000</td>\n",
       "      <td>112.000000</td>\n",
       "      <td>112.000000</td>\n",
       "    </tr>\n",
       "    <tr>\n",
       "      <th>mean</th>\n",
       "      <td>22.740179</td>\n",
       "      <td>7.033214</td>\n",
       "      <td>671.285714</td>\n",
       "      <td>386.321429</td>\n",
       "      <td>1237.535714</td>\n",
       "      <td>341.428571</td>\n",
       "      <td>0.796786</td>\n",
       "      <td>0.809196</td>\n",
       "      <td>0.776696</td>\n",
       "    </tr>\n",
       "    <tr>\n",
       "      <th>std</th>\n",
       "      <td>4.820386</td>\n",
       "      <td>0.498770</td>\n",
       "      <td>149.533715</td>\n",
       "      <td>84.062527</td>\n",
       "      <td>326.834336</td>\n",
       "      <td>110.710621</td>\n",
       "      <td>0.076420</td>\n",
       "      <td>0.071925</td>\n",
       "      <td>0.104850</td>\n",
       "    </tr>\n",
       "    <tr>\n",
       "      <th>min</th>\n",
       "      <td>13.700000</td>\n",
       "      <td>3.670000</td>\n",
       "      <td>60.000000</td>\n",
       "      <td>130.000000</td>\n",
       "      <td>111.000000</td>\n",
       "      <td>93.000000</td>\n",
       "      <td>0.460000</td>\n",
       "      <td>0.530000</td>\n",
       "      <td>0.250000</td>\n",
       "    </tr>\n",
       "    <tr>\n",
       "      <th>25%</th>\n",
       "      <td>18.175000</td>\n",
       "      <td>6.800000</td>\n",
       "      <td>610.000000</td>\n",
       "      <td>337.000000</td>\n",
       "      <td>1032.500000</td>\n",
       "      <td>250.000000</td>\n",
       "      <td>0.767500</td>\n",
       "      <td>0.780000</td>\n",
       "      <td>0.720000</td>\n",
       "    </tr>\n",
       "    <tr>\n",
       "      <th>50%</th>\n",
       "      <td>23.550000</td>\n",
       "      <td>7.100000</td>\n",
       "      <td>690.000000</td>\n",
       "      <td>390.000000</td>\n",
       "      <td>1236.000000</td>\n",
       "      <td>345.000000</td>\n",
       "      <td>0.800000</td>\n",
       "      <td>0.820000</td>\n",
       "      <td>0.790000</td>\n",
       "    </tr>\n",
       "    <tr>\n",
       "      <th>75%</th>\n",
       "      <td>27.050000</td>\n",
       "      <td>7.280000</td>\n",
       "      <td>752.500000</td>\n",
       "      <td>430.000000</td>\n",
       "      <td>1432.000000</td>\n",
       "      <td>406.000000</td>\n",
       "      <td>0.850000</td>\n",
       "      <td>0.852500</td>\n",
       "      <td>0.852500</td>\n",
       "    </tr>\n",
       "    <tr>\n",
       "      <th>max</th>\n",
       "      <td>34.000000</td>\n",
       "      <td>8.630000</td>\n",
       "      <td>1040.000000</td>\n",
       "      <td>570.000000</td>\n",
       "      <td>2330.000000</td>\n",
       "      <td>790.000000</td>\n",
       "      <td>0.980000</td>\n",
       "      <td>0.970000</td>\n",
       "      <td>0.940000</td>\n",
       "    </tr>\n",
       "  </tbody>\n",
       "</table>\n",
       "</div>"
      ],
      "text/plain": [
       "             temp          PH          COD         BOD          TDS  \\\n",
       "count  112.000000  112.000000   112.000000  112.000000   112.000000   \n",
       "mean    22.740179    7.033214   671.285714  386.321429  1237.535714   \n",
       "std      4.820386    0.498770   149.533715   84.062527   326.834336   \n",
       "min     13.700000    3.670000    60.000000  130.000000   111.000000   \n",
       "25%     18.175000    6.800000   610.000000  337.000000  1032.500000   \n",
       "50%     23.550000    7.100000   690.000000  390.000000  1236.000000   \n",
       "75%     27.050000    7.280000   752.500000  430.000000  1432.000000   \n",
       "max     34.000000    8.630000  1040.000000  570.000000  2330.000000   \n",
       "\n",
       "              TSS  The efficiency of the bod  The efficiency of cod  \\\n",
       "count  112.000000                 112.000000             112.000000   \n",
       "mean   341.428571                   0.796786               0.809196   \n",
       "std    110.710621                   0.076420               0.071925   \n",
       "min     93.000000                   0.460000               0.530000   \n",
       "25%    250.000000                   0.767500               0.780000   \n",
       "50%    345.000000                   0.800000               0.820000   \n",
       "75%    406.000000                   0.850000               0.852500   \n",
       "max    790.000000                   0.980000               0.970000   \n",
       "\n",
       "       The efficiency of TSS  \n",
       "count             112.000000  \n",
       "mean                0.776696  \n",
       "std                 0.104850  \n",
       "min                 0.250000  \n",
       "25%                 0.720000  \n",
       "50%                 0.790000  \n",
       "75%                 0.852500  \n",
       "max                 0.940000  "
      ]
     },
     "execution_count": 7,
     "metadata": {},
     "output_type": "execute_result"
    }
   ],
   "source": [
    "df.describe()"
   ]
  },
  {
   "cell_type": "code",
   "execution_count": 8,
   "metadata": {},
   "outputs": [
    {
     "data": {
      "text/plain": [
       "array(['influent', 'influent', 'influent', 'influent', 'influent',\n",
       "       'influent', 'influent', 'influent', 'influent', 'influent',\n",
       "       'influent', 'influent', 'influent', 'influent', 'influent',\n",
       "       'influent', 'influent', 'influent', 'influent', 'influent',\n",
       "       'influent', 'influent', 'influent', 'influent', 'influent',\n",
       "       'influent', 'influent', 'influent', 'influent', 'influent',\n",
       "       'influent', 'influent', 'influent', 'influent', 'influent',\n",
       "       'influent', 'influent', 'influent', 'influent', 'influent',\n",
       "       'influent', 'influent', 'influent', 'influent', 'influent',\n",
       "       'influent', 'influent', 'influent', 'influent', 'influent',\n",
       "       'influent', 'influent', 'influent', 'influent', 'influent',\n",
       "       'influent', 'influent', 'influent', 'influent', 'influent',\n",
       "       'influent', 'influent', 'influent', 'influent', 'influent',\n",
       "       'influent', 'influent', 'influent', 'influent', 'influent',\n",
       "       'influent', 'influent', 'influent', 'influent', 'influent',\n",
       "       'influent', 'influent', 'influent', 'influent', 'influent',\n",
       "       'influent', 'influent', 'influent', 'influent', 'influent',\n",
       "       'influent', 'influent', 'influent', 'influent', 'influent',\n",
       "       'influent', 'influent', 'influent', 'influent', 'influent',\n",
       "       'influent', 'influent', 'influent', 'influent', 'influent',\n",
       "       'influent', 'influent', 'influent', 'influent', 'influent',\n",
       "       'influent', 'influent', 'influent', 'influent', 'influent',\n",
       "       'influent', 'influent'], dtype=object)"
      ]
     },
     "execution_count": 8,
     "metadata": {},
     "output_type": "execute_result"
    }
   ],
   "source": [
    "df['stage'].values"
   ]
  },
  {
   "cell_type": "markdown",
   "metadata": {},
   "source": [
    "> All the Column has the same Value  so we will drop it"
   ]
  },
  {
   "cell_type": "markdown",
   "metadata": {},
   "source": [
    "#### Drop Specific Columns"
   ]
  },
  {
   "cell_type": "code",
   "execution_count": 9,
   "metadata": {},
   "outputs": [
    {
     "data": {
      "text/html": [
       "<div>\n",
       "<style scoped>\n",
       "    .dataframe tbody tr th:only-of-type {\n",
       "        vertical-align: middle;\n",
       "    }\n",
       "\n",
       "    .dataframe tbody tr th {\n",
       "        vertical-align: top;\n",
       "    }\n",
       "\n",
       "    .dataframe thead th {\n",
       "        text-align: right;\n",
       "    }\n",
       "</style>\n",
       "<table border=\"1\" class=\"dataframe\">\n",
       "  <thead>\n",
       "    <tr style=\"text-align: right;\">\n",
       "      <th></th>\n",
       "      <th>date</th>\n",
       "      <th>temp</th>\n",
       "      <th>PH</th>\n",
       "      <th>COD</th>\n",
       "      <th>BOD</th>\n",
       "      <th>TDS</th>\n",
       "      <th>TSS</th>\n",
       "      <th>The efficiency of the bod</th>\n",
       "      <th>The efficiency of cod</th>\n",
       "      <th>The efficiency of TSS</th>\n",
       "    </tr>\n",
       "  </thead>\n",
       "  <tbody>\n",
       "    <tr>\n",
       "      <th>1</th>\n",
       "      <td>17/1/2018</td>\n",
       "      <td>14.5</td>\n",
       "      <td>7.80</td>\n",
       "      <td>530.0</td>\n",
       "      <td>275.0</td>\n",
       "      <td>1453.0</td>\n",
       "      <td>255.0</td>\n",
       "      <td>0.75</td>\n",
       "      <td>0.82</td>\n",
       "      <td>0.76</td>\n",
       "    </tr>\n",
       "    <tr>\n",
       "      <th>2</th>\n",
       "      <td>27/1/2018</td>\n",
       "      <td>13.7</td>\n",
       "      <td>7.40</td>\n",
       "      <td>730.0</td>\n",
       "      <td>380.0</td>\n",
       "      <td>1813.0</td>\n",
       "      <td>320.0</td>\n",
       "      <td>0.82</td>\n",
       "      <td>0.85</td>\n",
       "      <td>0.80</td>\n",
       "    </tr>\n",
       "    <tr>\n",
       "      <th>3</th>\n",
       "      <td>2018-01-02 00:00:00</td>\n",
       "      <td>14.0</td>\n",
       "      <td>6.90</td>\n",
       "      <td>675.0</td>\n",
       "      <td>385.0</td>\n",
       "      <td>1520.0</td>\n",
       "      <td>340.0</td>\n",
       "      <td>0.98</td>\n",
       "      <td>0.97</td>\n",
       "      <td>0.79</td>\n",
       "    </tr>\n",
       "    <tr>\n",
       "      <th>4</th>\n",
       "      <td>2018-08-02 00:00:00</td>\n",
       "      <td>17.6</td>\n",
       "      <td>6.80</td>\n",
       "      <td>710.0</td>\n",
       "      <td>395.0</td>\n",
       "      <td>1593.0</td>\n",
       "      <td>350.0</td>\n",
       "      <td>0.80</td>\n",
       "      <td>0.86</td>\n",
       "      <td>0.83</td>\n",
       "    </tr>\n",
       "    <tr>\n",
       "      <th>5</th>\n",
       "      <td>14/2/2018</td>\n",
       "      <td>13.8</td>\n",
       "      <td>6.90</td>\n",
       "      <td>610.0</td>\n",
       "      <td>390.0</td>\n",
       "      <td>1221.0</td>\n",
       "      <td>345.0</td>\n",
       "      <td>0.77</td>\n",
       "      <td>0.82</td>\n",
       "      <td>0.78</td>\n",
       "    </tr>\n",
       "    <tr>\n",
       "      <th>...</th>\n",
       "      <td>...</td>\n",
       "      <td>...</td>\n",
       "      <td>...</td>\n",
       "      <td>...</td>\n",
       "      <td>...</td>\n",
       "      <td>...</td>\n",
       "      <td>...</td>\n",
       "      <td>...</td>\n",
       "      <td>...</td>\n",
       "      <td>...</td>\n",
       "    </tr>\n",
       "    <tr>\n",
       "      <th>108</th>\n",
       "      <td>2020-05-07 00:00:00</td>\n",
       "      <td>28.4</td>\n",
       "      <td>6.82</td>\n",
       "      <td>704.0</td>\n",
       "      <td>410.0</td>\n",
       "      <td>1315.0</td>\n",
       "      <td>372.0</td>\n",
       "      <td>0.92</td>\n",
       "      <td>0.91</td>\n",
       "      <td>0.81</td>\n",
       "    </tr>\n",
       "    <tr>\n",
       "      <th>109</th>\n",
       "      <td>2020-12-07 00:00:00</td>\n",
       "      <td>25.5</td>\n",
       "      <td>6.93</td>\n",
       "      <td>737.0</td>\n",
       "      <td>310.0</td>\n",
       "      <td>1260.0</td>\n",
       "      <td>345.0</td>\n",
       "      <td>0.83</td>\n",
       "      <td>0.90</td>\n",
       "      <td>0.75</td>\n",
       "    </tr>\n",
       "    <tr>\n",
       "      <th>110</th>\n",
       "      <td>19/7/2020</td>\n",
       "      <td>26.1</td>\n",
       "      <td>7.36</td>\n",
       "      <td>610.0</td>\n",
       "      <td>340.0</td>\n",
       "      <td>2330.0</td>\n",
       "      <td>278.0</td>\n",
       "      <td>0.88</td>\n",
       "      <td>0.88</td>\n",
       "      <td>0.79</td>\n",
       "    </tr>\n",
       "    <tr>\n",
       "      <th>111</th>\n",
       "      <td>19/8/2020</td>\n",
       "      <td>28.9</td>\n",
       "      <td>7.27</td>\n",
       "      <td>650.0</td>\n",
       "      <td>321.0</td>\n",
       "      <td>1130.0</td>\n",
       "      <td>790.0</td>\n",
       "      <td>0.78</td>\n",
       "      <td>0.79</td>\n",
       "      <td>0.87</td>\n",
       "    </tr>\n",
       "    <tr>\n",
       "      <th>112</th>\n",
       "      <td>27/8/2020</td>\n",
       "      <td>29.0</td>\n",
       "      <td>7.58</td>\n",
       "      <td>670.0</td>\n",
       "      <td>318.0</td>\n",
       "      <td>972.0</td>\n",
       "      <td>250.0</td>\n",
       "      <td>0.78</td>\n",
       "      <td>0.81</td>\n",
       "      <td>0.62</td>\n",
       "    </tr>\n",
       "  </tbody>\n",
       "</table>\n",
       "<p>112 rows × 10 columns</p>\n",
       "</div>"
      ],
      "text/plain": [
       "                    date  temp    PH    COD    BOD     TDS    TSS  \\\n",
       "1              17/1/2018  14.5  7.80  530.0  275.0  1453.0  255.0   \n",
       "2              27/1/2018  13.7  7.40  730.0  380.0  1813.0  320.0   \n",
       "3    2018-01-02 00:00:00  14.0  6.90  675.0  385.0  1520.0  340.0   \n",
       "4    2018-08-02 00:00:00  17.6  6.80  710.0  395.0  1593.0  350.0   \n",
       "5              14/2/2018  13.8  6.90  610.0  390.0  1221.0  345.0   \n",
       "..                   ...   ...   ...    ...    ...     ...    ...   \n",
       "108  2020-05-07 00:00:00  28.4  6.82  704.0  410.0  1315.0  372.0   \n",
       "109  2020-12-07 00:00:00  25.5  6.93  737.0  310.0  1260.0  345.0   \n",
       "110            19/7/2020  26.1  7.36  610.0  340.0  2330.0  278.0   \n",
       "111            19/8/2020  28.9  7.27  650.0  321.0  1130.0  790.0   \n",
       "112            27/8/2020  29.0  7.58  670.0  318.0   972.0  250.0   \n",
       "\n",
       "     The efficiency of the bod  The efficiency of cod  The efficiency of TSS  \n",
       "1                         0.75                   0.82                   0.76  \n",
       "2                         0.82                   0.85                   0.80  \n",
       "3                         0.98                   0.97                   0.79  \n",
       "4                         0.80                   0.86                   0.83  \n",
       "5                         0.77                   0.82                   0.78  \n",
       "..                         ...                    ...                    ...  \n",
       "108                       0.92                   0.91                   0.81  \n",
       "109                       0.83                   0.90                   0.75  \n",
       "110                       0.88                   0.88                   0.79  \n",
       "111                       0.78                   0.79                   0.87  \n",
       "112                       0.78                   0.81                   0.62  \n",
       "\n",
       "[112 rows x 10 columns]"
      ]
     },
     "execution_count": 9,
     "metadata": {},
     "output_type": "execute_result"
    }
   ],
   "source": [
    "df=df.drop(['stage'], 1)\n",
    "df"
   ]
  },
  {
   "cell_type": "markdown",
   "metadata": {},
   "source": [
    "## Seaborn Routine"
   ]
  },
  {
   "cell_type": "markdown",
   "metadata": {},
   "source": [
    "### Heat Map"
   ]
  },
  {
   "cell_type": "code",
   "execution_count": 10,
   "metadata": {},
   "outputs": [
    {
     "data": {
      "image/png": "[encoded data removed]",
      "text/plain": [
       "<Figure size 1152x720 with 2 Axes>"
      ]
     },
     "metadata": {},
     "output_type": "display_data"
    }
   ],
   "source": [
    "plt.figure(figsize = (16,10))\n",
    "sns_plot=sns.heatmap(df.corr(),annot= True)\n",
    "plt.show()"
   ]
  },
  {
   "cell_type": "code",
   "execution_count": 11,
   "metadata": {},
   "outputs": [
    {
     "data": {
      "image/png": "[encoded data removed]",
      "text/plain": [
       "<Figure size 432x288 with 1 Axes>"
      ]
     },
     "metadata": {},
     "output_type": "display_data"
    }
   ],
   "source": [
    "sns_plot = sns.lineplot(x='BOD', y='The efficiency of the bod', data=df)\n"
   ]
  },
  {
   "cell_type": "code",
   "execution_count": 12,
   "metadata": {},
   "outputs": [
    {
     "data": {
      "image/png": "[encoded data removed]",
      "text/plain": [
       "<Figure size 432x288 with 1 Axes>"
      ]
     },
     "metadata": {},
     "output_type": "display_data"
    }
   ],
   "source": [
    "sns_plot = sns.lineplot(x='TSS', y='The efficiency of TSS', data=df)\n"
   ]
  },
  {
   "cell_type": "code",
   "execution_count": 13,
   "metadata": {},
   "outputs": [
    {
     "data": {
      "image/png": "[encoded data removed]",
      "text/plain": [
       "<Figure size 432x288 with 1 Axes>"
      ]
     },
     "metadata": {},
     "output_type": "display_data"
    }
   ],
   "source": [
    "sns_plot = sns.lineplot(x='COD', y='The efficiency of cod', data=df)"
   ]
  },
  {
   "cell_type": "code",
   "execution_count": 14,
   "metadata": {},
   "outputs": [
    {
     "data": {
      "image/png": "[encoded data removed]",
      "text/plain": [
       "<Figure size 432x288 with 1 Axes>"
      ]
     },
     "metadata": {},
     "output_type": "display_data"
    }
   ],
   "source": [
    "sns_plot = sns.lineplot(x='temp', y='The efficiency of TSS', data=df)"
   ]
  },
  {
   "cell_type": "markdown",
   "metadata": {},
   "source": [
    "# For The Efficiency of TSS "
   ]
  },
  {
   "cell_type": "markdown",
   "metadata": {
    "slideshow": {
     "slide_type": "slide"
    }
   },
   "source": [
    "## Data Preprocessing\n"
   ]
  },
  {
   "cell_type": "markdown",
   "metadata": {},
   "source": [
    "## Splitting Data "
   ]
  },
  {
   "cell_type": "code",
   "execution_count": 15,
   "metadata": {},
   "outputs": [],
   "source": [
    "TSSdf=df"
   ]
  },
  {
   "cell_type": "code",
   "execution_count": 16,
   "metadata": {},
   "outputs": [],
   "source": [
    "y=TSSdf['The efficiency of TSS']\n",
    "X=TSSdf.drop(['The efficiency of TSS','The efficiency of the bod','The efficiency of cod','date'],1)"
   ]
  },
  {
   "cell_type": "code",
   "execution_count": 17,
   "metadata": {},
   "outputs": [
    {
     "data": {
      "text/html": [
       "<div>\n",
       "<style scoped>\n",
       "    .dataframe tbody tr th:only-of-type {\n",
       "        vertical-align: middle;\n",
       "    }\n",
       "\n",
       "    .dataframe tbody tr th {\n",
       "        vertical-align: top;\n",
       "    }\n",
       "\n",
       "    .dataframe thead th {\n",
       "        text-align: right;\n",
       "    }\n",
       "</style>\n",
       "<table border=\"1\" class=\"dataframe\">\n",
       "  <thead>\n",
       "    <tr style=\"text-align: right;\">\n",
       "      <th></th>\n",
       "      <th>temp</th>\n",
       "      <th>PH</th>\n",
       "      <th>COD</th>\n",
       "      <th>BOD</th>\n",
       "      <th>TDS</th>\n",
       "      <th>TSS</th>\n",
       "    </tr>\n",
       "  </thead>\n",
       "  <tbody>\n",
       "    <tr>\n",
       "      <th>1</th>\n",
       "      <td>14.5</td>\n",
       "      <td>7.80</td>\n",
       "      <td>530.0</td>\n",
       "      <td>275.0</td>\n",
       "      <td>1453.0</td>\n",
       "      <td>255.0</td>\n",
       "    </tr>\n",
       "    <tr>\n",
       "      <th>2</th>\n",
       "      <td>13.7</td>\n",
       "      <td>7.40</td>\n",
       "      <td>730.0</td>\n",
       "      <td>380.0</td>\n",
       "      <td>1813.0</td>\n",
       "      <td>320.0</td>\n",
       "    </tr>\n",
       "    <tr>\n",
       "      <th>3</th>\n",
       "      <td>14.0</td>\n",
       "      <td>6.90</td>\n",
       "      <td>675.0</td>\n",
       "      <td>385.0</td>\n",
       "      <td>1520.0</td>\n",
       "      <td>340.0</td>\n",
       "    </tr>\n",
       "    <tr>\n",
       "      <th>4</th>\n",
       "      <td>17.6</td>\n",
       "      <td>6.80</td>\n",
       "      <td>710.0</td>\n",
       "      <td>395.0</td>\n",
       "      <td>1593.0</td>\n",
       "      <td>350.0</td>\n",
       "    </tr>\n",
       "    <tr>\n",
       "      <th>5</th>\n",
       "      <td>13.8</td>\n",
       "      <td>6.90</td>\n",
       "      <td>610.0</td>\n",
       "      <td>390.0</td>\n",
       "      <td>1221.0</td>\n",
       "      <td>345.0</td>\n",
       "    </tr>\n",
       "    <tr>\n",
       "      <th>...</th>\n",
       "      <td>...</td>\n",
       "      <td>...</td>\n",
       "      <td>...</td>\n",
       "      <td>...</td>\n",
       "      <td>...</td>\n",
       "      <td>...</td>\n",
       "    </tr>\n",
       "    <tr>\n",
       "      <th>108</th>\n",
       "      <td>28.4</td>\n",
       "      <td>6.82</td>\n",
       "      <td>704.0</td>\n",
       "      <td>410.0</td>\n",
       "      <td>1315.0</td>\n",
       "      <td>372.0</td>\n",
       "    </tr>\n",
       "    <tr>\n",
       "      <th>109</th>\n",
       "      <td>25.5</td>\n",
       "      <td>6.93</td>\n",
       "      <td>737.0</td>\n",
       "      <td>310.0</td>\n",
       "      <td>1260.0</td>\n",
       "      <td>345.0</td>\n",
       "    </tr>\n",
       "    <tr>\n",
       "      <th>110</th>\n",
       "      <td>26.1</td>\n",
       "      <td>7.36</td>\n",
       "      <td>610.0</td>\n",
       "      <td>340.0</td>\n",
       "      <td>2330.0</td>\n",
       "      <td>278.0</td>\n",
       "    </tr>\n",
       "    <tr>\n",
       "      <th>111</th>\n",
       "      <td>28.9</td>\n",
       "      <td>7.27</td>\n",
       "      <td>650.0</td>\n",
       "      <td>321.0</td>\n",
       "      <td>1130.0</td>\n",
       "      <td>790.0</td>\n",
       "    </tr>\n",
       "    <tr>\n",
       "      <th>112</th>\n",
       "      <td>29.0</td>\n",
       "      <td>7.58</td>\n",
       "      <td>670.0</td>\n",
       "      <td>318.0</td>\n",
       "      <td>972.0</td>\n",
       "      <td>250.0</td>\n",
       "    </tr>\n",
       "  </tbody>\n",
       "</table>\n",
       "<p>112 rows × 6 columns</p>\n",
       "</div>"
      ],
      "text/plain": [
       "     temp    PH    COD    BOD     TDS    TSS\n",
       "1    14.5  7.80  530.0  275.0  1453.0  255.0\n",
       "2    13.7  7.40  730.0  380.0  1813.0  320.0\n",
       "3    14.0  6.90  675.0  385.0  1520.0  340.0\n",
       "4    17.6  6.80  710.0  395.0  1593.0  350.0\n",
       "5    13.8  6.90  610.0  390.0  1221.0  345.0\n",
       "..    ...   ...    ...    ...     ...    ...\n",
       "108  28.4  6.82  704.0  410.0  1315.0  372.0\n",
       "109  25.5  6.93  737.0  310.0  1260.0  345.0\n",
       "110  26.1  7.36  610.0  340.0  2330.0  278.0\n",
       "111  28.9  7.27  650.0  321.0  1130.0  790.0\n",
       "112  29.0  7.58  670.0  318.0   972.0  250.0\n",
       "\n",
       "[112 rows x 6 columns]"
      ]
     },
     "execution_count": 17,
     "metadata": {},
     "output_type": "execute_result"
    }
   ],
   "source": [
    "X"
   ]
  },
  {
   "cell_type": "code",
   "execution_count": 18,
   "metadata": {},
   "outputs": [],
   "source": [
    "X_train,X_test,y_train,y_test =train_test_split(X,y , test_size=0.1,random_state= 153 )"
   ]
  },
  {
   "cell_type": "markdown",
   "metadata": {},
   "source": [
    "## Standardization"
   ]
  },
  {
   "cell_type": "code",
   "execution_count": 19,
   "metadata": {},
   "outputs": [
    {
     "data": {
      "text/plain": [
       "1.0"
      ]
     },
     "execution_count": 19,
     "metadata": {},
     "output_type": "execute_result"
    }
   ],
   "source": [
    "scaler = StandardScaler()\n",
    "scaler.fit(X_train)\n",
    "X_train=scaler.transform(X_train)\n",
    "X_test=scaler.transform(X_test)\n",
    "np.std(X_train)"
   ]
  },
  {
   "cell_type": "markdown",
   "metadata": {},
   "source": [
    "# 5. Training Process"
   ]
  },
  {
   "cell_type": "code",
   "execution_count": 20,
   "metadata": {},
   "outputs": [],
   "source": [
    "reg1 = GradientBoostingRegressor(random_state=1)\n",
    "reg2 = RandomForestRegressor(random_state=1)\n",
    "reg3 = LinearRegression()\n",
    "reg2.fit(X_train, y_train)\n",
    "pred2=reg2.predict(X_test)"
   ]
  },
  {
   "cell_type": "markdown",
   "metadata": {},
   "source": [
    "#### Error Evaluation"
   ]
  },
  {
   "cell_type": "code",
   "execution_count": 21,
   "metadata": {},
   "outputs": [
    {
     "name": "stdout",
     "output_type": "stream",
     "text": [
      " Mean Squared Error : 0.0008969291666666674\n",
      " Mean Absoulte Error : 0.02480833333333335\n",
      " R2 Score : 0.780455889852116\n"
     ]
    }
   ],
   "source": [
    "print(' Mean Squared Error :', mean_squared_error(y_test,pred2))\n",
    "print(' Mean Absoulte Error :', mean_absolute_error(y_test,pred2))\n",
    "print(' R2 Score :', r2_score(y_test,pred2))"
   ]
  },
  {
   "cell_type": "code",
   "execution_count": 22,
   "metadata": {},
   "outputs": [
    {
     "data": {
      "text/html": [
       "<div>\n",
       "<style scoped>\n",
       "    .dataframe tbody tr th:only-of-type {\n",
       "        vertical-align: middle;\n",
       "    }\n",
       "\n",
       "    .dataframe tbody tr th {\n",
       "        vertical-align: top;\n",
       "    }\n",
       "\n",
       "    .dataframe thead th {\n",
       "        text-align: right;\n",
       "    }\n",
       "</style>\n",
       "<table border=\"1\" class=\"dataframe\">\n",
       "  <thead>\n",
       "    <tr style=\"text-align: right;\">\n",
       "      <th></th>\n",
       "      <th>index</th>\n",
       "      <th>Actual TSS</th>\n",
       "      <th>Predicted TSS</th>\n",
       "      <th>Error</th>\n",
       "    </tr>\n",
       "  </thead>\n",
       "  <tbody>\n",
       "    <tr>\n",
       "      <th>0</th>\n",
       "      <td>3</td>\n",
       "      <td>0.68</td>\n",
       "      <td>0.6972</td>\n",
       "      <td>0.0172</td>\n",
       "    </tr>\n",
       "    <tr>\n",
       "      <th>1</th>\n",
       "      <td>4</td>\n",
       "      <td>0.75</td>\n",
       "      <td>0.7706</td>\n",
       "      <td>0.0206</td>\n",
       "    </tr>\n",
       "    <tr>\n",
       "      <th>2</th>\n",
       "      <td>7</td>\n",
       "      <td>0.75</td>\n",
       "      <td>0.7393</td>\n",
       "      <td>0.0107</td>\n",
       "    </tr>\n",
       "    <tr>\n",
       "      <th>3</th>\n",
       "      <td>10</td>\n",
       "      <td>0.78</td>\n",
       "      <td>0.7993</td>\n",
       "      <td>0.0193</td>\n",
       "    </tr>\n",
       "    <tr>\n",
       "      <th>4</th>\n",
       "      <td>5</td>\n",
       "      <td>0.79</td>\n",
       "      <td>0.8094</td>\n",
       "      <td>0.0194</td>\n",
       "    </tr>\n",
       "    <tr>\n",
       "      <th>5</th>\n",
       "      <td>6</td>\n",
       "      <td>0.79</td>\n",
       "      <td>0.8451</td>\n",
       "      <td>0.0551</td>\n",
       "    </tr>\n",
       "    <tr>\n",
       "      <th>6</th>\n",
       "      <td>0</td>\n",
       "      <td>0.80</td>\n",
       "      <td>0.8055</td>\n",
       "      <td>0.0055</td>\n",
       "    </tr>\n",
       "    <tr>\n",
       "      <th>7</th>\n",
       "      <td>11</td>\n",
       "      <td>0.83</td>\n",
       "      <td>0.7935</td>\n",
       "      <td>0.0365</td>\n",
       "    </tr>\n",
       "    <tr>\n",
       "      <th>8</th>\n",
       "      <td>9</td>\n",
       "      <td>0.84</td>\n",
       "      <td>0.8570</td>\n",
       "      <td>0.0170</td>\n",
       "    </tr>\n",
       "    <tr>\n",
       "      <th>9</th>\n",
       "      <td>1</td>\n",
       "      <td>0.88</td>\n",
       "      <td>0.8777</td>\n",
       "      <td>0.0023</td>\n",
       "    </tr>\n",
       "    <tr>\n",
       "      <th>10</th>\n",
       "      <td>2</td>\n",
       "      <td>0.88</td>\n",
       "      <td>0.8384</td>\n",
       "      <td>0.0416</td>\n",
       "    </tr>\n",
       "    <tr>\n",
       "      <th>11</th>\n",
       "      <td>8</td>\n",
       "      <td>0.92</td>\n",
       "      <td>0.8675</td>\n",
       "      <td>0.0525</td>\n",
       "    </tr>\n",
       "  </tbody>\n",
       "</table>\n",
       "</div>"
      ],
      "text/plain": [
       "    index  Actual TSS  Predicted TSS   Error\n",
       "0       3        0.68         0.6972  0.0172\n",
       "1       4        0.75         0.7706  0.0206\n",
       "2       7        0.75         0.7393  0.0107\n",
       "3      10        0.78         0.7993  0.0193\n",
       "4       5        0.79         0.8094  0.0194\n",
       "5       6        0.79         0.8451  0.0551\n",
       "6       0        0.80         0.8055  0.0055\n",
       "7      11        0.83         0.7935  0.0365\n",
       "8       9        0.84         0.8570  0.0170\n",
       "9       1        0.88         0.8777  0.0023\n",
       "10      2        0.88         0.8384  0.0416\n",
       "11      8        0.92         0.8675  0.0525"
      ]
     },
     "execution_count": 22,
     "metadata": {},
     "output_type": "execute_result"
    }
   ],
   "source": [
    "err=abs(y_test-pred2)\n",
    "Preds=pd.DataFrame(pred2)\n",
    "Actual=pd.DataFrame(y_test)\n",
    "\n",
    "Error =pd.DataFrame(err)\n",
    "Actual.reset_index(inplace=True)\n",
    "Preds.reset_index(inplace=True)\n",
    "Error.reset_index(inplace=True)\n",
    "Result = pd.concat([Actual, Preds,Error], axis=1)\n",
    "\n",
    "Result=Result.drop(['index'],1)\n",
    "Result.columns=['Actual TSS','Predicted TSS', \"Error\"]\n",
    "Result =Result.sort_values(by=['Actual TSS'])\n",
    "Result.reset_index(inplace=True)\n",
    "Result\n"
   ]
  },
  {
   "cell_type": "code",
   "execution_count": 23,
   "metadata": {},
   "outputs": [
    {
     "data": {
      "image/png": "[encoded data removed]",
      "text/plain": [
       "<Figure size 432x288 with 1 Axes>"
      ]
     },
     "metadata": {},
     "output_type": "display_data"
    }
   ],
   "source": [
    "import matplotlib.pyplot as plt\n",
    "_, ax = plt.subplots()\n",
    "y_pred=pred2\n",
    "ax.scatter(x = range(0, y_test.size), y=y_test, c = 'blue', label = 'Actual', alpha = 0.3)\n",
    "ax.scatter(x = range(0, y_pred.size), y=y_pred, c = 'red', label = 'Predicted', alpha = 0.3)\n",
    "\n",
    "plt.title('Actual and predicted values')\n",
    "plt.xlabel('Observations')\n",
    "plt.ylabel('BOD')\n",
    "plt.legend()\n",
    "plt.show()"
   ]
  },
  {
   "cell_type": "code",
   "execution_count": 24,
   "metadata": {},
   "outputs": [
    {
     "name": "stderr",
     "output_type": "stream",
     "text": [
      "C:\\Users\\DELL\\anaconda3\\lib\\site-packages\\sklearn\\base.py:197: FutureWarning: From version 0.24, get_params will raise an AttributeError if a parameter cannot be retrieved as an instance attribute. Previously it would return None.\n",
      "  FutureWarning)\n"
     ]
    },
    {
     "data": {
      "image/png": "[encoded data removed]",
      "text/plain": [
       "<Figure size 576x396 with 1 Axes>"
      ]
     },
     "metadata": {},
     "output_type": "display_data"
    },
    {
     "data": {
      "text/plain": [
       "<matplotlib.axes._subplots.AxesSubplot at 0x2a43027dd08>"
      ]
     },
     "execution_count": 24,
     "metadata": {},
     "output_type": "execute_result"
    }
   ],
   "source": [
    "from yellowbrick.model_selection import FeatureImportances\n",
    "model=reg2\n",
    "viz = FeatureImportances(model)\n",
    "viz.fit(X, y)\n",
    "viz.show()"
   ]
  },
  {
   "cell_type": "code",
   "execution_count": 25,
   "metadata": {},
   "outputs": [
    {
     "data": {
      "text/plain": [
       "<matplotlib.axes._subplots.AxesSubplot at 0x2a43012a488>"
      ]
     },
     "execution_count": 25,
     "metadata": {},
     "output_type": "execute_result"
    },
    {
     "data": {
      "image/png": "[encoded data removed]",
      "text/plain": [
       "<Figure size 720x360 with 1 Axes>"
      ]
     },
     "metadata": {},
     "output_type": "display_data"
    }
   ],
   "source": [
    "Result.plot(x=Result.index.name, y=['Actual TSS','Predicted TSS','Error'],figsize=(10,5), grid=True  )"
   ]
  },
  {
   "cell_type": "code",
   "execution_count": 26,
   "metadata": {},
   "outputs": [
    {
     "data": {
      "text/html": [
       "<div>\n",
       "<style scoped>\n",
       "    .dataframe tbody tr th:only-of-type {\n",
       "        vertical-align: middle;\n",
       "    }\n",
       "\n",
       "    .dataframe tbody tr th {\n",
       "        vertical-align: top;\n",
       "    }\n",
       "\n",
       "    .dataframe thead th {\n",
       "        text-align: right;\n",
       "    }\n",
       "</style>\n",
       "<table border=\"1\" class=\"dataframe\">\n",
       "  <thead>\n",
       "    <tr style=\"text-align: right;\">\n",
       "      <th></th>\n",
       "      <th>date</th>\n",
       "      <th>temp</th>\n",
       "      <th>PH</th>\n",
       "      <th>COD</th>\n",
       "      <th>BOD</th>\n",
       "      <th>TDS</th>\n",
       "      <th>TSS</th>\n",
       "      <th>The efficiency of the bod</th>\n",
       "      <th>The efficiency of cod</th>\n",
       "      <th>The efficiency of TSS</th>\n",
       "    </tr>\n",
       "  </thead>\n",
       "  <tbody>\n",
       "    <tr>\n",
       "      <th>1</th>\n",
       "      <td>17/1/2018</td>\n",
       "      <td>14.5</td>\n",
       "      <td>7.80</td>\n",
       "      <td>530.0</td>\n",
       "      <td>275.0</td>\n",
       "      <td>1453.0</td>\n",
       "      <td>255.0</td>\n",
       "      <td>0.75</td>\n",
       "      <td>0.82</td>\n",
       "      <td>0.76</td>\n",
       "    </tr>\n",
       "    <tr>\n",
       "      <th>2</th>\n",
       "      <td>27/1/2018</td>\n",
       "      <td>13.7</td>\n",
       "      <td>7.40</td>\n",
       "      <td>730.0</td>\n",
       "      <td>380.0</td>\n",
       "      <td>1813.0</td>\n",
       "      <td>320.0</td>\n",
       "      <td>0.82</td>\n",
       "      <td>0.85</td>\n",
       "      <td>0.80</td>\n",
       "    </tr>\n",
       "    <tr>\n",
       "      <th>3</th>\n",
       "      <td>2018-01-02 00:00:00</td>\n",
       "      <td>14.0</td>\n",
       "      <td>6.90</td>\n",
       "      <td>675.0</td>\n",
       "      <td>385.0</td>\n",
       "      <td>1520.0</td>\n",
       "      <td>340.0</td>\n",
       "      <td>0.98</td>\n",
       "      <td>0.97</td>\n",
       "      <td>0.79</td>\n",
       "    </tr>\n",
       "    <tr>\n",
       "      <th>4</th>\n",
       "      <td>2018-08-02 00:00:00</td>\n",
       "      <td>17.6</td>\n",
       "      <td>6.80</td>\n",
       "      <td>710.0</td>\n",
       "      <td>395.0</td>\n",
       "      <td>1593.0</td>\n",
       "      <td>350.0</td>\n",
       "      <td>0.80</td>\n",
       "      <td>0.86</td>\n",
       "      <td>0.83</td>\n",
       "    </tr>\n",
       "    <tr>\n",
       "      <th>5</th>\n",
       "      <td>14/2/2018</td>\n",
       "      <td>13.8</td>\n",
       "      <td>6.90</td>\n",
       "      <td>610.0</td>\n",
       "      <td>390.0</td>\n",
       "      <td>1221.0</td>\n",
       "      <td>345.0</td>\n",
       "      <td>0.77</td>\n",
       "      <td>0.82</td>\n",
       "      <td>0.78</td>\n",
       "    </tr>\n",
       "    <tr>\n",
       "      <th>...</th>\n",
       "      <td>...</td>\n",
       "      <td>...</td>\n",
       "      <td>...</td>\n",
       "      <td>...</td>\n",
       "      <td>...</td>\n",
       "      <td>...</td>\n",
       "      <td>...</td>\n",
       "      <td>...</td>\n",
       "      <td>...</td>\n",
       "      <td>...</td>\n",
       "    </tr>\n",
       "    <tr>\n",
       "      <th>108</th>\n",
       "      <td>2020-05-07 00:00:00</td>\n",
       "      <td>28.4</td>\n",
       "      <td>6.82</td>\n",
       "      <td>704.0</td>\n",
       "      <td>410.0</td>\n",
       "      <td>1315.0</td>\n",
       "      <td>372.0</td>\n",
       "      <td>0.92</td>\n",
       "      <td>0.91</td>\n",
       "      <td>0.81</td>\n",
       "    </tr>\n",
       "    <tr>\n",
       "      <th>109</th>\n",
       "      <td>2020-12-07 00:00:00</td>\n",
       "      <td>25.5</td>\n",
       "      <td>6.93</td>\n",
       "      <td>737.0</td>\n",
       "      <td>310.0</td>\n",
       "      <td>1260.0</td>\n",
       "      <td>345.0</td>\n",
       "      <td>0.83</td>\n",
       "      <td>0.90</td>\n",
       "      <td>0.75</td>\n",
       "    </tr>\n",
       "    <tr>\n",
       "      <th>110</th>\n",
       "      <td>19/7/2020</td>\n",
       "      <td>26.1</td>\n",
       "      <td>7.36</td>\n",
       "      <td>610.0</td>\n",
       "      <td>340.0</td>\n",
       "      <td>2330.0</td>\n",
       "      <td>278.0</td>\n",
       "      <td>0.88</td>\n",
       "      <td>0.88</td>\n",
       "      <td>0.79</td>\n",
       "    </tr>\n",
       "    <tr>\n",
       "      <th>111</th>\n",
       "      <td>19/8/2020</td>\n",
       "      <td>28.9</td>\n",
       "      <td>7.27</td>\n",
       "      <td>650.0</td>\n",
       "      <td>321.0</td>\n",
       "      <td>1130.0</td>\n",
       "      <td>790.0</td>\n",
       "      <td>0.78</td>\n",
       "      <td>0.79</td>\n",
       "      <td>0.87</td>\n",
       "    </tr>\n",
       "    <tr>\n",
       "      <th>112</th>\n",
       "      <td>27/8/2020</td>\n",
       "      <td>29.0</td>\n",
       "      <td>7.58</td>\n",
       "      <td>670.0</td>\n",
       "      <td>318.0</td>\n",
       "      <td>972.0</td>\n",
       "      <td>250.0</td>\n",
       "      <td>0.78</td>\n",
       "      <td>0.81</td>\n",
       "      <td>0.62</td>\n",
       "    </tr>\n",
       "  </tbody>\n",
       "</table>\n",
       "<p>112 rows × 10 columns</p>\n",
       "</div>"
      ],
      "text/plain": [
       "                    date  temp    PH    COD    BOD     TDS    TSS  \\\n",
       "1              17/1/2018  14.5  7.80  530.0  275.0  1453.0  255.0   \n",
       "2              27/1/2018  13.7  7.40  730.0  380.0  1813.0  320.0   \n",
       "3    2018-01-02 00:00:00  14.0  6.90  675.0  385.0  1520.0  340.0   \n",
       "4    2018-08-02 00:00:00  17.6  6.80  710.0  395.0  1593.0  350.0   \n",
       "5              14/2/2018  13.8  6.90  610.0  390.0  1221.0  345.0   \n",
       "..                   ...   ...   ...    ...    ...     ...    ...   \n",
       "108  2020-05-07 00:00:00  28.4  6.82  704.0  410.0  1315.0  372.0   \n",
       "109  2020-12-07 00:00:00  25.5  6.93  737.0  310.0  1260.0  345.0   \n",
       "110            19/7/2020  26.1  7.36  610.0  340.0  2330.0  278.0   \n",
       "111            19/8/2020  28.9  7.27  650.0  321.0  1130.0  790.0   \n",
       "112            27/8/2020  29.0  7.58  670.0  318.0   972.0  250.0   \n",
       "\n",
       "     The efficiency of the bod  The efficiency of cod  The efficiency of TSS  \n",
       "1                         0.75                   0.82                   0.76  \n",
       "2                         0.82                   0.85                   0.80  \n",
       "3                         0.98                   0.97                   0.79  \n",
       "4                         0.80                   0.86                   0.83  \n",
       "5                         0.77                   0.82                   0.78  \n",
       "..                         ...                    ...                    ...  \n",
       "108                       0.92                   0.91                   0.81  \n",
       "109                       0.83                   0.90                   0.75  \n",
       "110                       0.88                   0.88                   0.79  \n",
       "111                       0.78                   0.79                   0.87  \n",
       "112                       0.78                   0.81                   0.62  \n",
       "\n",
       "[112 rows x 10 columns]"
      ]
     },
     "execution_count": 26,
     "metadata": {},
     "output_type": "execute_result"
    }
   ],
   "source": [
    "df"
   ]
  },
  {
   "cell_type": "markdown",
   "metadata": {
    "slideshow": {
     "slide_type": "slide"
    }
   },
   "source": [
    "# The Effiency of Bod \n",
    "## Data Preprocessing\n"
   ]
  },
  {
   "cell_type": "markdown",
   "metadata": {},
   "source": [
    "## Splitting Data "
   ]
  },
  {
   "cell_type": "code",
   "execution_count": 27,
   "metadata": {},
   "outputs": [],
   "source": [
    "dfBod=df"
   ]
  },
  {
   "cell_type": "code",
   "execution_count": 28,
   "metadata": {},
   "outputs": [],
   "source": [
    "y=dfBod['The efficiency of the bod']\n",
    "X=dfBod.drop(['The efficiency of TSS','The efficiency of the bod','The efficiency of cod','date'],1)"
   ]
  },
  {
   "cell_type": "code",
   "execution_count": 29,
   "metadata": {},
   "outputs": [
    {
     "data": {
      "text/plain": [
       "1      0.75\n",
       "2      0.82\n",
       "3      0.98\n",
       "4      0.80\n",
       "5      0.77\n",
       "       ... \n",
       "108    0.92\n",
       "109    0.83\n",
       "110    0.88\n",
       "111    0.78\n",
       "112    0.78\n",
       "Name: The efficiency of the bod, Length: 112, dtype: float64"
      ]
     },
     "execution_count": 29,
     "metadata": {},
     "output_type": "execute_result"
    }
   ],
   "source": [
    "y"
   ]
  },
  {
   "cell_type": "code",
   "execution_count": 30,
   "metadata": {},
   "outputs": [
    {
     "data": {
      "text/html": [
       "<div>\n",
       "<style scoped>\n",
       "    .dataframe tbody tr th:only-of-type {\n",
       "        vertical-align: middle;\n",
       "    }\n",
       "\n",
       "    .dataframe tbody tr th {\n",
       "        vertical-align: top;\n",
       "    }\n",
       "\n",
       "    .dataframe thead th {\n",
       "        text-align: right;\n",
       "    }\n",
       "</style>\n",
       "<table border=\"1\" class=\"dataframe\">\n",
       "  <thead>\n",
       "    <tr style=\"text-align: right;\">\n",
       "      <th></th>\n",
       "      <th>temp</th>\n",
       "      <th>PH</th>\n",
       "      <th>COD</th>\n",
       "      <th>BOD</th>\n",
       "      <th>TDS</th>\n",
       "      <th>TSS</th>\n",
       "    </tr>\n",
       "  </thead>\n",
       "  <tbody>\n",
       "    <tr>\n",
       "      <th>1</th>\n",
       "      <td>14.5</td>\n",
       "      <td>7.80</td>\n",
       "      <td>530.0</td>\n",
       "      <td>275.0</td>\n",
       "      <td>1453.0</td>\n",
       "      <td>255.0</td>\n",
       "    </tr>\n",
       "    <tr>\n",
       "      <th>2</th>\n",
       "      <td>13.7</td>\n",
       "      <td>7.40</td>\n",
       "      <td>730.0</td>\n",
       "      <td>380.0</td>\n",
       "      <td>1813.0</td>\n",
       "      <td>320.0</td>\n",
       "    </tr>\n",
       "    <tr>\n",
       "      <th>3</th>\n",
       "      <td>14.0</td>\n",
       "      <td>6.90</td>\n",
       "      <td>675.0</td>\n",
       "      <td>385.0</td>\n",
       "      <td>1520.0</td>\n",
       "      <td>340.0</td>\n",
       "    </tr>\n",
       "    <tr>\n",
       "      <th>4</th>\n",
       "      <td>17.6</td>\n",
       "      <td>6.80</td>\n",
       "      <td>710.0</td>\n",
       "      <td>395.0</td>\n",
       "      <td>1593.0</td>\n",
       "      <td>350.0</td>\n",
       "    </tr>\n",
       "    <tr>\n",
       "      <th>5</th>\n",
       "      <td>13.8</td>\n",
       "      <td>6.90</td>\n",
       "      <td>610.0</td>\n",
       "      <td>390.0</td>\n",
       "      <td>1221.0</td>\n",
       "      <td>345.0</td>\n",
       "    </tr>\n",
       "    <tr>\n",
       "      <th>...</th>\n",
       "      <td>...</td>\n",
       "      <td>...</td>\n",
       "      <td>...</td>\n",
       "      <td>...</td>\n",
       "      <td>...</td>\n",
       "      <td>...</td>\n",
       "    </tr>\n",
       "    <tr>\n",
       "      <th>108</th>\n",
       "      <td>28.4</td>\n",
       "      <td>6.82</td>\n",
       "      <td>704.0</td>\n",
       "      <td>410.0</td>\n",
       "      <td>1315.0</td>\n",
       "      <td>372.0</td>\n",
       "    </tr>\n",
       "    <tr>\n",
       "      <th>109</th>\n",
       "      <td>25.5</td>\n",
       "      <td>6.93</td>\n",
       "      <td>737.0</td>\n",
       "      <td>310.0</td>\n",
       "      <td>1260.0</td>\n",
       "      <td>345.0</td>\n",
       "    </tr>\n",
       "    <tr>\n",
       "      <th>110</th>\n",
       "      <td>26.1</td>\n",
       "      <td>7.36</td>\n",
       "      <td>610.0</td>\n",
       "      <td>340.0</td>\n",
       "      <td>2330.0</td>\n",
       "      <td>278.0</td>\n",
       "    </tr>\n",
       "    <tr>\n",
       "      <th>111</th>\n",
       "      <td>28.9</td>\n",
       "      <td>7.27</td>\n",
       "      <td>650.0</td>\n",
       "      <td>321.0</td>\n",
       "      <td>1130.0</td>\n",
       "      <td>790.0</td>\n",
       "    </tr>\n",
       "    <tr>\n",
       "      <th>112</th>\n",
       "      <td>29.0</td>\n",
       "      <td>7.58</td>\n",
       "      <td>670.0</td>\n",
       "      <td>318.0</td>\n",
       "      <td>972.0</td>\n",
       "      <td>250.0</td>\n",
       "    </tr>\n",
       "  </tbody>\n",
       "</table>\n",
       "<p>112 rows × 6 columns</p>\n",
       "</div>"
      ],
      "text/plain": [
       "     temp    PH    COD    BOD     TDS    TSS\n",
       "1    14.5  7.80  530.0  275.0  1453.0  255.0\n",
       "2    13.7  7.40  730.0  380.0  1813.0  320.0\n",
       "3    14.0  6.90  675.0  385.0  1520.0  340.0\n",
       "4    17.6  6.80  710.0  395.0  1593.0  350.0\n",
       "5    13.8  6.90  610.0  390.0  1221.0  345.0\n",
       "..    ...   ...    ...    ...     ...    ...\n",
       "108  28.4  6.82  704.0  410.0  1315.0  372.0\n",
       "109  25.5  6.93  737.0  310.0  1260.0  345.0\n",
       "110  26.1  7.36  610.0  340.0  2330.0  278.0\n",
       "111  28.9  7.27  650.0  321.0  1130.0  790.0\n",
       "112  29.0  7.58  670.0  318.0   972.0  250.0\n",
       "\n",
       "[112 rows x 6 columns]"
      ]
     },
     "execution_count": 30,
     "metadata": {},
     "output_type": "execute_result"
    }
   ],
   "source": [
    "X"
   ]
  },
  {
   "cell_type": "code",
   "execution_count": 31,
   "metadata": {},
   "outputs": [],
   "source": [
    "X_train,X_test,y_train,y_test =train_test_split(X,y , test_size=0.1 ,random_state =890)"
   ]
  },
  {
   "cell_type": "markdown",
   "metadata": {},
   "source": [
    "## Standardization"
   ]
  },
  {
   "cell_type": "code",
   "execution_count": 32,
   "metadata": {},
   "outputs": [
    {
     "data": {
      "text/plain": [
       "1.0"
      ]
     },
     "execution_count": 32,
     "metadata": {},
     "output_type": "execute_result"
    }
   ],
   "source": [
    "scaler = StandardScaler()\n",
    "scaler.fit(X_train)\n",
    "X_train=scaler.transform(X_train)\n",
    "X_test=scaler.transform(X_test)\n",
    "np.std(X_train)"
   ]
  },
  {
   "cell_type": "markdown",
   "metadata": {},
   "source": [
    "# 5. Training Process"
   ]
  },
  {
   "cell_type": "code",
   "execution_count": 33,
   "metadata": {},
   "outputs": [],
   "source": [
    "reg1 = GradientBoostingRegressor(random_state=1)\n",
    "reg2 = RandomForestRegressor(random_state=1)\n",
    "reg3 = LinearRegression()\n",
    "reg2.fit(X_train, y_train)\n",
    "pred2=reg2.predict(X_test)"
   ]
  },
  {
   "cell_type": "markdown",
   "metadata": {},
   "source": [
    "#### Error Evaluation"
   ]
  },
  {
   "cell_type": "code",
   "execution_count": 34,
   "metadata": {},
   "outputs": [
    {
     "name": "stdout",
     "output_type": "stream",
     "text": [
      " Mean Squared Error : 0.0011322125000000102\n",
      " Mean Absoulte Error : 0.025225000000000126\n",
      " R2 Score : 0.6290361774743993\n"
     ]
    }
   ],
   "source": [
    "print(' Mean Squared Error :', mean_squared_error(y_test,pred2))\n",
    "print(' Mean Absoulte Error :', mean_absolute_error(y_test,pred2))\n",
    "print(' R2 Score :', r2_score(y_test,pred2))"
   ]
  },
  {
   "cell_type": "code",
   "execution_count": 35,
   "metadata": {},
   "outputs": [
    {
     "data": {
      "text/html": [
       "<div>\n",
       "<style scoped>\n",
       "    .dataframe tbody tr th:only-of-type {\n",
       "        vertical-align: middle;\n",
       "    }\n",
       "\n",
       "    .dataframe tbody tr th {\n",
       "        vertical-align: top;\n",
       "    }\n",
       "\n",
       "    .dataframe thead th {\n",
       "        text-align: right;\n",
       "    }\n",
       "</style>\n",
       "<table border=\"1\" class=\"dataframe\">\n",
       "  <thead>\n",
       "    <tr style=\"text-align: right;\">\n",
       "      <th></th>\n",
       "      <th>index</th>\n",
       "      <th>Actual Efficency of Bod</th>\n",
       "      <th>Predicted Efficeny of Bod</th>\n",
       "      <th>Error</th>\n",
       "    </tr>\n",
       "  </thead>\n",
       "  <tbody>\n",
       "    <tr>\n",
       "      <th>0</th>\n",
       "      <td>1</td>\n",
       "      <td>0.72</td>\n",
       "      <td>0.7730</td>\n",
       "      <td>0.0530</td>\n",
       "    </tr>\n",
       "    <tr>\n",
       "      <th>1</th>\n",
       "      <td>0</td>\n",
       "      <td>0.73</td>\n",
       "      <td>0.7240</td>\n",
       "      <td>0.0060</td>\n",
       "    </tr>\n",
       "    <tr>\n",
       "      <th>2</th>\n",
       "      <td>2</td>\n",
       "      <td>0.73</td>\n",
       "      <td>0.7112</td>\n",
       "      <td>0.0188</td>\n",
       "    </tr>\n",
       "    <tr>\n",
       "      <th>3</th>\n",
       "      <td>7</td>\n",
       "      <td>0.75</td>\n",
       "      <td>0.7839</td>\n",
       "      <td>0.0339</td>\n",
       "    </tr>\n",
       "    <tr>\n",
       "      <th>4</th>\n",
       "      <td>10</td>\n",
       "      <td>0.75</td>\n",
       "      <td>0.7933</td>\n",
       "      <td>0.0433</td>\n",
       "    </tr>\n",
       "    <tr>\n",
       "      <th>5</th>\n",
       "      <td>4</td>\n",
       "      <td>0.77</td>\n",
       "      <td>0.7663</td>\n",
       "      <td>0.0037</td>\n",
       "    </tr>\n",
       "    <tr>\n",
       "      <th>6</th>\n",
       "      <td>3</td>\n",
       "      <td>0.81</td>\n",
       "      <td>0.7959</td>\n",
       "      <td>0.0141</td>\n",
       "    </tr>\n",
       "    <tr>\n",
       "      <th>7</th>\n",
       "      <td>9</td>\n",
       "      <td>0.81</td>\n",
       "      <td>0.8163</td>\n",
       "      <td>0.0063</td>\n",
       "    </tr>\n",
       "    <tr>\n",
       "      <th>8</th>\n",
       "      <td>6</td>\n",
       "      <td>0.85</td>\n",
       "      <td>0.7876</td>\n",
       "      <td>0.0624</td>\n",
       "    </tr>\n",
       "    <tr>\n",
       "      <th>9</th>\n",
       "      <td>11</td>\n",
       "      <td>0.85</td>\n",
       "      <td>0.8491</td>\n",
       "      <td>0.0009</td>\n",
       "    </tr>\n",
       "    <tr>\n",
       "      <th>10</th>\n",
       "      <td>8</td>\n",
       "      <td>0.86</td>\n",
       "      <td>0.8637</td>\n",
       "      <td>0.0037</td>\n",
       "    </tr>\n",
       "    <tr>\n",
       "      <th>11</th>\n",
       "      <td>5</td>\n",
       "      <td>0.88</td>\n",
       "      <td>0.8234</td>\n",
       "      <td>0.0566</td>\n",
       "    </tr>\n",
       "  </tbody>\n",
       "</table>\n",
       "</div>"
      ],
      "text/plain": [
       "    index  Actual Efficency of Bod  Predicted Efficeny of Bod   Error\n",
       "0       1                     0.72                     0.7730  0.0530\n",
       "1       0                     0.73                     0.7240  0.0060\n",
       "2       2                     0.73                     0.7112  0.0188\n",
       "3       7                     0.75                     0.7839  0.0339\n",
       "4      10                     0.75                     0.7933  0.0433\n",
       "5       4                     0.77                     0.7663  0.0037\n",
       "6       3                     0.81                     0.7959  0.0141\n",
       "7       9                     0.81                     0.8163  0.0063\n",
       "8       6                     0.85                     0.7876  0.0624\n",
       "9      11                     0.85                     0.8491  0.0009\n",
       "10      8                     0.86                     0.8637  0.0037\n",
       "11      5                     0.88                     0.8234  0.0566"
      ]
     },
     "execution_count": 35,
     "metadata": {},
     "output_type": "execute_result"
    }
   ],
   "source": [
    "preds=pred2\n",
    "err=abs(y_test-pred2)\n",
    "Preds=pd.DataFrame(preds)\n",
    "Actual=pd.DataFrame(y_test)\n",
    "\n",
    "Error =pd.DataFrame(err)\n",
    "Actual.reset_index(inplace=True)\n",
    "Preds.reset_index(inplace=True)\n",
    "Error.reset_index(inplace=True)\n",
    "Result = pd.concat([Actual, Preds,Error], axis=1)\n",
    "\n",
    "Result=Result.drop(['index'],1)\n",
    "Result.columns=['Actual Efficency of Bod','Predicted Efficeny of Bod', \"Error\"]\n",
    "Result =Result.sort_values(by=['Actual Efficency of Bod'])\n",
    "Result.reset_index(inplace=True)\n",
    "Result\n"
   ]
  },
  {
   "cell_type": "code",
   "execution_count": 36,
   "metadata": {},
   "outputs": [
    {
     "data": {
      "image/png": "[encoded data removed]",
      "text/plain": [
       "<Figure size 576x396 with 1 Axes>"
      ]
     },
     "metadata": {},
     "output_type": "display_data"
    }
   ],
   "source": [
    "import matplotlib.pyplot as plt\n",
    "_, ax = plt.subplots()\n",
    "y_pred=pred2\n",
    "ax.scatter(x = range(0, y_test.size), y=y_test, c = 'blue', label = 'Actual', alpha = 0.3)\n",
    "ax.scatter(x = range(0, y_pred.size), y=y_pred, c = 'red', label = 'Predicted', alpha = 0.3)\n",
    "\n",
    "plt.title('Actual and predicted values')\n",
    "plt.xlabel('Observations')\n",
    "plt.ylabel('BOD')\n",
    "plt.legend()\n",
    "plt.show()"
   ]
  },
  {
   "cell_type": "code",
   "execution_count": 37,
   "metadata": {},
   "outputs": [
    {
     "name": "stderr",
     "output_type": "stream",
     "text": [
      "C:\\Users\\DELL\\anaconda3\\lib\\site-packages\\sklearn\\base.py:197: FutureWarning: From version 0.24, get_params will raise an AttributeError if a parameter cannot be retrieved as an instance attribute. Previously it would return None.\n",
      "  FutureWarning)\n"
     ]
    },
    {
     "data": {
      "image/png": "[encoded data removed]",
      "text/plain": [
       "<Figure size 576x396 with 1 Axes>"
      ]
     },
     "metadata": {},
     "output_type": "display_data"
    },
    {
     "data": {
      "text/plain": [
       "<matplotlib.axes._subplots.AxesSubplot at 0x2a4303629c8>"
      ]
     },
     "execution_count": 37,
     "metadata": {},
     "output_type": "execute_result"
    }
   ],
   "source": [
    "from yellowbrick.model_selection import FeatureImportances\n",
    "model=reg2\n",
    "viz = FeatureImportances(model)\n",
    "viz.fit(X, y)\n",
    "viz.show()"
   ]
  },
  {
   "cell_type": "code",
   "execution_count": 38,
   "metadata": {},
   "outputs": [
    {
     "data": {
      "text/plain": [
       "<matplotlib.axes._subplots.AxesSubplot at 0x2a4303ae288>"
      ]
     },
     "execution_count": 38,
     "metadata": {},
     "output_type": "execute_result"
    },
    {
     "data": {
      "image/png": "[encoded data removed]",
      "text/plain": [
       "<Figure size 720x360 with 1 Axes>"
      ]
     },
     "metadata": {},
     "output_type": "display_data"
    }
   ],
   "source": [
    "Result.plot(x=Result.index.name, y=['Actual Efficency of Bod','Predicted Efficeny of Bod','Error'],figsize=(10,5), grid=True  )"
   ]
  },
  {
   "cell_type": "markdown",
   "metadata": {
    "slideshow": {
     "slide_type": "slide"
    }
   },
   "source": [
    "# The Effiency of Cod \n",
    "## Data Preprocessing\n"
   ]
  },
  {
   "cell_type": "markdown",
   "metadata": {},
   "source": [
    "## Splitting Data "
   ]
  },
  {
   "cell_type": "code",
   "execution_count": 39,
   "metadata": {},
   "outputs": [],
   "source": [
    "dfcod=df"
   ]
  },
  {
   "cell_type": "code",
   "execution_count": 40,
   "metadata": {},
   "outputs": [],
   "source": [
    "y=dfBod['The efficiency of cod']\n",
    "X=dfBod.drop(['The efficiency of TSS','The efficiency of the bod','The efficiency of cod','date'],1)"
   ]
  },
  {
   "cell_type": "code",
   "execution_count": 41,
   "metadata": {},
   "outputs": [
    {
     "data": {
      "text/plain": [
       "1      0.82\n",
       "2      0.85\n",
       "3      0.97\n",
       "4      0.86\n",
       "5      0.82\n",
       "       ... \n",
       "108    0.91\n",
       "109    0.90\n",
       "110    0.88\n",
       "111    0.79\n",
       "112    0.81\n",
       "Name: The efficiency of cod, Length: 112, dtype: float64"
      ]
     },
     "execution_count": 41,
     "metadata": {},
     "output_type": "execute_result"
    }
   ],
   "source": [
    "y"
   ]
  },
  {
   "cell_type": "code",
   "execution_count": 42,
   "metadata": {},
   "outputs": [
    {
     "data": {
      "text/html": [
       "<div>\n",
       "<style scoped>\n",
       "    .dataframe tbody tr th:only-of-type {\n",
       "        vertical-align: middle;\n",
       "    }\n",
       "\n",
       "    .dataframe tbody tr th {\n",
       "        vertical-align: top;\n",
       "    }\n",
       "\n",
       "    .dataframe thead th {\n",
       "        text-align: right;\n",
       "    }\n",
       "</style>\n",
       "<table border=\"1\" class=\"dataframe\">\n",
       "  <thead>\n",
       "    <tr style=\"text-align: right;\">\n",
       "      <th></th>\n",
       "      <th>temp</th>\n",
       "      <th>PH</th>\n",
       "      <th>COD</th>\n",
       "      <th>BOD</th>\n",
       "      <th>TDS</th>\n",
       "      <th>TSS</th>\n",
       "    </tr>\n",
       "  </thead>\n",
       "  <tbody>\n",
       "    <tr>\n",
       "      <th>1</th>\n",
       "      <td>14.5</td>\n",
       "      <td>7.80</td>\n",
       "      <td>530.0</td>\n",
       "      <td>275.0</td>\n",
       "      <td>1453.0</td>\n",
       "      <td>255.0</td>\n",
       "    </tr>\n",
       "    <tr>\n",
       "      <th>2</th>\n",
       "      <td>13.7</td>\n",
       "      <td>7.40</td>\n",
       "      <td>730.0</td>\n",
       "      <td>380.0</td>\n",
       "      <td>1813.0</td>\n",
       "      <td>320.0</td>\n",
       "    </tr>\n",
       "    <tr>\n",
       "      <th>3</th>\n",
       "      <td>14.0</td>\n",
       "      <td>6.90</td>\n",
       "      <td>675.0</td>\n",
       "      <td>385.0</td>\n",
       "      <td>1520.0</td>\n",
       "      <td>340.0</td>\n",
       "    </tr>\n",
       "    <tr>\n",
       "      <th>4</th>\n",
       "      <td>17.6</td>\n",
       "      <td>6.80</td>\n",
       "      <td>710.0</td>\n",
       "      <td>395.0</td>\n",
       "      <td>1593.0</td>\n",
       "      <td>350.0</td>\n",
       "    </tr>\n",
       "    <tr>\n",
       "      <th>5</th>\n",
       "      <td>13.8</td>\n",
       "      <td>6.90</td>\n",
       "      <td>610.0</td>\n",
       "      <td>390.0</td>\n",
       "      <td>1221.0</td>\n",
       "      <td>345.0</td>\n",
       "    </tr>\n",
       "    <tr>\n",
       "      <th>...</th>\n",
       "      <td>...</td>\n",
       "      <td>...</td>\n",
       "      <td>...</td>\n",
       "      <td>...</td>\n",
       "      <td>...</td>\n",
       "      <td>...</td>\n",
       "    </tr>\n",
       "    <tr>\n",
       "      <th>108</th>\n",
       "      <td>28.4</td>\n",
       "      <td>6.82</td>\n",
       "      <td>704.0</td>\n",
       "      <td>410.0</td>\n",
       "      <td>1315.0</td>\n",
       "      <td>372.0</td>\n",
       "    </tr>\n",
       "    <tr>\n",
       "      <th>109</th>\n",
       "      <td>25.5</td>\n",
       "      <td>6.93</td>\n",
       "      <td>737.0</td>\n",
       "      <td>310.0</td>\n",
       "      <td>1260.0</td>\n",
       "      <td>345.0</td>\n",
       "    </tr>\n",
       "    <tr>\n",
       "      <th>110</th>\n",
       "      <td>26.1</td>\n",
       "      <td>7.36</td>\n",
       "      <td>610.0</td>\n",
       "      <td>340.0</td>\n",
       "      <td>2330.0</td>\n",
       "      <td>278.0</td>\n",
       "    </tr>\n",
       "    <tr>\n",
       "      <th>111</th>\n",
       "      <td>28.9</td>\n",
       "      <td>7.27</td>\n",
       "      <td>650.0</td>\n",
       "      <td>321.0</td>\n",
       "      <td>1130.0</td>\n",
       "      <td>790.0</td>\n",
       "    </tr>\n",
       "    <tr>\n",
       "      <th>112</th>\n",
       "      <td>29.0</td>\n",
       "      <td>7.58</td>\n",
       "      <td>670.0</td>\n",
       "      <td>318.0</td>\n",
       "      <td>972.0</td>\n",
       "      <td>250.0</td>\n",
       "    </tr>\n",
       "  </tbody>\n",
       "</table>\n",
       "<p>112 rows × 6 columns</p>\n",
       "</div>"
      ],
      "text/plain": [
       "     temp    PH    COD    BOD     TDS    TSS\n",
       "1    14.5  7.80  530.0  275.0  1453.0  255.0\n",
       "2    13.7  7.40  730.0  380.0  1813.0  320.0\n",
       "3    14.0  6.90  675.0  385.0  1520.0  340.0\n",
       "4    17.6  6.80  710.0  395.0  1593.0  350.0\n",
       "5    13.8  6.90  610.0  390.0  1221.0  345.0\n",
       "..    ...   ...    ...    ...     ...    ...\n",
       "108  28.4  6.82  704.0  410.0  1315.0  372.0\n",
       "109  25.5  6.93  737.0  310.0  1260.0  345.0\n",
       "110  26.1  7.36  610.0  340.0  2330.0  278.0\n",
       "111  28.9  7.27  650.0  321.0  1130.0  790.0\n",
       "112  29.0  7.58  670.0  318.0   972.0  250.0\n",
       "\n",
       "[112 rows x 6 columns]"
      ]
     },
     "execution_count": 42,
     "metadata": {},
     "output_type": "execute_result"
    }
   ],
   "source": [
    "X"
   ]
  },
  {
   "cell_type": "code",
   "execution_count": 43,
   "metadata": {},
   "outputs": [],
   "source": [
    "X_train,X_test,y_train,y_test =train_test_split(X,y , test_size=0.1 ,random_state =64 )"
   ]
  },
  {
   "cell_type": "markdown",
   "metadata": {},
   "source": [
    "## Standardization"
   ]
  },
  {
   "cell_type": "code",
   "execution_count": 44,
   "metadata": {},
   "outputs": [
    {
     "data": {
      "text/plain": [
       "1.0"
      ]
     },
     "execution_count": 44,
     "metadata": {},
     "output_type": "execute_result"
    }
   ],
   "source": [
    "scaler = StandardScaler()\n",
    "scaler.fit(X_train)\n",
    "X_train=scaler.transform(X_train)\n",
    "X_test=scaler.transform(X_test)\n",
    "np.std(X_train)"
   ]
  },
  {
   "cell_type": "markdown",
   "metadata": {},
   "source": [
    "# 5. Training Process"
   ]
  },
  {
   "cell_type": "code",
   "execution_count": 45,
   "metadata": {},
   "outputs": [],
   "source": [
    "reg1 = GradientBoostingRegressor(random_state=1)\n",
    "reg2 = RandomForestRegressor(random_state=1)\n",
    "reg3 = LinearRegression()\n",
    "reg2.fit(X_train, y_train)\n",
    "pred2=reg2.predict(X_test)"
   ]
  },
  {
   "cell_type": "markdown",
   "metadata": {},
   "source": [
    "#### Error Evaluation"
   ]
  },
  {
   "cell_type": "code",
   "execution_count": 46,
   "metadata": {},
   "outputs": [
    {
     "name": "stdout",
     "output_type": "stream",
     "text": [
      " Mean Squared Error : 0.0006421291666666697\n",
      " Mean Absoulte Error : 0.01959166666666683\n",
      " R2 Score : 0.6710544290288137\n"
     ]
    }
   ],
   "source": [
    "print(' Mean Squared Error :', mean_squared_error(y_test,pred2))\n",
    "print(' Mean Absoulte Error :', mean_absolute_error(y_test,pred2))\n",
    "print(' R2 Score :', r2_score(y_test,pred2))"
   ]
  },
  {
   "cell_type": "code",
   "execution_count": 47,
   "metadata": {},
   "outputs": [
    {
     "data": {
      "text/html": [
       "<div>\n",
       "<style scoped>\n",
       "    .dataframe tbody tr th:only-of-type {\n",
       "        vertical-align: middle;\n",
       "    }\n",
       "\n",
       "    .dataframe tbody tr th {\n",
       "        vertical-align: top;\n",
       "    }\n",
       "\n",
       "    .dataframe thead th {\n",
       "        text-align: right;\n",
       "    }\n",
       "</style>\n",
       "<table border=\"1\" class=\"dataframe\">\n",
       "  <thead>\n",
       "    <tr style=\"text-align: right;\">\n",
       "      <th></th>\n",
       "      <th>index</th>\n",
       "      <th>Actual Efficency of Cod</th>\n",
       "      <th>Predicted Efficeny of Cod</th>\n",
       "      <th>Error</th>\n",
       "    </tr>\n",
       "  </thead>\n",
       "  <tbody>\n",
       "    <tr>\n",
       "      <th>0</th>\n",
       "      <td>9</td>\n",
       "      <td>0.73</td>\n",
       "      <td>0.6899</td>\n",
       "      <td>0.0401</td>\n",
       "    </tr>\n",
       "    <tr>\n",
       "      <th>1</th>\n",
       "      <td>1</td>\n",
       "      <td>0.76</td>\n",
       "      <td>0.7508</td>\n",
       "      <td>0.0092</td>\n",
       "    </tr>\n",
       "    <tr>\n",
       "      <th>2</th>\n",
       "      <td>6</td>\n",
       "      <td>0.77</td>\n",
       "      <td>0.7619</td>\n",
       "      <td>0.0081</td>\n",
       "    </tr>\n",
       "    <tr>\n",
       "      <th>3</th>\n",
       "      <td>10</td>\n",
       "      <td>0.79</td>\n",
       "      <td>0.8105</td>\n",
       "      <td>0.0205</td>\n",
       "    </tr>\n",
       "    <tr>\n",
       "      <th>4</th>\n",
       "      <td>2</td>\n",
       "      <td>0.80</td>\n",
       "      <td>0.7946</td>\n",
       "      <td>0.0054</td>\n",
       "    </tr>\n",
       "    <tr>\n",
       "      <th>5</th>\n",
       "      <td>3</td>\n",
       "      <td>0.81</td>\n",
       "      <td>0.8090</td>\n",
       "      <td>0.0010</td>\n",
       "    </tr>\n",
       "    <tr>\n",
       "      <th>6</th>\n",
       "      <td>4</td>\n",
       "      <td>0.81</td>\n",
       "      <td>0.8185</td>\n",
       "      <td>0.0085</td>\n",
       "    </tr>\n",
       "    <tr>\n",
       "      <th>7</th>\n",
       "      <td>5</td>\n",
       "      <td>0.83</td>\n",
       "      <td>0.8183</td>\n",
       "      <td>0.0117</td>\n",
       "    </tr>\n",
       "    <tr>\n",
       "      <th>8</th>\n",
       "      <td>0</td>\n",
       "      <td>0.85</td>\n",
       "      <td>0.8204</td>\n",
       "      <td>0.0296</td>\n",
       "    </tr>\n",
       "    <tr>\n",
       "      <th>9</th>\n",
       "      <td>7</td>\n",
       "      <td>0.85</td>\n",
       "      <td>0.8130</td>\n",
       "      <td>0.0370</td>\n",
       "    </tr>\n",
       "    <tr>\n",
       "      <th>10</th>\n",
       "      <td>8</td>\n",
       "      <td>0.86</td>\n",
       "      <td>0.8503</td>\n",
       "      <td>0.0097</td>\n",
       "    </tr>\n",
       "    <tr>\n",
       "      <th>11</th>\n",
       "      <td>11</td>\n",
       "      <td>0.89</td>\n",
       "      <td>0.8357</td>\n",
       "      <td>0.0543</td>\n",
       "    </tr>\n",
       "  </tbody>\n",
       "</table>\n",
       "</div>"
      ],
      "text/plain": [
       "    index  Actual Efficency of Cod  Predicted Efficeny of Cod   Error\n",
       "0       9                     0.73                     0.6899  0.0401\n",
       "1       1                     0.76                     0.7508  0.0092\n",
       "2       6                     0.77                     0.7619  0.0081\n",
       "3      10                     0.79                     0.8105  0.0205\n",
       "4       2                     0.80                     0.7946  0.0054\n",
       "5       3                     0.81                     0.8090  0.0010\n",
       "6       4                     0.81                     0.8185  0.0085\n",
       "7       5                     0.83                     0.8183  0.0117\n",
       "8       0                     0.85                     0.8204  0.0296\n",
       "9       7                     0.85                     0.8130  0.0370\n",
       "10      8                     0.86                     0.8503  0.0097\n",
       "11     11                     0.89                     0.8357  0.0543"
      ]
     },
     "execution_count": 47,
     "metadata": {},
     "output_type": "execute_result"
    }
   ],
   "source": [
    "preds=pred2\n",
    "err=abs(y_test-pred2)\n",
    "Preds=pd.DataFrame(preds)\n",
    "Actual=pd.DataFrame(y_test)\n",
    "\n",
    "Error =pd.DataFrame(err)\n",
    "Actual.reset_index(inplace=True)\n",
    "Preds.reset_index(inplace=True)\n",
    "Error.reset_index(inplace=True)\n",
    "Result = pd.concat([Actual, Preds,Error], axis=1)\n",
    "\n",
    "Result=Result.drop(['index'],1)\n",
    "Result.columns=['Actual Efficency of Cod','Predicted Efficeny of Cod', \"Error\"]\n",
    "Result =Result.sort_values(by=['Actual Efficency of Cod'])\n",
    "Result.reset_index(inplace=True)\n",
    "Result\n"
   ]
  },
  {
   "cell_type": "code",
   "execution_count": 48,
   "metadata": {},
   "outputs": [
    {
     "data": {
      "image/png": "[encoded data removed]",
      "text/plain": [
       "<Figure size 576x396 with 1 Axes>"
      ]
     },
     "metadata": {},
     "output_type": "display_data"
    }
   ],
   "source": [
    "import matplotlib.pyplot as plt\n",
    "_, ax = plt.subplots()\n",
    "y_pred=pred2\n",
    "ax.scatter(x = range(0, y_test.size), y=y_test, c = 'blue', label = 'Actual', alpha = 0.3)\n",
    "ax.scatter(x = range(0, y_pred.size), y=y_pred, c = 'red', label = 'Predicted', alpha = 0.3)\n",
    "\n",
    "plt.title('Actual and predicted values')\n",
    "plt.xlabel('Observations')\n",
    "plt.ylabel('COD')\n",
    "plt.legend()\n",
    "plt.show()"
   ]
  },
  {
   "cell_type": "code",
   "execution_count": 49,
   "metadata": {},
   "outputs": [
    {
     "name": "stderr",
     "output_type": "stream",
     "text": [
      "C:\\Users\\DELL\\anaconda3\\lib\\site-packages\\sklearn\\base.py:197: FutureWarning: From version 0.24, get_params will raise an AttributeError if a parameter cannot be retrieved as an instance attribute. Previously it would return None.\n",
      "  FutureWarning)\n"
     ]
    },
    {
     "data": {
      "image/png": "[encoded data removed]",
      "text/plain": [
       "<Figure size 576x396 with 1 Axes>"
      ]
     },
     "metadata": {},
     "output_type": "display_data"
    },
    {
     "data": {
      "text/plain": [
       "<matplotlib.axes._subplots.AxesSubplot at 0x2a43042edc8>"
      ]
     },
     "execution_count": 49,
     "metadata": {},
     "output_type": "execute_result"
    }
   ],
   "source": [
    "from yellowbrick.model_selection import FeatureImportances\n",
    "model=reg2\n",
    "viz = FeatureImportances(model)\n",
    "viz.fit(X, y)\n",
    "viz.show()"
   ]
  },
  {
   "cell_type": "code",
   "execution_count": 50,
   "metadata": {},
   "outputs": [
    {
     "data": {
      "text/plain": [
       "<matplotlib.axes._subplots.AxesSubplot at 0x2a4304f75c8>"
      ]
     },
     "execution_count": 50,
     "metadata": {},
     "output_type": "execute_result"
    },
    {
     "data": {
      "image/png": "[encoded data removed]",
      "text/plain": [
       "<Figure size 720x360 with 1 Axes>"
      ]
     },
     "metadata": {},
     "output_type": "display_data"
    }
   ],
   "source": [
    "Result.plot(x=Result.index.name, y=['Actual Efficency of Cod','Predicted Efficeny of Cod','Error'],figsize=(10,5), grid=True  )"
   ]
  }
 ],
 "metadata": {
  "kernelspec": {
   "display_name": "Python 3",
   "language": "python",
   "name": "python3"
  },
  "language_info": {
   "codemirror_mode": {
    "name": "ipython",
    "version": 3
   },
   "file_extension": ".py",
   "mimetype": "text/x-python",
   "name": "python",
   "nbconvert_exporter": "python",
   "pygments_lexer": "ipython3",
   "version": "3.7.6"
  }
 },
 "nbformat": 4,
 "nbformat_minor": 4
}
