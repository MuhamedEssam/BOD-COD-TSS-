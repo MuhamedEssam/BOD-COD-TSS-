{
 "cells": [
  {
   "cell_type": "markdown",
   "metadata": {
    "slideshow": {
     "slide_type": "slide"
    }
   },
   "source": [
    "## 1. The Goal of This Project "
   ]
  },
  {
   "cell_type": "markdown",
   "metadata": {
    "slideshow": {
     "slide_type": "slide"
    }
   },
   "source": [
    "## All Packages you need for this "
   ]
  },
  {
   "cell_type": "code",
   "execution_count": 1,
   "metadata": {
    "slideshow": {
     "slide_type": "subslide"
    }
   },
   "outputs": [],
   "source": [
    "# Core\n",
    "import numpy as np\n",
    "import pandas as pd \n",
    "import matplotlib.pyplot as plt \n",
    "import seaborn as sns; sns.set()\n",
    "import sklearn\n",
    "import xlrd\n",
    "\n",
    "# Pre Processing\n",
    "from sklearn.model_selection import train_test_split\n",
    "from sklearn.preprocessing import StandardScaler\n",
    "from sklearn.preprocessing import MinMaxScaler\n",
    "from sklearn.decomposition import PCA\n",
    "\n",
    "# Error Metrics \n",
    "from sklearn.metrics import mean_absolute_error\n",
    "from sklearn.metrics import mean_squared_error\n",
    "from sklearn.metrics import r2_score\n",
    "\n",
    "# Regressors\n",
    "from sklearn.ensemble import GradientBoostingRegressor\n",
    "from sklearn.ensemble import RandomForestRegressor\n",
    "from sklearn.linear_model import LinearRegression\n",
    "from sklearn.ensemble import VotingRegressor\n",
    "\n",
    "#Cross Validation \n",
    "from sklearn.model_selection import GridSearchCV"
   ]
  },
  {
   "cell_type": "markdown",
   "metadata": {
    "slideshow": {
     "slide_type": "slide"
    }
   },
   "source": [
    "## 2. Load The Data into a Pandas Frame"
   ]
  },
  {
   "cell_type": "code",
   "execution_count": 2,
   "metadata": {
    "slideshow": {
     "slide_type": "subslide"
    }
   },
   "outputs": [],
   "source": [
    "#For Excel file \n",
    "df= pd.read_excel('pedict of bod.xlsx')"
   ]
  },
  {
   "cell_type": "markdown",
   "metadata": {
    "slideshow": {
     "slide_type": "slide"
    }
   },
   "source": [
    "# 3. Perform Data Exploratory Analysis\n",
    "##   Pandas Routine \n"
   ]
  },
  {
   "cell_type": "code",
   "execution_count": 3,
   "metadata": {},
   "outputs": [
    {
     "data": {
      "text/html": [
       "<div>\n",
       "<style scoped>\n",
       "    .dataframe tbody tr th:only-of-type {\n",
       "        vertical-align: middle;\n",
       "    }\n",
       "\n",
       "    .dataframe tbody tr th {\n",
       "        vertical-align: top;\n",
       "    }\n",
       "\n",
       "    .dataframe thead th {\n",
       "        text-align: right;\n",
       "    }\n",
       "</style>\n",
       "<table border=\"1\" class=\"dataframe\">\n",
       "  <thead>\n",
       "    <tr style=\"text-align: right;\">\n",
       "      <th></th>\n",
       "      <th>date</th>\n",
       "      <th>stage</th>\n",
       "      <th>temp</th>\n",
       "      <th>PH</th>\n",
       "      <th>COD</th>\n",
       "      <th>BOD</th>\n",
       "      <th>TDS</th>\n",
       "      <th>TSS</th>\n",
       "      <th>The efficiency of the bod</th>\n",
       "    </tr>\n",
       "  </thead>\n",
       "  <tbody>\n",
       "    <tr>\n",
       "      <th>0</th>\n",
       "      <td>2018-03-01 00:00:00</td>\n",
       "      <td>influent</td>\n",
       "      <td>17.0</td>\n",
       "      <td>7.5</td>\n",
       "      <td>610.0</td>\n",
       "      <td>355.0</td>\n",
       "      <td>1460.0</td>\n",
       "      <td>310.0</td>\n",
       "      <td>n</td>\n",
       "    </tr>\n",
       "    <tr>\n",
       "      <th>1</th>\n",
       "      <td>17/1/2018</td>\n",
       "      <td>influent</td>\n",
       "      <td>14.5</td>\n",
       "      <td>7.8</td>\n",
       "      <td>530.0</td>\n",
       "      <td>275.0</td>\n",
       "      <td>1453.0</td>\n",
       "      <td>255.0</td>\n",
       "      <td>0.723944</td>\n",
       "    </tr>\n",
       "    <tr>\n",
       "      <th>2</th>\n",
       "      <td>27/1/2018</td>\n",
       "      <td>influent</td>\n",
       "      <td>13.7</td>\n",
       "      <td>7.4</td>\n",
       "      <td>730.0</td>\n",
       "      <td>380.0</td>\n",
       "      <td>1813.0</td>\n",
       "      <td>320.0</td>\n",
       "      <td>0.752727</td>\n",
       "    </tr>\n",
       "    <tr>\n",
       "      <th>3</th>\n",
       "      <td>2018-01-02 00:00:00</td>\n",
       "      <td>influent</td>\n",
       "      <td>14.0</td>\n",
       "      <td>6.9</td>\n",
       "      <td>675.0</td>\n",
       "      <td>385.0</td>\n",
       "      <td>1520.0</td>\n",
       "      <td>340.0</td>\n",
       "      <td>0.815789</td>\n",
       "    </tr>\n",
       "    <tr>\n",
       "      <th>4</th>\n",
       "      <td>2018-08-02 00:00:00</td>\n",
       "      <td>influent</td>\n",
       "      <td>17.6</td>\n",
       "      <td>6.8</td>\n",
       "      <td>710.0</td>\n",
       "      <td>395.0</td>\n",
       "      <td>1593.0</td>\n",
       "      <td>350.0</td>\n",
       "      <td>0.977403</td>\n",
       "    </tr>\n",
       "    <tr>\n",
       "      <th>...</th>\n",
       "      <td>...</td>\n",
       "      <td>...</td>\n",
       "      <td>...</td>\n",
       "      <td>...</td>\n",
       "      <td>...</td>\n",
       "      <td>...</td>\n",
       "      <td>...</td>\n",
       "      <td>...</td>\n",
       "      <td>...</td>\n",
       "    </tr>\n",
       "    <tr>\n",
       "      <th>263</th>\n",
       "      <td>NaN</td>\n",
       "      <td>influent</td>\n",
       "      <td>NaN</td>\n",
       "      <td>NaN</td>\n",
       "      <td>NaN</td>\n",
       "      <td>NaN</td>\n",
       "      <td>NaN</td>\n",
       "      <td>NaN</td>\n",
       "      <td>NaN</td>\n",
       "    </tr>\n",
       "    <tr>\n",
       "      <th>264</th>\n",
       "      <td>NaN</td>\n",
       "      <td>influent</td>\n",
       "      <td>NaN</td>\n",
       "      <td>NaN</td>\n",
       "      <td>NaN</td>\n",
       "      <td>NaN</td>\n",
       "      <td>NaN</td>\n",
       "      <td>NaN</td>\n",
       "      <td>NaN</td>\n",
       "    </tr>\n",
       "    <tr>\n",
       "      <th>265</th>\n",
       "      <td>NaN</td>\n",
       "      <td>influent</td>\n",
       "      <td>NaN</td>\n",
       "      <td>NaN</td>\n",
       "      <td>NaN</td>\n",
       "      <td>NaN</td>\n",
       "      <td>NaN</td>\n",
       "      <td>NaN</td>\n",
       "      <td>NaN</td>\n",
       "    </tr>\n",
       "    <tr>\n",
       "      <th>266</th>\n",
       "      <td>NaN</td>\n",
       "      <td>influent</td>\n",
       "      <td>NaN</td>\n",
       "      <td>NaN</td>\n",
       "      <td>NaN</td>\n",
       "      <td>NaN</td>\n",
       "      <td>NaN</td>\n",
       "      <td>NaN</td>\n",
       "      <td>NaN</td>\n",
       "    </tr>\n",
       "    <tr>\n",
       "      <th>267</th>\n",
       "      <td>NaN</td>\n",
       "      <td>influent</td>\n",
       "      <td>NaN</td>\n",
       "      <td>NaN</td>\n",
       "      <td>NaN</td>\n",
       "      <td>NaN</td>\n",
       "      <td>NaN</td>\n",
       "      <td>NaN</td>\n",
       "      <td>NaN</td>\n",
       "    </tr>\n",
       "  </tbody>\n",
       "</table>\n",
       "<p>268 rows × 9 columns</p>\n",
       "</div>"
      ],
      "text/plain": [
       "                    date     stage  temp   PH    COD    BOD     TDS    TSS  \\\n",
       "0    2018-03-01 00:00:00  influent  17.0  7.5  610.0  355.0  1460.0  310.0   \n",
       "1              17/1/2018  influent  14.5  7.8  530.0  275.0  1453.0  255.0   \n",
       "2              27/1/2018  influent  13.7  7.4  730.0  380.0  1813.0  320.0   \n",
       "3    2018-01-02 00:00:00  influent  14.0  6.9  675.0  385.0  1520.0  340.0   \n",
       "4    2018-08-02 00:00:00  influent  17.6  6.8  710.0  395.0  1593.0  350.0   \n",
       "..                   ...       ...   ...  ...    ...    ...     ...    ...   \n",
       "263                  NaN  influent   NaN  NaN    NaN    NaN     NaN    NaN   \n",
       "264                  NaN  influent   NaN  NaN    NaN    NaN     NaN    NaN   \n",
       "265                  NaN  influent   NaN  NaN    NaN    NaN     NaN    NaN   \n",
       "266                  NaN  influent   NaN  NaN    NaN    NaN     NaN    NaN   \n",
       "267                  NaN  influent   NaN  NaN    NaN    NaN     NaN    NaN   \n",
       "\n",
       "    The efficiency of the bod  \n",
       "0                           n  \n",
       "1                    0.723944  \n",
       "2                    0.752727  \n",
       "3                    0.815789  \n",
       "4                    0.977403  \n",
       "..                        ...  \n",
       "263                       NaN  \n",
       "264                       NaN  \n",
       "265                       NaN  \n",
       "266                       NaN  \n",
       "267                       NaN  \n",
       "\n",
       "[268 rows x 9 columns]"
      ]
     },
     "execution_count": 3,
     "metadata": {},
     "output_type": "execute_result"
    }
   ],
   "source": [
    "df"
   ]
  },
  {
   "cell_type": "markdown",
   "metadata": {},
   "source": [
    "### Check For Missing Data "
   ]
  },
  {
   "cell_type": "code",
   "execution_count": 4,
   "metadata": {},
   "outputs": [
    {
     "name": "stdout",
     "output_type": "stream",
     "text": [
      "TSS                          155\n",
      "The efficiency of the bod    154\n",
      "TDS                          154\n",
      "BOD                          154\n",
      "COD                          154\n",
      "PH                           154\n",
      "temp                         154\n",
      "date                         154\n",
      "stage                          0\n",
      "dtype: int64\n"
     ]
    }
   ],
   "source": [
    "print(df.isnull().sum().sort_values(ascending=False))"
   ]
  },
  {
   "cell_type": "markdown",
   "metadata": {},
   "source": [
    "### Drop Rows with None Values "
   ]
  },
  {
   "cell_type": "code",
   "execution_count": 5,
   "metadata": {},
   "outputs": [
    {
     "data": {
      "text/html": [
       "<div>\n",
       "<style scoped>\n",
       "    .dataframe tbody tr th:only-of-type {\n",
       "        vertical-align: middle;\n",
       "    }\n",
       "\n",
       "    .dataframe tbody tr th {\n",
       "        vertical-align: top;\n",
       "    }\n",
       "\n",
       "    .dataframe thead th {\n",
       "        text-align: right;\n",
       "    }\n",
       "</style>\n",
       "<table border=\"1\" class=\"dataframe\">\n",
       "  <thead>\n",
       "    <tr style=\"text-align: right;\">\n",
       "      <th></th>\n",
       "      <th>date</th>\n",
       "      <th>stage</th>\n",
       "      <th>temp</th>\n",
       "      <th>PH</th>\n",
       "      <th>COD</th>\n",
       "      <th>BOD</th>\n",
       "      <th>TDS</th>\n",
       "      <th>TSS</th>\n",
       "      <th>The efficiency of the bod</th>\n",
       "    </tr>\n",
       "  </thead>\n",
       "  <tbody>\n",
       "    <tr>\n",
       "      <th>0</th>\n",
       "      <td>2018-03-01 00:00:00</td>\n",
       "      <td>influent</td>\n",
       "      <td>17.0</td>\n",
       "      <td>7.50</td>\n",
       "      <td>610.0</td>\n",
       "      <td>355.0</td>\n",
       "      <td>1460.0</td>\n",
       "      <td>310.0</td>\n",
       "      <td>n</td>\n",
       "    </tr>\n",
       "    <tr>\n",
       "      <th>1</th>\n",
       "      <td>17/1/2018</td>\n",
       "      <td>influent</td>\n",
       "      <td>14.5</td>\n",
       "      <td>7.80</td>\n",
       "      <td>530.0</td>\n",
       "      <td>275.0</td>\n",
       "      <td>1453.0</td>\n",
       "      <td>255.0</td>\n",
       "      <td>0.723944</td>\n",
       "    </tr>\n",
       "    <tr>\n",
       "      <th>2</th>\n",
       "      <td>27/1/2018</td>\n",
       "      <td>influent</td>\n",
       "      <td>13.7</td>\n",
       "      <td>7.40</td>\n",
       "      <td>730.0</td>\n",
       "      <td>380.0</td>\n",
       "      <td>1813.0</td>\n",
       "      <td>320.0</td>\n",
       "      <td>0.752727</td>\n",
       "    </tr>\n",
       "    <tr>\n",
       "      <th>3</th>\n",
       "      <td>2018-01-02 00:00:00</td>\n",
       "      <td>influent</td>\n",
       "      <td>14.0</td>\n",
       "      <td>6.90</td>\n",
       "      <td>675.0</td>\n",
       "      <td>385.0</td>\n",
       "      <td>1520.0</td>\n",
       "      <td>340.0</td>\n",
       "      <td>0.815789</td>\n",
       "    </tr>\n",
       "    <tr>\n",
       "      <th>4</th>\n",
       "      <td>2018-08-02 00:00:00</td>\n",
       "      <td>influent</td>\n",
       "      <td>17.6</td>\n",
       "      <td>6.80</td>\n",
       "      <td>710.0</td>\n",
       "      <td>395.0</td>\n",
       "      <td>1593.0</td>\n",
       "      <td>350.0</td>\n",
       "      <td>0.977403</td>\n",
       "    </tr>\n",
       "    <tr>\n",
       "      <th>...</th>\n",
       "      <td>...</td>\n",
       "      <td>...</td>\n",
       "      <td>...</td>\n",
       "      <td>...</td>\n",
       "      <td>...</td>\n",
       "      <td>...</td>\n",
       "      <td>...</td>\n",
       "      <td>...</td>\n",
       "      <td>...</td>\n",
       "    </tr>\n",
       "    <tr>\n",
       "      <th>109</th>\n",
       "      <td>2020-05-07 00:00:00</td>\n",
       "      <td>influent</td>\n",
       "      <td>28.4</td>\n",
       "      <td>6.82</td>\n",
       "      <td>704.0</td>\n",
       "      <td>410.0</td>\n",
       "      <td>1315.0</td>\n",
       "      <td>372.0</td>\n",
       "      <td>0.744966</td>\n",
       "    </tr>\n",
       "    <tr>\n",
       "      <th>110</th>\n",
       "      <td>2020-12-07 00:00:00</td>\n",
       "      <td>influent</td>\n",
       "      <td>25.5</td>\n",
       "      <td>6.93</td>\n",
       "      <td>737.0</td>\n",
       "      <td>310.0</td>\n",
       "      <td>1260.0</td>\n",
       "      <td>345.0</td>\n",
       "      <td>0.921951</td>\n",
       "    </tr>\n",
       "    <tr>\n",
       "      <th>111</th>\n",
       "      <td>19/7/2020</td>\n",
       "      <td>influent</td>\n",
       "      <td>26.1</td>\n",
       "      <td>7.36</td>\n",
       "      <td>610.0</td>\n",
       "      <td>340.0</td>\n",
       "      <td>2330.0</td>\n",
       "      <td>278.0</td>\n",
       "      <td>0.832258</td>\n",
       "    </tr>\n",
       "    <tr>\n",
       "      <th>112</th>\n",
       "      <td>19/8/2020</td>\n",
       "      <td>influent</td>\n",
       "      <td>28.9</td>\n",
       "      <td>7.27</td>\n",
       "      <td>650.0</td>\n",
       "      <td>321.0</td>\n",
       "      <td>1130.0</td>\n",
       "      <td>790.0</td>\n",
       "      <td>0.876471</td>\n",
       "    </tr>\n",
       "    <tr>\n",
       "      <th>113</th>\n",
       "      <td>27/8/2020</td>\n",
       "      <td>influent</td>\n",
       "      <td>29.0</td>\n",
       "      <td>7.58</td>\n",
       "      <td>670.0</td>\n",
       "      <td>318.0</td>\n",
       "      <td>972.0</td>\n",
       "      <td>250.0</td>\n",
       "      <td>0.775701</td>\n",
       "    </tr>\n",
       "  </tbody>\n",
       "</table>\n",
       "<p>113 rows × 9 columns</p>\n",
       "</div>"
      ],
      "text/plain": [
       "                    date     stage  temp    PH    COD    BOD     TDS    TSS  \\\n",
       "0    2018-03-01 00:00:00  influent  17.0  7.50  610.0  355.0  1460.0  310.0   \n",
       "1              17/1/2018  influent  14.5  7.80  530.0  275.0  1453.0  255.0   \n",
       "2              27/1/2018  influent  13.7  7.40  730.0  380.0  1813.0  320.0   \n",
       "3    2018-01-02 00:00:00  influent  14.0  6.90  675.0  385.0  1520.0  340.0   \n",
       "4    2018-08-02 00:00:00  influent  17.6  6.80  710.0  395.0  1593.0  350.0   \n",
       "..                   ...       ...   ...   ...    ...    ...     ...    ...   \n",
       "109  2020-05-07 00:00:00  influent  28.4  6.82  704.0  410.0  1315.0  372.0   \n",
       "110  2020-12-07 00:00:00  influent  25.5  6.93  737.0  310.0  1260.0  345.0   \n",
       "111            19/7/2020  influent  26.1  7.36  610.0  340.0  2330.0  278.0   \n",
       "112            19/8/2020  influent  28.9  7.27  650.0  321.0  1130.0  790.0   \n",
       "113            27/8/2020  influent  29.0  7.58  670.0  318.0   972.0  250.0   \n",
       "\n",
       "    The efficiency of the bod  \n",
       "0                           n  \n",
       "1                    0.723944  \n",
       "2                    0.752727  \n",
       "3                    0.815789  \n",
       "4                    0.977403  \n",
       "..                        ...  \n",
       "109                  0.744966  \n",
       "110                  0.921951  \n",
       "111                  0.832258  \n",
       "112                  0.876471  \n",
       "113                  0.775701  \n",
       "\n",
       "[113 rows x 9 columns]"
      ]
     },
     "execution_count": 5,
     "metadata": {},
     "output_type": "execute_result"
    }
   ],
   "source": [
    "df=df.dropna()\n",
    "df"
   ]
  },
  {
   "cell_type": "markdown",
   "metadata": {},
   "source": [
    "### Correct Index"
   ]
  },
  {
   "cell_type": "code",
   "execution_count": 6,
   "metadata": {},
   "outputs": [
    {
     "data": {
      "text/html": [
       "<div>\n",
       "<style scoped>\n",
       "    .dataframe tbody tr th:only-of-type {\n",
       "        vertical-align: middle;\n",
       "    }\n",
       "\n",
       "    .dataframe tbody tr th {\n",
       "        vertical-align: top;\n",
       "    }\n",
       "\n",
       "    .dataframe thead th {\n",
       "        text-align: right;\n",
       "    }\n",
       "</style>\n",
       "<table border=\"1\" class=\"dataframe\">\n",
       "  <thead>\n",
       "    <tr style=\"text-align: right;\">\n",
       "      <th></th>\n",
       "      <th>date</th>\n",
       "      <th>stage</th>\n",
       "      <th>temp</th>\n",
       "      <th>PH</th>\n",
       "      <th>COD</th>\n",
       "      <th>BOD</th>\n",
       "      <th>TDS</th>\n",
       "      <th>TSS</th>\n",
       "      <th>The efficiency of the bod</th>\n",
       "    </tr>\n",
       "  </thead>\n",
       "  <tbody>\n",
       "    <tr>\n",
       "      <th>1</th>\n",
       "      <td>17/1/2018</td>\n",
       "      <td>influent</td>\n",
       "      <td>14.5</td>\n",
       "      <td>7.80</td>\n",
       "      <td>530.0</td>\n",
       "      <td>275.0</td>\n",
       "      <td>1453.0</td>\n",
       "      <td>255.0</td>\n",
       "      <td>0.723944</td>\n",
       "    </tr>\n",
       "    <tr>\n",
       "      <th>2</th>\n",
       "      <td>27/1/2018</td>\n",
       "      <td>influent</td>\n",
       "      <td>13.7</td>\n",
       "      <td>7.40</td>\n",
       "      <td>730.0</td>\n",
       "      <td>380.0</td>\n",
       "      <td>1813.0</td>\n",
       "      <td>320.0</td>\n",
       "      <td>0.752727</td>\n",
       "    </tr>\n",
       "    <tr>\n",
       "      <th>3</th>\n",
       "      <td>2018-01-02 00:00:00</td>\n",
       "      <td>influent</td>\n",
       "      <td>14.0</td>\n",
       "      <td>6.90</td>\n",
       "      <td>675.0</td>\n",
       "      <td>385.0</td>\n",
       "      <td>1520.0</td>\n",
       "      <td>340.0</td>\n",
       "      <td>0.815789</td>\n",
       "    </tr>\n",
       "    <tr>\n",
       "      <th>4</th>\n",
       "      <td>2018-08-02 00:00:00</td>\n",
       "      <td>influent</td>\n",
       "      <td>17.6</td>\n",
       "      <td>6.80</td>\n",
       "      <td>710.0</td>\n",
       "      <td>395.0</td>\n",
       "      <td>1593.0</td>\n",
       "      <td>350.0</td>\n",
       "      <td>0.977403</td>\n",
       "    </tr>\n",
       "    <tr>\n",
       "      <th>5</th>\n",
       "      <td>14/2/2018</td>\n",
       "      <td>influent</td>\n",
       "      <td>13.8</td>\n",
       "      <td>6.90</td>\n",
       "      <td>610.0</td>\n",
       "      <td>390.0</td>\n",
       "      <td>1221.0</td>\n",
       "      <td>345.0</td>\n",
       "      <td>0.802532</td>\n",
       "    </tr>\n",
       "    <tr>\n",
       "      <th>...</th>\n",
       "      <td>...</td>\n",
       "      <td>...</td>\n",
       "      <td>...</td>\n",
       "      <td>...</td>\n",
       "      <td>...</td>\n",
       "      <td>...</td>\n",
       "      <td>...</td>\n",
       "      <td>...</td>\n",
       "      <td>...</td>\n",
       "    </tr>\n",
       "    <tr>\n",
       "      <th>108</th>\n",
       "      <td>2020-05-07 00:00:00</td>\n",
       "      <td>influent</td>\n",
       "      <td>28.4</td>\n",
       "      <td>6.82</td>\n",
       "      <td>704.0</td>\n",
       "      <td>410.0</td>\n",
       "      <td>1315.0</td>\n",
       "      <td>372.0</td>\n",
       "      <td>0.744966</td>\n",
       "    </tr>\n",
       "    <tr>\n",
       "      <th>109</th>\n",
       "      <td>2020-12-07 00:00:00</td>\n",
       "      <td>influent</td>\n",
       "      <td>25.5</td>\n",
       "      <td>6.93</td>\n",
       "      <td>737.0</td>\n",
       "      <td>310.0</td>\n",
       "      <td>1260.0</td>\n",
       "      <td>345.0</td>\n",
       "      <td>0.921951</td>\n",
       "    </tr>\n",
       "    <tr>\n",
       "      <th>110</th>\n",
       "      <td>19/7/2020</td>\n",
       "      <td>influent</td>\n",
       "      <td>26.1</td>\n",
       "      <td>7.36</td>\n",
       "      <td>610.0</td>\n",
       "      <td>340.0</td>\n",
       "      <td>2330.0</td>\n",
       "      <td>278.0</td>\n",
       "      <td>0.832258</td>\n",
       "    </tr>\n",
       "    <tr>\n",
       "      <th>111</th>\n",
       "      <td>19/8/2020</td>\n",
       "      <td>influent</td>\n",
       "      <td>28.9</td>\n",
       "      <td>7.27</td>\n",
       "      <td>650.0</td>\n",
       "      <td>321.0</td>\n",
       "      <td>1130.0</td>\n",
       "      <td>790.0</td>\n",
       "      <td>0.876471</td>\n",
       "    </tr>\n",
       "    <tr>\n",
       "      <th>112</th>\n",
       "      <td>27/8/2020</td>\n",
       "      <td>influent</td>\n",
       "      <td>29.0</td>\n",
       "      <td>7.58</td>\n",
       "      <td>670.0</td>\n",
       "      <td>318.0</td>\n",
       "      <td>972.0</td>\n",
       "      <td>250.0</td>\n",
       "      <td>0.775701</td>\n",
       "    </tr>\n",
       "  </tbody>\n",
       "</table>\n",
       "<p>112 rows × 9 columns</p>\n",
       "</div>"
      ],
      "text/plain": [
       "                    date     stage  temp    PH    COD    BOD     TDS    TSS  \\\n",
       "1              17/1/2018  influent  14.5  7.80  530.0  275.0  1453.0  255.0   \n",
       "2              27/1/2018  influent  13.7  7.40  730.0  380.0  1813.0  320.0   \n",
       "3    2018-01-02 00:00:00  influent  14.0  6.90  675.0  385.0  1520.0  340.0   \n",
       "4    2018-08-02 00:00:00  influent  17.6  6.80  710.0  395.0  1593.0  350.0   \n",
       "5              14/2/2018  influent  13.8  6.90  610.0  390.0  1221.0  345.0   \n",
       "..                   ...       ...   ...   ...    ...    ...     ...    ...   \n",
       "108  2020-05-07 00:00:00  influent  28.4  6.82  704.0  410.0  1315.0  372.0   \n",
       "109  2020-12-07 00:00:00  influent  25.5  6.93  737.0  310.0  1260.0  345.0   \n",
       "110            19/7/2020  influent  26.1  7.36  610.0  340.0  2330.0  278.0   \n",
       "111            19/8/2020  influent  28.9  7.27  650.0  321.0  1130.0  790.0   \n",
       "112            27/8/2020  influent  29.0  7.58  670.0  318.0   972.0  250.0   \n",
       "\n",
       "    The efficiency of the bod  \n",
       "1                    0.723944  \n",
       "2                    0.752727  \n",
       "3                    0.815789  \n",
       "4                    0.977403  \n",
       "5                    0.802532  \n",
       "..                        ...  \n",
       "108                  0.744966  \n",
       "109                  0.921951  \n",
       "110                  0.832258  \n",
       "111                  0.876471  \n",
       "112                  0.775701  \n",
       "\n",
       "[112 rows x 9 columns]"
      ]
     },
     "execution_count": 6,
     "metadata": {},
     "output_type": "execute_result"
    }
   ],
   "source": [
    "df=df.reset_index(drop=True)\n",
    "df=df[1:]\n",
    "df"
   ]
  },
  {
   "cell_type": "markdown",
   "metadata": {},
   "source": [
    "### Describe Your Data\n"
   ]
  },
  {
   "cell_type": "code",
   "execution_count": 7,
   "metadata": {},
   "outputs": [
    {
     "data": {
      "text/html": [
       "<div>\n",
       "<style scoped>\n",
       "    .dataframe tbody tr th:only-of-type {\n",
       "        vertical-align: middle;\n",
       "    }\n",
       "\n",
       "    .dataframe tbody tr th {\n",
       "        vertical-align: top;\n",
       "    }\n",
       "\n",
       "    .dataframe thead th {\n",
       "        text-align: right;\n",
       "    }\n",
       "</style>\n",
       "<table border=\"1\" class=\"dataframe\">\n",
       "  <thead>\n",
       "    <tr style=\"text-align: right;\">\n",
       "      <th></th>\n",
       "      <th>temp</th>\n",
       "      <th>PH</th>\n",
       "      <th>COD</th>\n",
       "      <th>BOD</th>\n",
       "      <th>TDS</th>\n",
       "      <th>TSS</th>\n",
       "    </tr>\n",
       "  </thead>\n",
       "  <tbody>\n",
       "    <tr>\n",
       "      <th>count</th>\n",
       "      <td>112.000000</td>\n",
       "      <td>112.000000</td>\n",
       "      <td>112.000000</td>\n",
       "      <td>112.000000</td>\n",
       "      <td>112.000000</td>\n",
       "      <td>112.000000</td>\n",
       "    </tr>\n",
       "    <tr>\n",
       "      <th>mean</th>\n",
       "      <td>22.740179</td>\n",
       "      <td>7.033214</td>\n",
       "      <td>671.285714</td>\n",
       "      <td>386.321429</td>\n",
       "      <td>1237.535714</td>\n",
       "      <td>341.428571</td>\n",
       "    </tr>\n",
       "    <tr>\n",
       "      <th>std</th>\n",
       "      <td>4.820386</td>\n",
       "      <td>0.498770</td>\n",
       "      <td>149.533715</td>\n",
       "      <td>84.062527</td>\n",
       "      <td>326.834336</td>\n",
       "      <td>110.710621</td>\n",
       "    </tr>\n",
       "    <tr>\n",
       "      <th>min</th>\n",
       "      <td>13.700000</td>\n",
       "      <td>3.670000</td>\n",
       "      <td>60.000000</td>\n",
       "      <td>130.000000</td>\n",
       "      <td>111.000000</td>\n",
       "      <td>93.000000</td>\n",
       "    </tr>\n",
       "    <tr>\n",
       "      <th>25%</th>\n",
       "      <td>18.175000</td>\n",
       "      <td>6.800000</td>\n",
       "      <td>610.000000</td>\n",
       "      <td>337.000000</td>\n",
       "      <td>1032.500000</td>\n",
       "      <td>250.000000</td>\n",
       "    </tr>\n",
       "    <tr>\n",
       "      <th>50%</th>\n",
       "      <td>23.550000</td>\n",
       "      <td>7.100000</td>\n",
       "      <td>690.000000</td>\n",
       "      <td>390.000000</td>\n",
       "      <td>1236.000000</td>\n",
       "      <td>345.000000</td>\n",
       "    </tr>\n",
       "    <tr>\n",
       "      <th>75%</th>\n",
       "      <td>27.050000</td>\n",
       "      <td>7.280000</td>\n",
       "      <td>752.500000</td>\n",
       "      <td>430.000000</td>\n",
       "      <td>1432.000000</td>\n",
       "      <td>406.000000</td>\n",
       "    </tr>\n",
       "    <tr>\n",
       "      <th>max</th>\n",
       "      <td>34.000000</td>\n",
       "      <td>8.630000</td>\n",
       "      <td>1040.000000</td>\n",
       "      <td>570.000000</td>\n",
       "      <td>2330.000000</td>\n",
       "      <td>790.000000</td>\n",
       "    </tr>\n",
       "  </tbody>\n",
       "</table>\n",
       "</div>"
      ],
      "text/plain": [
       "             temp          PH          COD         BOD          TDS  \\\n",
       "count  112.000000  112.000000   112.000000  112.000000   112.000000   \n",
       "mean    22.740179    7.033214   671.285714  386.321429  1237.535714   \n",
       "std      4.820386    0.498770   149.533715   84.062527   326.834336   \n",
       "min     13.700000    3.670000    60.000000  130.000000   111.000000   \n",
       "25%     18.175000    6.800000   610.000000  337.000000  1032.500000   \n",
       "50%     23.550000    7.100000   690.000000  390.000000  1236.000000   \n",
       "75%     27.050000    7.280000   752.500000  430.000000  1432.000000   \n",
       "max     34.000000    8.630000  1040.000000  570.000000  2330.000000   \n",
       "\n",
       "              TSS  \n",
       "count  112.000000  \n",
       "mean   341.428571  \n",
       "std    110.710621  \n",
       "min     93.000000  \n",
       "25%    250.000000  \n",
       "50%    345.000000  \n",
       "75%    406.000000  \n",
       "max    790.000000  "
      ]
     },
     "execution_count": 7,
     "metadata": {},
     "output_type": "execute_result"
    }
   ],
   "source": [
    "df.describe()"
   ]
  },
  {
   "cell_type": "code",
   "execution_count": 8,
   "metadata": {},
   "outputs": [
    {
     "data": {
      "text/plain": [
       "array(['influent', 'influent', 'influent', 'influent', 'influent',\n",
       "       'influent', 'influent', 'influent', 'influent', 'influent',\n",
       "       'influent', 'influent', 'influent', 'influent', 'influent',\n",
       "       'influent', 'influent', 'influent', 'influent', 'influent',\n",
       "       'influent', 'influent', 'influent', 'influent', 'influent',\n",
       "       'influent', 'influent', 'influent', 'influent', 'influent',\n",
       "       'influent', 'influent', 'influent', 'influent', 'influent',\n",
       "       'influent', 'influent', 'influent', 'influent', 'influent',\n",
       "       'influent', 'influent', 'influent', 'influent', 'influent',\n",
       "       'influent', 'influent', 'influent', 'influent', 'influent',\n",
       "       'influent', 'influent', 'influent', 'influent', 'influent',\n",
       "       'influent', 'influent', 'influent', 'influent', 'influent',\n",
       "       'influent', 'influent', 'influent', 'influent', 'influent',\n",
       "       'influent', 'influent', 'influent', 'influent', 'influent',\n",
       "       'influent', 'influent', 'influent', 'influent', 'influent',\n",
       "       'influent', 'influent', 'influent', 'influent', 'influent',\n",
       "       'influent', 'influent', 'influent', 'influent', 'influent',\n",
       "       'influent', 'influent', 'influent', 'influent', 'influent',\n",
       "       'influent', 'influent', 'influent', 'influent', 'influent',\n",
       "       'influent', 'influent', 'influent', 'influent', 'influent',\n",
       "       'influent', 'influent', 'influent', 'influent', 'influent',\n",
       "       'influent', 'influent', 'influent', 'influent', 'influent',\n",
       "       'influent', 'influent'], dtype=object)"
      ]
     },
     "execution_count": 8,
     "metadata": {},
     "output_type": "execute_result"
    }
   ],
   "source": [
    "df['stage'].values"
   ]
  },
  {
   "cell_type": "markdown",
   "metadata": {},
   "source": [
    "> All the Column has the same Value  so we will drop it"
   ]
  },
  {
   "cell_type": "markdown",
   "metadata": {},
   "source": [
    "#### Drop Specific Columns"
   ]
  },
  {
   "cell_type": "code",
   "execution_count": 9,
   "metadata": {},
   "outputs": [
    {
     "data": {
      "text/html": [
       "<div>\n",
       "<style scoped>\n",
       "    .dataframe tbody tr th:only-of-type {\n",
       "        vertical-align: middle;\n",
       "    }\n",
       "\n",
       "    .dataframe tbody tr th {\n",
       "        vertical-align: top;\n",
       "    }\n",
       "\n",
       "    .dataframe thead th {\n",
       "        text-align: right;\n",
       "    }\n",
       "</style>\n",
       "<table border=\"1\" class=\"dataframe\">\n",
       "  <thead>\n",
       "    <tr style=\"text-align: right;\">\n",
       "      <th></th>\n",
       "      <th>date</th>\n",
       "      <th>temp</th>\n",
       "      <th>PH</th>\n",
       "      <th>COD</th>\n",
       "      <th>BOD</th>\n",
       "      <th>TDS</th>\n",
       "      <th>TSS</th>\n",
       "      <th>The efficiency of the bod</th>\n",
       "    </tr>\n",
       "  </thead>\n",
       "  <tbody>\n",
       "    <tr>\n",
       "      <th>1</th>\n",
       "      <td>17/1/2018</td>\n",
       "      <td>14.5</td>\n",
       "      <td>7.80</td>\n",
       "      <td>530.0</td>\n",
       "      <td>275.0</td>\n",
       "      <td>1453.0</td>\n",
       "      <td>255.0</td>\n",
       "      <td>0.723944</td>\n",
       "    </tr>\n",
       "    <tr>\n",
       "      <th>2</th>\n",
       "      <td>27/1/2018</td>\n",
       "      <td>13.7</td>\n",
       "      <td>7.40</td>\n",
       "      <td>730.0</td>\n",
       "      <td>380.0</td>\n",
       "      <td>1813.0</td>\n",
       "      <td>320.0</td>\n",
       "      <td>0.752727</td>\n",
       "    </tr>\n",
       "    <tr>\n",
       "      <th>3</th>\n",
       "      <td>2018-01-02 00:00:00</td>\n",
       "      <td>14.0</td>\n",
       "      <td>6.90</td>\n",
       "      <td>675.0</td>\n",
       "      <td>385.0</td>\n",
       "      <td>1520.0</td>\n",
       "      <td>340.0</td>\n",
       "      <td>0.815789</td>\n",
       "    </tr>\n",
       "    <tr>\n",
       "      <th>4</th>\n",
       "      <td>2018-08-02 00:00:00</td>\n",
       "      <td>17.6</td>\n",
       "      <td>6.80</td>\n",
       "      <td>710.0</td>\n",
       "      <td>395.0</td>\n",
       "      <td>1593.0</td>\n",
       "      <td>350.0</td>\n",
       "      <td>0.977403</td>\n",
       "    </tr>\n",
       "    <tr>\n",
       "      <th>5</th>\n",
       "      <td>14/2/2018</td>\n",
       "      <td>13.8</td>\n",
       "      <td>6.90</td>\n",
       "      <td>610.0</td>\n",
       "      <td>390.0</td>\n",
       "      <td>1221.0</td>\n",
       "      <td>345.0</td>\n",
       "      <td>0.802532</td>\n",
       "    </tr>\n",
       "    <tr>\n",
       "      <th>...</th>\n",
       "      <td>...</td>\n",
       "      <td>...</td>\n",
       "      <td>...</td>\n",
       "      <td>...</td>\n",
       "      <td>...</td>\n",
       "      <td>...</td>\n",
       "      <td>...</td>\n",
       "      <td>...</td>\n",
       "    </tr>\n",
       "    <tr>\n",
       "      <th>108</th>\n",
       "      <td>2020-05-07 00:00:00</td>\n",
       "      <td>28.4</td>\n",
       "      <td>6.82</td>\n",
       "      <td>704.0</td>\n",
       "      <td>410.0</td>\n",
       "      <td>1315.0</td>\n",
       "      <td>372.0</td>\n",
       "      <td>0.744966</td>\n",
       "    </tr>\n",
       "    <tr>\n",
       "      <th>109</th>\n",
       "      <td>2020-12-07 00:00:00</td>\n",
       "      <td>25.5</td>\n",
       "      <td>6.93</td>\n",
       "      <td>737.0</td>\n",
       "      <td>310.0</td>\n",
       "      <td>1260.0</td>\n",
       "      <td>345.0</td>\n",
       "      <td>0.921951</td>\n",
       "    </tr>\n",
       "    <tr>\n",
       "      <th>110</th>\n",
       "      <td>19/7/2020</td>\n",
       "      <td>26.1</td>\n",
       "      <td>7.36</td>\n",
       "      <td>610.0</td>\n",
       "      <td>340.0</td>\n",
       "      <td>2330.0</td>\n",
       "      <td>278.0</td>\n",
       "      <td>0.832258</td>\n",
       "    </tr>\n",
       "    <tr>\n",
       "      <th>111</th>\n",
       "      <td>19/8/2020</td>\n",
       "      <td>28.9</td>\n",
       "      <td>7.27</td>\n",
       "      <td>650.0</td>\n",
       "      <td>321.0</td>\n",
       "      <td>1130.0</td>\n",
       "      <td>790.0</td>\n",
       "      <td>0.876471</td>\n",
       "    </tr>\n",
       "    <tr>\n",
       "      <th>112</th>\n",
       "      <td>27/8/2020</td>\n",
       "      <td>29.0</td>\n",
       "      <td>7.58</td>\n",
       "      <td>670.0</td>\n",
       "      <td>318.0</td>\n",
       "      <td>972.0</td>\n",
       "      <td>250.0</td>\n",
       "      <td>0.775701</td>\n",
       "    </tr>\n",
       "  </tbody>\n",
       "</table>\n",
       "<p>112 rows × 8 columns</p>\n",
       "</div>"
      ],
      "text/plain": [
       "                    date  temp    PH    COD    BOD     TDS    TSS  \\\n",
       "1              17/1/2018  14.5  7.80  530.0  275.0  1453.0  255.0   \n",
       "2              27/1/2018  13.7  7.40  730.0  380.0  1813.0  320.0   \n",
       "3    2018-01-02 00:00:00  14.0  6.90  675.0  385.0  1520.0  340.0   \n",
       "4    2018-08-02 00:00:00  17.6  6.80  710.0  395.0  1593.0  350.0   \n",
       "5              14/2/2018  13.8  6.90  610.0  390.0  1221.0  345.0   \n",
       "..                   ...   ...   ...    ...    ...     ...    ...   \n",
       "108  2020-05-07 00:00:00  28.4  6.82  704.0  410.0  1315.0  372.0   \n",
       "109  2020-12-07 00:00:00  25.5  6.93  737.0  310.0  1260.0  345.0   \n",
       "110            19/7/2020  26.1  7.36  610.0  340.0  2330.0  278.0   \n",
       "111            19/8/2020  28.9  7.27  650.0  321.0  1130.0  790.0   \n",
       "112            27/8/2020  29.0  7.58  670.0  318.0   972.0  250.0   \n",
       "\n",
       "    The efficiency of the bod  \n",
       "1                    0.723944  \n",
       "2                    0.752727  \n",
       "3                    0.815789  \n",
       "4                    0.977403  \n",
       "5                    0.802532  \n",
       "..                        ...  \n",
       "108                  0.744966  \n",
       "109                  0.921951  \n",
       "110                  0.832258  \n",
       "111                  0.876471  \n",
       "112                  0.775701  \n",
       "\n",
       "[112 rows x 8 columns]"
      ]
     },
     "execution_count": 9,
     "metadata": {},
     "output_type": "execute_result"
    }
   ],
   "source": [
    "df=df.drop(['stage'], 1)\n",
    "df"
   ]
  },
  {
   "cell_type": "markdown",
   "metadata": {},
   "source": [
    "## Seaborn Routine"
   ]
  },
  {
   "cell_type": "markdown",
   "metadata": {},
   "source": [
    "### Heat Map"
   ]
  },
  {
   "cell_type": "code",
   "execution_count": 10,
   "metadata": {},
   "outputs": [
    {
     "data": {
      "image/png": "[encoded data removed]",
      "text/plain": [
       "<Figure size 1152x720 with 2 Axes>"
      ]
     },
     "metadata": {},
     "output_type": "display_data"
    }
   ],
   "source": [
    "plt.figure(figsize = (16,10))\n",
    "sns_plot=sns.heatmap(df.corr(),annot= True)\n",
    "plt.show()"
   ]
  },
  {
   "cell_type": "code",
   "execution_count": 11,
   "metadata": {},
   "outputs": [
    {
     "data": {
      "image/png": "[encoded data removed]",
      "text/plain": [
       "<Figure size 432x288 with 1 Axes>"
      ]
     },
     "metadata": {},
     "output_type": "display_data"
    }
   ],
   "source": [
    "sns_plot = sns.lineplot(x='COD', y='BOD', data=df)\n"
   ]
  },
  {
   "cell_type": "code",
   "execution_count": 12,
   "metadata": {},
   "outputs": [
    {
     "data": {
      "image/png": "[encoded data removed]",
      "text/plain": [
       "<Figure size 432x288 with 1 Axes>"
      ]
     },
     "metadata": {},
     "output_type": "display_data"
    }
   ],
   "source": [
    "sns_plot = sns.lineplot(x='TSS', y='BOD', data=df)\n"
   ]
  },
  {
   "cell_type": "markdown",
   "metadata": {},
   "source": [
    "> yes  yes  ... All Females Survived Except one "
   ]
  },
  {
   "cell_type": "code",
   "execution_count": 17,
   "metadata": {},
   "outputs": [
    {
     "data": {
      "image/png": "[encoded data removed]",
      "text/plain": [
       "<Figure size 432x288 with 1 Axes>"
      ]
     },
     "metadata": {},
     "output_type": "display_data"
    }
   ],
   "source": [
    "sns_plot = sns.lineplot(x='PH', y='BOD', data=df)\n"
   ]
  },
  {
   "cell_type": "code",
   "execution_count": 18,
   "metadata": {},
   "outputs": [
    {
     "data": {
      "image/png": "[encoded data removed]",
      "text/plain": [
       "<Figure size 432x288 with 1 Axes>"
      ]
     },
     "metadata": {},
     "output_type": "display_data"
    }
   ],
   "source": [
    "sns_plot = sns.lineplot(x='temp', y='BOD', data=df)"
   ]
  },
  {
   "cell_type": "markdown",
   "metadata": {
    "slideshow": {
     "slide_type": "slide"
    }
   },
   "source": [
    "# 4. Data Preprocessing\n"
   ]
  },
  {
   "cell_type": "markdown",
   "metadata": {},
   "source": [
    "## Splitting Data "
   ]
  },
  {
   "cell_type": "code",
   "execution_count": 19,
   "metadata": {},
   "outputs": [],
   "source": [
    "y=df['BOD']\n",
    "X=df.drop(['BOD','date'],1)"
   ]
  },
  {
   "cell_type": "code",
   "execution_count": 22,
   "metadata": {},
   "outputs": [],
   "source": [
    "X_train,X_test,y_train,y_test =train_test_split(X,y , test_size=0.1,random_state=440)"
   ]
  },
  {
   "cell_type": "markdown",
   "metadata": {},
   "source": [
    "## Standardization"
   ]
  },
  {
   "cell_type": "code",
   "execution_count": 23,
   "metadata": {},
   "outputs": [
    {
     "data": {
      "text/plain": [
       "1.0"
      ]
     },
     "execution_count": 23,
     "metadata": {},
     "output_type": "execute_result"
    }
   ],
   "source": [
    "scaler = StandardScaler()\n",
    "scaler.fit(X_train)\n",
    "X_train=scaler.transform(X_train)\n",
    "X_test=scaler.transform(X_test)\n",
    "np.std(X_train)"
   ]
  },
  {
   "cell_type": "markdown",
   "metadata": {},
   "source": [
    "# 5. Training Process"
   ]
  },
  {
   "cell_type": "code",
   "execution_count": 29,
   "metadata": {},
   "outputs": [],
   "source": [
    "reg1 = GradientBoostingRegressor(random_state=1)\n",
    "reg2 = RandomForestRegressor(random_state=1)\n",
    "\n",
    "reg2.fit(X_train, y_train)\n",
    "pred2=reg2.predict(X_test)\n"
   ]
  },
  {
   "cell_type": "code",
   "execution_count": 30,
   "metadata": {},
   "outputs": [
    {
     "name": "stdout",
     "output_type": "stream",
     "text": [
      " Mean Squared Error : 383.61410000000006\n",
      " Mean Absoulte Error : 16.74666666666667\n",
      " R2 Score : 0.9125780715733767\n"
     ]
    }
   ],
   "source": [
    "print(' Mean Squared Error :', mean_squared_error(y_test,pred2))\n",
    "print(' Mean Absoulte Error :', mean_absolute_error(y_test,pred2))\n",
    "print(' R2 Score :', r2_score(y_test,pred2))"
   ]
  },
  {
   "cell_type": "code",
   "execution_count": 31,
   "metadata": {},
   "outputs": [
    {
     "data": {
      "text/html": [
       "<div>\n",
       "<style scoped>\n",
       "    .dataframe tbody tr th:only-of-type {\n",
       "        vertical-align: middle;\n",
       "    }\n",
       "\n",
       "    .dataframe tbody tr th {\n",
       "        vertical-align: top;\n",
       "    }\n",
       "\n",
       "    .dataframe thead th {\n",
       "        text-align: right;\n",
       "    }\n",
       "</style>\n",
       "<table border=\"1\" class=\"dataframe\">\n",
       "  <thead>\n",
       "    <tr style=\"text-align: right;\">\n",
       "      <th></th>\n",
       "      <th>index</th>\n",
       "      <th>Actual BOD</th>\n",
       "      <th>Predicted BOD</th>\n",
       "      <th>Error</th>\n",
       "    </tr>\n",
       "  </thead>\n",
       "  <tbody>\n",
       "    <tr>\n",
       "      <th>0</th>\n",
       "      <td>6</td>\n",
       "      <td>230.0</td>\n",
       "      <td>241.0</td>\n",
       "      <td>11.05</td>\n",
       "    </tr>\n",
       "    <tr>\n",
       "      <th>1</th>\n",
       "      <td>9</td>\n",
       "      <td>260.0</td>\n",
       "      <td>269.0</td>\n",
       "      <td>9.00</td>\n",
       "    </tr>\n",
       "    <tr>\n",
       "      <th>2</th>\n",
       "      <td>1</td>\n",
       "      <td>310.0</td>\n",
       "      <td>274.0</td>\n",
       "      <td>36.00</td>\n",
       "    </tr>\n",
       "    <tr>\n",
       "      <th>3</th>\n",
       "      <td>8</td>\n",
       "      <td>380.0</td>\n",
       "      <td>406.0</td>\n",
       "      <td>26.29</td>\n",
       "    </tr>\n",
       "    <tr>\n",
       "      <th>4</th>\n",
       "      <td>0</td>\n",
       "      <td>385.0</td>\n",
       "      <td>390.0</td>\n",
       "      <td>5.46</td>\n",
       "    </tr>\n",
       "    <tr>\n",
       "      <th>5</th>\n",
       "      <td>7</td>\n",
       "      <td>385.0</td>\n",
       "      <td>394.0</td>\n",
       "      <td>9.29</td>\n",
       "    </tr>\n",
       "    <tr>\n",
       "      <th>6</th>\n",
       "      <td>4</td>\n",
       "      <td>392.0</td>\n",
       "      <td>389.0</td>\n",
       "      <td>3.12</td>\n",
       "    </tr>\n",
       "    <tr>\n",
       "      <th>7</th>\n",
       "      <td>11</td>\n",
       "      <td>395.0</td>\n",
       "      <td>421.0</td>\n",
       "      <td>26.20</td>\n",
       "    </tr>\n",
       "    <tr>\n",
       "      <th>8</th>\n",
       "      <td>2</td>\n",
       "      <td>400.0</td>\n",
       "      <td>376.0</td>\n",
       "      <td>24.10</td>\n",
       "    </tr>\n",
       "    <tr>\n",
       "      <th>9</th>\n",
       "      <td>5</td>\n",
       "      <td>420.0</td>\n",
       "      <td>410.0</td>\n",
       "      <td>10.50</td>\n",
       "    </tr>\n",
       "    <tr>\n",
       "      <th>10</th>\n",
       "      <td>3</td>\n",
       "      <td>432.0</td>\n",
       "      <td>459.0</td>\n",
       "      <td>27.45</td>\n",
       "    </tr>\n",
       "    <tr>\n",
       "      <th>11</th>\n",
       "      <td>10</td>\n",
       "      <td>462.0</td>\n",
       "      <td>450.0</td>\n",
       "      <td>12.50</td>\n",
       "    </tr>\n",
       "  </tbody>\n",
       "</table>\n",
       "</div>"
      ],
      "text/plain": [
       "    index  Actual BOD  Predicted BOD  Error\n",
       "0       6       230.0          241.0  11.05\n",
       "1       9       260.0          269.0   9.00\n",
       "2       1       310.0          274.0  36.00\n",
       "3       8       380.0          406.0  26.29\n",
       "4       0       385.0          390.0   5.46\n",
       "5       7       385.0          394.0   9.29\n",
       "6       4       392.0          389.0   3.12\n",
       "7      11       395.0          421.0  26.20\n",
       "8       2       400.0          376.0  24.10\n",
       "9       5       420.0          410.0  10.50\n",
       "10      3       432.0          459.0  27.45\n",
       "11     10       462.0          450.0  12.50"
      ]
     },
     "execution_count": 31,
     "metadata": {},
     "output_type": "execute_result"
    }
   ],
   "source": [
    "preds=np.round(pred2)\n",
    "err=abs(y_test-pred2)\n",
    "Preds=pd.DataFrame(preds)\n",
    "Actual=pd.DataFrame(y_test)\n",
    "\n",
    "Error =pd.DataFrame(err)\n",
    "Actual.reset_index(inplace=True)\n",
    "Preds.reset_index(inplace=True)\n",
    "Error.reset_index(inplace=True)\n",
    "Result = pd.concat([Actual, Preds,Error], axis=1)\n",
    "\n",
    "Result=Result.drop(['index'],1)\n",
    "Result.columns=['Actual BOD','Predicted BOD', \"Error\"]\n",
    "Result =Result.sort_values(by=['Actual BOD'])\n",
    "Result.reset_index(inplace=True)\n",
    "Result\n"
   ]
  },
  {
   "cell_type": "code",
   "execution_count": 32,
   "metadata": {},
   "outputs": [
    {
     "data": {
      "image/png": "[encoded data removed]",
      "text/plain": [
       "<Figure size 432x288 with 1 Axes>"
      ]
     },
     "metadata": {},
     "output_type": "display_data"
    }
   ],
   "source": [
    "import matplotlib.pyplot as plt\n",
    "_, ax = plt.subplots()\n",
    "y_pred=pred2\n",
    "ax.scatter(x = range(0, y_test.size), y=y_test, c = 'blue', label = 'Actual', alpha = 0.3)\n",
    "ax.scatter(x = range(0, y_pred.size), y=y_pred, c = 'red', label = 'Predicted', alpha = 0.3)\n",
    "\n",
    "plt.title('Actual and predicted values')\n",
    "plt.xlabel('Observations')\n",
    "plt.ylabel('BOD')\n",
    "plt.legend()\n",
    "plt.show()"
   ]
  },
  {
   "cell_type": "code",
   "execution_count": 33,
   "metadata": {},
   "outputs": [
    {
     "name": "stderr",
     "output_type": "stream",
     "text": [
      "C:\\Users\\DELL\\anaconda3\\lib\\site-packages\\sklearn\\base.py:197: FutureWarning: From version 0.24, get_params will raise an AttributeError if a parameter cannot be retrieved as an instance attribute. Previously it would return None.\n",
      "  FutureWarning)\n"
     ]
    },
    {
     "data": {
      "image/png": "[encoded data removed]",
      "text/plain": [
       "<Figure size 576x396 with 1 Axes>"
      ]
     },
     "metadata": {},
     "output_type": "display_data"
    },
    {
     "data": {
      "text/plain": [
       "<matplotlib.axes._subplots.AxesSubplot at 0x282b4b81c88>"
      ]
     },
     "execution_count": 33,
     "metadata": {},
     "output_type": "execute_result"
    }
   ],
   "source": [
    "from yellowbrick.model_selection import FeatureImportances\n",
    "model=reg2\n",
    "viz = FeatureImportances(model)\n",
    "viz.fit(X, y)\n",
    "viz.show()"
   ]
  },
  {
   "cell_type": "code",
   "execution_count": 34,
   "metadata": {},
   "outputs": [
    {
     "data": {
      "text/plain": [
       "<matplotlib.axes._subplots.AxesSubplot at 0x282b4c06148>"
      ]
     },
     "execution_count": 34,
     "metadata": {},
     "output_type": "execute_result"
    },
    {
     "data": {
      "image/png": "[encoded data removed]",
      "text/plain": [
       "<Figure size 720x360 with 1 Axes>"
      ]
     },
     "metadata": {},
     "output_type": "display_data"
    }
   ],
   "source": [
    "Result.plot(x=Result.index.name, y=['Actual BOD','Predicted BOD','Error'],figsize=(10,5), grid=True  )"
   ]
  },
  {
   "cell_type": "code",
   "execution_count": null,
   "metadata": {},
   "outputs": [],
   "source": []
  },
  {
   "cell_type": "code",
   "execution_count": null,
   "metadata": {},
   "outputs": [],
   "source": []
  }
 ],
 "metadata": {
  "kernelspec": {
   "display_name": "Python 3",
   "language": "python",
   "name": "python3"
  },
  "language_info": {
   "codemirror_mode": {
    "name": "ipython",
    "version": 3
   },
   "file_extension": ".py",
   "mimetype": "text/x-python",
   "name": "python",
   "nbconvert_exporter": "python",
   "pygments_lexer": "ipython3",
   "version": "3.7.6"
  }
 },
 "nbformat": 4,
 "nbformat_minor": 4
}
